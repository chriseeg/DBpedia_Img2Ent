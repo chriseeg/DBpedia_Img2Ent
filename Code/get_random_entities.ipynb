{
  "nbformat": 4,
  "nbformat_minor": 0,
  "metadata": {
    "colab": {
      "name": "get_random_entities.ipynb",
      "provenance": [],
      "collapsed_sections": [],
      "toc_visible": true,
      "authorship_tag": "ABX9TyM64tm/7PuFanqUhjlsK+Be"
    },
    "kernelspec": {
      "name": "python3",
      "display_name": "Python 3"
    }
  },
  "cells": [
    {
      "cell_type": "markdown",
      "metadata": {
        "id": "rgNPrqQ9zoy5",
        "colab_type": "text"
      },
      "source": [
        "##Initialization"
      ]
    },
    {
      "cell_type": "code",
      "metadata": {
        "id": "mthGf5M3wxzs",
        "colab_type": "code",
        "colab": {}
      },
      "source": [
        "import threading, re, sys, os, time, csv, requests, random, json, tempfile, math, itertools, google.auth, urllib.request\n",
        "import pandas as pd\n",
        "import numpy as np\n",
        "from urllib.request import urlopen \n",
        "from six.moves.urllib.request import urlopen\n",
        "from SPARQLWrapper import SPARQLWrapper, JSON\n",
        "from lxml import html\n",
        "from bs4 import BeautifulSoup\n",
        "from google.colab import drive\n",
        "from google.cloud import storage\n",
        "from google.colab import auth\n",
        "from datetime import datetime\n",
        "from six import BytesIO\n",
        "from PIL import Image\n",
        "\n",
        "sparql = SPARQLWrapper(\"http://dbpedia.org/sparql\") \n",
        "\n",
        "#Define locations & mount Google Drive\n",
        "directory = \"drive/My Drive/ISE/dbo Classes hierarchy/\"\n",
        "drive.mount(\"drive\", force_remount=True)\n",
        "\n",
        "#Authentication & initialization Google Cloud\n",
        "auth.authenticate_user()\n",
        "\n",
        "with open('/content/adc.json', 'r') as f:\n",
        "  auth_info = json.load(f)\n",
        "credentials, project = google.auth.default()\n",
        "\n",
        "client = storage.Client(credentials=credentials, project='ise-project-259623')\n",
        "bucket = client.get_bucket('ise-bucket')"
      ],
      "execution_count": 0,
      "outputs": []
    },
    {
      "cell_type": "markdown",
      "metadata": {
        "id": "UnPiuxTTEclz",
        "colab_type": "text"
      },
      "source": [
        "#Create Training Dataset"
      ]
    },
    {
      "cell_type": "markdown",
      "metadata": {
        "id": "jGTXDq0xM605",
        "colab_type": "text"
      },
      "source": [
        "##Load rdf types and entities\n",
        "*Only needs to be executed in the firtst time*"
      ]
    },
    {
      "cell_type": "markdown",
      "metadata": {
        "colab_type": "text",
        "id": "hXVBPHsYW7W5"
      },
      "source": [
        "Read rdf types list\n"
      ]
    },
    {
      "cell_type": "code",
      "metadata": {
        "id": "yo9AuwzEmPmL",
        "colab_type": "code",
        "colab": {}
      },
      "source": [
        "rdf_types = []\n",
        "with open(directory + \"dbo Ontology Classes List.txt\", \"r\") as f:\n",
        "  for l in f:\n",
        "    rdf_types.append(l.replace(\"\\n\",\"\"))  "
      ],
      "execution_count": 0,
      "outputs": []
    },
    {
      "cell_type": "markdown",
      "metadata": {
        "id": "H10AZC7-ZxlW",
        "colab_type": "text"
      },
      "source": [
        "Check number of resources in rdf types via Sparql\n"
      ]
    },
    {
      "cell_type": "code",
      "metadata": {
        "id": "TtUjo5JMaI5L",
        "colab_type": "code",
        "colab": {}
      },
      "source": [
        "entity_counts = []\n",
        "\n",
        "# Sparql request\n",
        "for rdf_type in rdf_types:\n",
        "  query = \"\"\"PREFIX rdf: <http://www.w3.org/1999/02/22-rdf-syntax-ns#>\n",
        "  select distinct count(?entity)\n",
        "  where {\n",
        "  ?entity rdf:type dbo:\"\"\" + rdf_type + \"}\"\n",
        "  sparql.setQuery(query)\n",
        "  sparql.setReturnFormat(JSON)\n",
        "  results = sparql.query().convert()\n",
        "  count = results[\"results\"][\"bindings\"][0][\"callret-0\"][\"value\"]\n",
        "  entity_counts.append((rdf_type,int(count)))\n",
        "  if len(entity_counts)%100==0:\n",
        "    print(len(entity_counts))"
      ],
      "execution_count": 0,
      "outputs": []
    },
    {
      "cell_type": "code",
      "metadata": {
        "id": "zTWbHDErt5pE",
        "colab_type": "code",
        "colab": {}
      },
      "source": [
        "class_counts = pd.concat([pd.DataFrame([i], columns = [\"class\",\"entity_count\"]) for i in entity_counts], ignore_index=True)\n",
        "class_counts = class_counts.sort_values(by=\"entity_count\",ascending = False)\n",
        "class_counts.to_csv(directory + \"rdf_type_entity_counts.tsv\",sep=\"\\t\",index=False)"
      ],
      "execution_count": 0,
      "outputs": []
    },
    {
      "cell_type": "markdown",
      "metadata": {
        "id": "kVgvBDJu0j0Q",
        "colab_type": "text"
      },
      "source": [
        "---\n",
        "\n",
        "##**Get X random resources** for top 100 rdf types"
      ]
    },
    {
      "cell_type": "markdown",
      "metadata": {
        "id": "-1G6UBzQ3Xwa",
        "colab_type": "text"
      },
      "source": [
        " Select top 100 types"
      ]
    },
    {
      "cell_type": "code",
      "metadata": {
        "id": "EsJPERd77BSy",
        "colab_type": "code",
        "colab": {}
      },
      "source": [
        "class_counts = pd.read_csv(directory + \"rdf_type_entity_counts.tsv\",sep=\"\\t\")"
      ],
      "execution_count": 0,
      "outputs": []
    },
    {
      "cell_type": "markdown",
      "metadata": {
        "id": "rVPRcn1AEIjb",
        "colab_type": "text"
      },
      "source": [
        "Filtering rdf types...\n",
        "* containing many resources without images (only <5% images)\n",
        "* that are too general to infere (\"Image\",\"Agent\",...)\n"
      ]
    },
    {
      "cell_type": "code",
      "metadata": {
        "id": "scCR1vMrEHkB",
        "colab_type": "code",
        "colab": {}
      },
      "source": [
        "rejected_types = [\"Image\", \"Agent\",\"CareerStation\", \"OrganisationMember\",\"SportsSeason\",\"SportsEvent\",\n",
        "                    \"SportsTeamMember\",\"SportsTeamSeason\",\"TimePeriod\", \"NCAATeamSeason\", \"FootballLeagueSeason\", \n",
        "                    \"MotorsportSeason\", \"Engine\", \"AutomobileEngine\", \"RadioStation\", \"PersonFunction\",\n",
        "                    \"SoccerManager\", \"AmericanFootballPlayer\"] # Remove unnecessary rdf types from list"
      ],
      "execution_count": 0,
      "outputs": []
    },
    {
      "cell_type": "code",
      "metadata": {
        "id": "wlLc59mq3dCR",
        "colab_type": "code",
        "colab": {}
      },
      "source": [
        "class_filter = []\n",
        "for c in class_counts[\"class\"]:\n",
        "  if c in rejected_types:\n",
        "    class_filter.append(False)\n",
        "  else:\n",
        "    class_filter.append(True)\n",
        "class_counts = class_counts[class_filter]\n",
        "top100_rdf_types = list(class_counts[\"class\"][:100])\n",
        "top200_rdf_types = list(class_counts[\"class\"][:200])"
      ],
      "execution_count": 0,
      "outputs": []
    },
    {
      "cell_type": "code",
      "metadata": {
        "id": "XyNrgWfpULq2",
        "colab_type": "code",
        "colab": {}
      },
      "source": [
        "top100_rdf_types"
      ],
      "execution_count": 0,
      "outputs": []
    },
    {
      "cell_type": "markdown",
      "metadata": {
        "id": "iyt6gjzFf7Mj",
        "colab_type": "text"
      },
      "source": [
        "Up to 10k resources:"
      ]
    },
    {
      "cell_type": "code",
      "metadata": {
        "id": "bEPoFz1o0Y5q",
        "colab_type": "code",
        "colab": {}
      },
      "source": [
        "def get_random_resources(number, top_types):\n",
        "  rand_resources = {}\n",
        "  for rdf_type in top_types:\n",
        "    sparql = SPARQLWrapper(\"http://dbpedia.org/sparql\") \n",
        "    query = \"\"\"PREFIX rdf: <http://www.w3.org/1999/02/22-rdf-syntax-ns#>\n",
        "      select distinct ?entity\n",
        "      where {\n",
        "      ?entity rdf:type dbo:\"\"\" + rdf_type + \"} ORDER BY RAND() LIMIT \" + str(number)\n",
        "    sparql.setQuery(query)\n",
        "    sparql.setReturnFormat(JSON)\n",
        "    results = sparql.query().convert()\n",
        "    rand_resources[rdf_type] = [str(i[\"entity\"][\"value\"]) for i in results[\"results\"][\"bindings\"]]\n",
        "    if len(rand_resources)%10 == 0:\n",
        "      print(len(rand_resources))\n",
        "\n",
        "  with open(directory + \"top100_dbo_\" + str(number) + \"_random_resources.txt\", 'w') as file:\n",
        "      file.write(json.dumps(rand_resources))"
      ],
      "execution_count": 0,
      "outputs": []
    },
    {
      "cell_type": "markdown",
      "metadata": {
        "id": "20DbgVX6gGpH",
        "colab_type": "text"
      },
      "source": [
        "More than 10k resources"
      ]
    },
    {
      "cell_type": "code",
      "metadata": {
        "id": "0Qvo68P-fwSa",
        "colab_type": "code",
        "colab": {}
      },
      "source": [
        "def get_more_random_resources(number, top_n_types, n):\n",
        "  rand_resources = {}\n",
        "  for i,rdf_type in enumerate(top_n_types[:n]):\n",
        "    print(str(i) + \": \" + rdf_type)\n",
        "    sparql = SPARQLWrapper(\"http://dbpedia.org/sparql\") \n",
        "    results = set()\n",
        "    check_lengths = []\n",
        "    while len(results) < number:\n",
        "      request_limit = max(0,min(10000,number) - random.randint(0,100))\n",
        "      query = \"\"\"PREFIX rdf: <http://www.w3.org/1999/02/22-rdf-syntax-ns#>\n",
        "        select distinct ?entity\n",
        "        where {\n",
        "        ?entity rdf:type dbo:\"\"\" + str(rdf_type) + \"} ORDER BY RAND() LIMIT \" + str(request_limit)\n",
        "      sparql.setQuery(query)\n",
        "      sparql.setReturnFormat(JSON)\n",
        "      results_json = sparql.query().convert()\n",
        "      results_list = [str(i[\"entity\"][\"value\"]) for i in results_json[\"results\"][\"bindings\"]]\n",
        "      results.update(results_list)\n",
        "      check_lengths.append(len(results))\n",
        "      print(len(results))\n",
        "      try:\n",
        "        if check_lengths[-4] == check_lengths[-1]:\n",
        "          break\n",
        "      except:\n",
        "        pass\n",
        "    rand_resources[rdf_type] = list(results)\n",
        "  with open(directory + \"top\" + str(n) + \"_dbo_\" + str(number) + \"_random_resources.txt\", 'w') as file:\n",
        "      file.write(json.dumps(rand_resources))"
      ],
      "execution_count": 0,
      "outputs": []
    },
    {
      "cell_type": "markdown",
      "metadata": {
        "id": "rUvUEkGINNma",
        "colab_type": "text"
      },
      "source": [
        "###**Run** random resource collection"
      ]
    },
    {
      "cell_type": "code",
      "metadata": {
        "id": "91ButsFAouBe",
        "colab_type": "code",
        "colab": {}
      },
      "source": [
        "number_of_resources = 50000\n",
        "get_more_random_resources(number_of_resources,top100_rdf_types,100)\n",
        "#get_random_resources(number_of_resources,top100_rdf_types) #up to 10k"
      ],
      "execution_count": 0,
      "outputs": []
    }
  ]
}