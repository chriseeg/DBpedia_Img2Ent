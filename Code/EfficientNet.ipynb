{
  "nbformat": 4,
  "nbformat_minor": 0,
  "metadata": {
    "colab": {
      "name": "EfficientNet.ipynb",
      "provenance": [],
      "collapsed_sections": [],
      "toc_visible": true
    },
    "kernelspec": {
      "name": "python3",
      "display_name": "Python 3"
    },
    "accelerator": "TPU"
  },
  "cells": [
    {
      "cell_type": "markdown",
      "metadata": {
        "id": "4tevrDHuvXsz",
        "colab_type": "text"
      },
      "source": [
        "#Imports and Environment"
      ]
    },
    {
      "cell_type": "code",
      "metadata": {
        "id": "JvwBL6E4brTb",
        "colab_type": "code",
        "colab": {
          "base_uri": "https://localhost:8080/",
          "height": 543
        },
        "outputId": "4a4659bc-80cc-4d63-c788-25e879e57330"
      },
      "source": [
        "from __future__ import absolute_import\n",
        "from __future__ import division\n",
        "from __future__ import print_function\n",
        "\n",
        "import datetime\n",
        "import json\n",
        "import logging\n",
        "import os\n",
        "import sys\n",
        "import time\n",
        "from io import BytesIO\n",
        "import functools\n",
        "\n",
        "import numpy as np\n",
        "import pandas as pd\n",
        "import matplotlib.pyplot as plt\n",
        "import matplotlib.patches as mpatches\n",
        "import xml.etree.ElementTree as ET\n",
        "\n",
        "\n",
        "# Clone Google Github TPU directory and append paths to system\n",
        "if not os.path.exists('tpu'):\n",
        "  !git clone https://github.com/tensorflow/tpu/\n",
        "\n",
        "sys.path.append('/content/tpu/models/official/efficientnet')\n",
        "sys.path.append('/content/tpu/models/common')\n",
        "sys.path.append('/content/tpu/tools/datasets')\n",
        "\n",
        "# Import tf v1.15.0, enable eager execution, import tf v2 for summaries\n",
        "%tensorflow_version 1.15\n",
        "import tensorflow as tf\n",
        "tf.compat.v1.enable_eager_execution()\n",
        "print(\"Running on Tensorflow v{}\".format(tf.__version__))\n",
        "import tensorflow.compat.v2 as tf2  # used for summaries only.\n",
        "from tensorflow.core.protobuf import rewriter_config_pb2\n",
        "from tensorflow.python.estimator import estimator\n",
        "\n",
        "\n",
        "# Import files from cloned Efficientnet Github Reo\n",
        "import imagenet_input\n",
        "import efficientnet_builder\n",
        "import utils\n",
        "import preprocessing\n",
        "\n",
        "\n",
        "# Import Google Cloud modules to access Google Cloud Storage Buckets\n",
        "from google.cloud import storage\n",
        "from oauth2client.service_account import ServiceAccountCredentials\n",
        "import google.auth\n",
        "\n",
        "# Install and import Google Cloud Storage File System\n",
        "!pip install gcsfs\n",
        "import gcsfs\n",
        "\n",
        "\n"
      ],
      "execution_count": 1,
      "outputs": [
        {
          "output_type": "stream",
          "text": [
            "Cloning into 'tpu'...\n",
            "remote: Enumerating objects: 8096, done.\u001b[K\n",
            "remote: Total 8096 (delta 0), reused 0 (delta 0), pack-reused 8096\u001b[K\n",
            "Receiving objects: 100% (8096/8096), 23.73 MiB | 28.63 MiB/s, done.\n",
            "Resolving deltas: 100% (5742/5742), done.\n",
            "`%tensorflow_version` only switches the major version: 1.x or 2.x.\n",
            "You set: `1.15`. This will be interpreted as: `1.x`.\n",
            "\n",
            "\n",
            "TensorFlow 1.x selected.\n",
            "Running on Tensorflow v1.15.2\n",
            "Collecting gcsfs\n",
            "  Downloading https://files.pythonhosted.org/packages/18/3b/454be7c97d05e15eb20a0099f425f0ed6b7552e352c77adb923c3872ba14/gcsfs-0.6.1-py2.py3-none-any.whl\n",
            "Requirement already satisfied: requests in /usr/local/lib/python3.6/dist-packages (from gcsfs) (2.21.0)\n",
            "Requirement already satisfied: fsspec>=0.6.0 in /usr/local/lib/python3.6/dist-packages (from gcsfs) (0.6.3)\n",
            "Requirement already satisfied: google-auth>=1.2 in /usr/local/lib/python3.6/dist-packages (from gcsfs) (1.7.2)\n",
            "Requirement already satisfied: google-auth-oauthlib in /usr/local/lib/python3.6/dist-packages (from gcsfs) (0.4.1)\n",
            "Requirement already satisfied: decorator in /usr/local/lib/python3.6/dist-packages (from gcsfs) (4.4.2)\n",
            "Requirement already satisfied: chardet<3.1.0,>=3.0.2 in /usr/local/lib/python3.6/dist-packages (from requests->gcsfs) (3.0.4)\n",
            "Requirement already satisfied: urllib3<1.25,>=1.21.1 in /usr/local/lib/python3.6/dist-packages (from requests->gcsfs) (1.24.3)\n",
            "Requirement already satisfied: idna<2.9,>=2.5 in /usr/local/lib/python3.6/dist-packages (from requests->gcsfs) (2.8)\n",
            "Requirement already satisfied: certifi>=2017.4.17 in /usr/local/lib/python3.6/dist-packages (from requests->gcsfs) (2019.11.28)\n",
            "Requirement already satisfied: setuptools>=40.3.0 in /usr/local/lib/python3.6/dist-packages (from google-auth>=1.2->gcsfs) (46.0.0)\n",
            "Requirement already satisfied: pyasn1-modules>=0.2.1 in /usr/local/lib/python3.6/dist-packages (from google-auth>=1.2->gcsfs) (0.2.8)\n",
            "Requirement already satisfied: cachetools<3.2,>=2.0.0 in /usr/local/lib/python3.6/dist-packages (from google-auth>=1.2->gcsfs) (3.1.1)\n",
            "Requirement already satisfied: rsa<4.1,>=3.1.4 in /usr/local/lib/python3.6/dist-packages (from google-auth>=1.2->gcsfs) (4.0)\n",
            "Requirement already satisfied: six>=1.9.0 in /usr/local/lib/python3.6/dist-packages (from google-auth>=1.2->gcsfs) (1.12.0)\n",
            "Requirement already satisfied: requests-oauthlib>=0.7.0 in /usr/local/lib/python3.6/dist-packages (from google-auth-oauthlib->gcsfs) (1.3.0)\n",
            "Requirement already satisfied: pyasn1<0.5.0,>=0.4.6 in /usr/local/lib/python3.6/dist-packages (from pyasn1-modules>=0.2.1->google-auth>=1.2->gcsfs) (0.4.8)\n",
            "Requirement already satisfied: oauthlib>=3.0.0 in /usr/local/lib/python3.6/dist-packages (from requests-oauthlib>=0.7.0->google-auth-oauthlib->gcsfs) (3.1.0)\n",
            "Installing collected packages: gcsfs\n",
            "Successfully installed gcsfs-0.6.1\n"
          ],
          "name": "stdout"
        }
      ]
    },
    {
      "cell_type": "markdown",
      "metadata": {
        "id": "RQlErh0nkEwO",
        "colab_type": "text"
      },
      "source": [
        "Set Logging Level"
      ]
    },
    {
      "cell_type": "code",
      "metadata": {
        "id": "qETQZ5klunYE",
        "colab_type": "code",
        "colab": {
          "base_uri": "https://localhost:8080/",
          "height": 32
        },
        "outputId": "7d4017f6-d4b5-41f8-d07c-39e3f7d9c1be"
      },
      "source": [
        "# Log all events\n",
        "os.environ['TF_CPP_MIN_LOG_LEVEL'] = '1'  \n",
        "logging.getLogger('tensorflow').setLevel(logging.INFO)\n",
        "logging.disable(logging.NOTSET)\n",
        "tf.get_logger().propagate = False\n",
        "\n",
        "\n",
        "# Only log fatal errors\n",
        "\"\"\"\n",
        "os.environ['TF_CPP_MIN_LOG_LEVEL'] = '3'  # FATAL\n",
        "logging.getLogger('tensorflow').setLevel(logging.ERROR)\n",
        "logging.disable(logging.WARNING)\n",
        "tf.get_logger().propagate = False\n",
        "\"\"\""
      ],
      "execution_count": 2,
      "outputs": [
        {
          "output_type": "execute_result",
          "data": {
            "text/plain": [
              "\"\\nos.environ['TF_CPP_MIN_LOG_LEVEL'] = '3'  # FATAL\\nlogging.getLogger('tensorflow').setLevel(logging.ERROR)\\nlogging.disable(logging.WARNING)\\ntf.get_logger().propagate = False\\n\""
            ]
          },
          "metadata": {
            "tags": []
          },
          "execution_count": 2
        }
      ]
    },
    {
      "cell_type": "markdown",
      "metadata": {
        "id": "988L0eU6kNl5",
        "colab_type": "text"
      },
      "source": [
        "Connect to TPU"
      ]
    },
    {
      "cell_type": "code",
      "metadata": {
        "id": "wsTj7camKEBy",
        "colab_type": "code",
        "colab": {
          "base_uri": "https://localhost:8080/",
          "height": 217
        },
        "outputId": "b68ab3da-4018-48d4-ce2d-d4a272399d93"
      },
      "source": [
        "# Assert that notebook is connected to a TPU runtime\n",
        "assert 'COLAB_TPU_ADDR' in os.environ, 'ERROR: Not connected to a TPU runtime'\n",
        "TPU_ADDRESS = 'grpc://' + os.environ['COLAB_TPU_ADDR']\n",
        "print('TPU address is', TPU_ADDRESS)\n",
        "\n",
        "# Connect with TPU with Google Credentials\n",
        "from google.colab import auth\n",
        "auth.authenticate_user()\n",
        "with tf.Session(TPU_ADDRESS) as session:\n",
        "  print('TPU devices:')\n",
        "  print(session.list_devices())\n",
        "\n",
        "  # Upload credentials to TPU.\n",
        "  with open('/content/adc.json', 'r') as f:\n",
        "    auth_info = json.load(f)\n",
        "  tf.contrib.cloud.configure_gcs(session, credentials=auth_info)\n",
        "  # Now credentials are set for all future sessions on this TPU."
      ],
      "execution_count": 3,
      "outputs": [
        {
          "output_type": "stream",
          "text": [
            "TPU address is grpc://10.23.233.42:8470\n",
            "WARNING:tensorflow:\n",
            "The TensorFlow contrib module will not be included in TensorFlow 2.0.\n",
            "For more information, please see:\n",
            "  * https://github.com/tensorflow/community/blob/master/rfcs/20180907-contrib-sunset.md\n",
            "  * https://github.com/tensorflow/addons\n",
            "  * https://github.com/tensorflow/io (for I/O related ops)\n",
            "If you depend on functionality not listed there, please file an issue.\n",
            "\n",
            "TPU devices:\n",
            "[_DeviceAttributes(/job:tpu_worker/replica:0/task:0/device:CPU:0, CPU, -1, 2248449642806210367), _DeviceAttributes(/job:tpu_worker/replica:0/task:0/device:XLA_CPU:0, XLA_CPU, 17179869184, 4270907229786013589), _DeviceAttributes(/job:tpu_worker/replica:0/task:0/device:TPU:0, TPU, 17179869184, 8153485020330419858), _DeviceAttributes(/job:tpu_worker/replica:0/task:0/device:TPU:1, TPU, 17179869184, 15447884212847927902), _DeviceAttributes(/job:tpu_worker/replica:0/task:0/device:TPU:2, TPU, 17179869184, 3073868523964751941), _DeviceAttributes(/job:tpu_worker/replica:0/task:0/device:TPU:3, TPU, 17179869184, 6281332166130091162), _DeviceAttributes(/job:tpu_worker/replica:0/task:0/device:TPU:4, TPU, 17179869184, 11460879234225614991), _DeviceAttributes(/job:tpu_worker/replica:0/task:0/device:TPU:5, TPU, 17179869184, 3705794180123469441), _DeviceAttributes(/job:tpu_worker/replica:0/task:0/device:TPU:6, TPU, 17179869184, 5886508758925255302), _DeviceAttributes(/job:tpu_worker/replica:0/task:0/device:TPU:7, TPU, 17179869184, 14064451448439431706), _DeviceAttributes(/job:tpu_worker/replica:0/task:0/device:TPU_SYSTEM:0, TPU_SYSTEM, 8589934592, 12306648332701180342)]\n"
          ],
          "name": "stdout"
        }
      ]
    },
    {
      "cell_type": "markdown",
      "metadata": {
        "id": "3FfO2PMoVFKT",
        "colab_type": "text"
      },
      "source": [
        "# Training Fully Connected Layer"
      ]
    },
    {
      "cell_type": "markdown",
      "metadata": {
        "id": "89vMDnZmfhN_",
        "colab_type": "text"
      },
      "source": [
        "###Parameters"
      ]
    },
    {
      "cell_type": "code",
      "metadata": {
        "id": "7lCO8YysdJNw",
        "colab_type": "code",
        "colab": {}
      },
      "source": [
        "model_name = \"efficientnet-b0\" #@param [\"efficientnet-b0\", \"efficientnet-b5\"] {type:\"string\"}\n",
        "data_set = \"dataset_tf_10000-100\" #@param [\"dataset-tf-XXL\",\"dataset-validation\",\"dataset-labeled\", \"dataset_tfrecords\", \"dataset_tf_10000-100\", \"cifar100\", \"dataset-tf-balanced\", \"dataset-filtered\"] {type:\"string\"}\n",
        "\n",
        "# run_name as a unique identifier to specify training run\n",
        "run_name = \"FT-28-01-20-8\""
      ],
      "execution_count": 0,
      "outputs": []
    },
    {
      "cell_type": "code",
      "metadata": {
        "id": "cGJz1pmtefpr",
        "colab_type": "code",
        "colab": {}
      },
      "source": [
        "# Define model directory, where checkpoints are stored\n",
        "model_dir = 'gs://ise-bucket/efficientnet/'+model_name+'/'+run_name\n",
        "\n",
        "\n",
        "# Define, whether to run with pretrained weight, warm start or from scratch \n",
        "# Run with pretrained weights\n",
        "init_checkpoint_dir = 'gs://ise-bucket/efficientnet/'+model_name+'/'\n",
        "\n",
        "# Run with warm start fc head\n",
        "#init_checkpoint_dir = 'gs://ise-bucket/efficientnet/'+model_name+'/FT-27-01-20-8/'\n",
        "\n",
        "# Run on scratch\n",
        "#init_checkpoint_dir = None\n",
        "\n",
        "\n",
        "# Define further parameters\n",
        "num_epochs = 200\n",
        "log_step_count_steps = 64 #produce log every x steps\n",
        "mixup_alpha = 0.0 \n",
        "augment_name = None #whether to use randaugment - '\"randaugment\"\n",
        "randaug_num_layers = 0 #value between 1-3 for randaugment\n",
        "randaug_magnitude = 0 #value between 5-30 for randaugment\n",
        "moving_average_decay = 0.9999\n",
        "label_smoothing = 0.1\n",
        "weight_decay = 1e-5\n",
        "base_learning_rate = 0.016\n",
        "lr_decay = True"
      ],
      "execution_count": 0,
      "outputs": []
    },
    {
      "cell_type": "code",
      "metadata": {
        "id": "BhvCX495ff0P",
        "colab_type": "code",
        "cellView": "both",
        "colab": {}
      },
      "source": [
        "# Model and dataset parameters depending on the selection above\n",
        "model_params = {\n",
        "    \"efficientnet-b0\":{\"iterations_per_loop\":100, \"train_batch_size\":1024},\n",
        "    \"efficientnet-b5\":{\"iterations_per_loop\":128, \"train_batch_size\":1024}\n",
        "                }\n",
        "\n",
        "data_set_params = {\n",
        "    \"dataset_tfrecords\":{\"num_train_images\":33021, \"num_eval_images\":8257, \"num_label_classes\":96,\"data_dir\":\"gs://ise-bucket/efficientnet/dataset_tfrecords\"},\n",
        "    \"dataset_tf_10000-100\":{\"num_train_images\":169733, \"num_eval_images\":42434, \"num_label_classes\":100,\"data_dir\":'gs://ise-bucket/efficientnet/dataset-tf-20-01-13_1-img_10000-ent_100-class'},\n",
        "    \"cifar100\":{\"num_train_images\":50000, \"num_eval_images\":10000, \"num_label_classes\":100,\"data_dir\":\"gs://ise-bucket/cifar100\"},\n",
        "    \"dataset-tf-balanced\":{\"num_train_images\":159460, \"num_eval_images\":39866, \"num_label_classes\":100,\"data_dir\":'gs://ise-bucket/efficientnet/dataset-tf-20-01-15_1-img_2000-ent_100-class'},\n",
        "    \"dataset-filtered\":{\"num_train_images\":156271, \"num_eval_images\":38173, \"num_label_classes\":100,\"data_dir\":'gs://ise-bucket/efficientnet/dataset-tf-20-01-29_1-img_2000-ent_100-class'},\n",
        "    \"dataset-labeled\":{\"num_train_images\":0, \"num_eval_images\":74228, \"num_label_classes\":100,\"data_dir\":'gs://ise-bucket/efficientnet/dataset-tf-20-01-31_1-img_2000-ent_100-class_specific'},\n",
        "    \"dataset-validation\":{\"num_train_images\":0, \"num_eval_images\":29162, \"num_label_classes\":100,\"data_dir\":'gs://ise-bucket/efficientnet/dataset-tf-20-02-01_1-img_2000-ent_100-class_specific'},\n",
        "    \"dataset-tf-XXL\":{\"num_train_images\":683484, \"num_eval_images\":170871, \"num_label_classes\":100,\"data_dir\":'gs://ise-bucket/efficientnet/dataset-tf-20-01-22_1-img_10000-ent_100-class'}\n",
        "\n",
        "}\n",
        "\n",
        "model_params = model_params[model_name]\n",
        "data_set_params = data_set_params[data_set]\n",
        "\n",
        "# Automatically set parameters\n",
        "data_dir = data_set_params[\"data_dir\"]\n",
        "iterations_per_loop = model_params[\"iterations_per_loop\"]\n",
        "num_train_images = data_set_params[\"num_train_images\"]\n",
        "num_eval_images =  data_set_params[\"num_eval_images\"]\n",
        "train_batch_size = model_params[\"train_batch_size\"]\n",
        "eval_batch_size = 1024\n",
        "predict_batch_size = 64\n",
        "train_steps = int(num_train_images / train_batch_size * num_epochs)\n",
        "eval_steps = int(num_eval_images / eval_batch_size)\n",
        "num_label_classes = data_set_params[\"num_label_classes\"]\n",
        "input_image_size = efficientnet_builder.efficientnet_params(model_name)[2] \n",
        "\n",
        "use_tpu = True\n",
        "tpu_cluster_resolver = tf.contrib.cluster_resolver.TPUClusterResolver(TPU_ADDRESS)\n",
        "skip_host_call = False\n",
        "num_parallel_calls = 8\n",
        "transpose_input=True\n",
        "use_cache = True\n",
        "include_background_label = False"
      ],
      "execution_count": 0,
      "outputs": []
    },
    {
      "cell_type": "markdown",
      "metadata": {
        "id": "QuADkowqfA1E",
        "colab_type": "text"
      },
      "source": [
        "###Function to get exponential moving average variables"
      ]
    },
    {
      "cell_type": "code",
      "metadata": {
        "id": "Vl7ZOErYfDda",
        "colab_type": "code",
        "colab": {}
      },
      "source": [
        "def get_ema_vars():\n",
        "  \"\"\"Get all exponential moving average (ema) variables.\"\"\"\n",
        "  ema_vars = tf.trainable_variables() + tf.get_collection('moving_vars')\n",
        "  for v in tf.global_variables():\n",
        "    # We maintain mva for batch norm moving mean and variance as well.\n",
        "    if 'moving_mean' in v.name or 'moving_variance' in v.name:\n",
        "      ema_vars.append(v)\n",
        "  return list(set(ema_vars))"
      ],
      "execution_count": 0,
      "outputs": []
    },
    {
      "cell_type": "markdown",
      "metadata": {
        "id": "W4RazARwYxlq",
        "colab_type": "text"
      },
      "source": [
        "###InputFn"
      ]
    },
    {
      "cell_type": "code",
      "metadata": {
        "id": "KJejC6kkcagf",
        "colab_type": "code",
        "colab": {}
      },
      "source": [
        "def input_fn_builder(is_training):\n",
        "  def input_fn(params):\n",
        "      \"\"\"Input function which provides a single batch for train or eval.\n",
        "      Args:\n",
        "        params: `dict` of parameters passed from the `TPUEstimator`.\n",
        "            `params['batch_size']` is always provided and should be used as the\n",
        "            effective batch size.\n",
        "      Returns:\n",
        "        A `tf.data.Dataset` object.\n",
        "      \"\"\"\n",
        "\n",
        "      print(params)\n",
        "\n",
        "      # Retrieves the batch size for the current shard. The # of shards is\n",
        "      # computed according to the input pipeline deployment. See\n",
        "      # tf.estimator.tpu.RunConfig for details.\n",
        "      batch_size = params['batch_size'] #batch_size = train_batch_size / num_cores\n",
        "\n",
        "      num_cores = 8\n",
        "      imagenet_train = imagenet_input.ImageNetInput(\n",
        "        is_training=is_training,\n",
        "        data_dir=data_dir,\n",
        "        transpose_input=transpose_input,\n",
        "        cache=use_cache and is_training,\n",
        "        image_size=input_image_size,\n",
        "        num_parallel_calls=num_parallel_calls,\n",
        "        use_bfloat16=False,\n",
        "        num_label_classes=num_label_classes,\n",
        "        include_background_label=include_background_label,\n",
        "        augment_name=augment_name,\n",
        "        mixup_alpha=mixup_alpha,\n",
        "        randaug_num_layers=randaug_num_layers,\n",
        "        randaug_magnitude=randaug_magnitude)\n",
        "\n",
        "      if 'context' in params:\n",
        "        current_host = params['context'].current_input_fn_deployment()[1]\n",
        "        num_hosts = params['context'].num_hosts\n",
        "      else:\n",
        "        current_host = 0\n",
        "        num_hosts = 1\n",
        "\n",
        "      dataset = imagenet_train.make_source_dataset(current_host, num_hosts)\n",
        "      \n",
        "      # Use the fused map-and-batch operation.\n",
        "      #\n",
        "      # For XLA, we must used fixed shapes. Because we repeat the source training\n",
        "      # dataset indefinitely, we can use `_remainder=True` to get fixed-size\n",
        "      # batches without dropping any training examples.\n",
        "      #\n",
        "      # When evaluating, `drop_remainder=True` prevents accidentally evaluating\n",
        "      # the same image twice by dropping the final batch if it is less than a full\n",
        "      # batch size. As long as this validation is done with consistent batch size,\n",
        "      # exactly the same images will be used.\n",
        "\n",
        "      dataset = dataset.apply(\n",
        "          tf.data.experimental.map_and_batch(\n",
        "              imagenet_train.dataset_parser, batch_size=batch_size,\n",
        "              num_parallel_batches=num_cores, drop_remainder=True))\n",
        "      \n",
        "      # Apply Mixup\n",
        "      if imagenet_train.is_training and imagenet_train.mixup_alpha > 0.0:\n",
        "        dataset = dataset.map(\n",
        "            functools.partial(imagenet_train.mixup, batch_size, imagenet_train.mixup_alpha),\n",
        "            num_parallel_calls=num_cores)\n",
        "\n",
        "      \n",
        "      # Transpose for performance on TPU\n",
        "      if imagenet_train.transpose_input:\n",
        "        dataset = dataset.map(\n",
        "            lambda images, labels: (tf.transpose(images, [1, 2, 3, 0]), labels),\n",
        "            num_parallel_calls=num_cores)\n",
        "\n",
        "      # Assign static batch size dimension\n",
        "      dataset = dataset.map(functools.partial(imagenet_train.set_shapes, batch_size))\n",
        "      \n",
        "\n",
        "      # Prefetch overlaps in-feed with training\n",
        "      dataset = dataset.prefetch(tf.data.experimental.AUTOTUNE)\n",
        "      \n",
        "      return dataset\n",
        "  return input_fn"
      ],
      "execution_count": 0,
      "outputs": []
    },
    {
      "cell_type": "code",
      "metadata": {
        "id": "AU5KhZ8gmc3Z",
        "colab_type": "code",
        "colab": {}
      },
      "source": [
        "def input_fn_builder_unshuffled(is_training, only_filenames=False):\n",
        "  def input_fn(params):\n",
        "      \"\"\"Input function which provides data withouth shuffling for evaluation.\n",
        "      Args:\n",
        "        params: `dict` of parameters passed from the `TPUEstimator`.\n",
        "            `params['batch_size']` is always provided and should be used as the\n",
        "            effective batch size.\n",
        "      Returns:\n",
        "        A `tf.data.Dataset` object.\n",
        "      \"\"\"\n",
        "\n",
        "      num_cores = 8\n",
        "    \n",
        "      if 'context' in params:\n",
        "        current_host = params['context'].current_input_fn_deployment()[1]\n",
        "        num_hosts = params['context'].num_hosts\n",
        "      else:\n",
        "        current_host = 0\n",
        "        num_hosts = 1\n",
        "\n",
        "      if \"batch_size\" in params:\n",
        "        batch_size = params['batch_size']\n",
        "          \n",
        "      file_pattern = os.path.join(\n",
        "          data_dir, 'train-*' if is_training else 'validation-*')\n",
        "\n",
        "      dataset = tf.data.Dataset.list_files(file_pattern, shuffle=False)\n",
        "      dataset = dataset.shard(num_hosts, current_host)\n",
        "\n",
        "      def fetch_dataset(filename):\n",
        "        buffer_size = 8 * 1024 * 1024  # 8 MiB per file\n",
        "        dataset = tf.data.TFRecordDataset(filename, buffer_size=buffer_size)\n",
        "        return dataset\n",
        "\n",
        "      # Read the data from disk in parallel\n",
        "      dataset = dataset.apply(\n",
        "          tf.data.experimental.parallel_interleave(\n",
        "              fetch_dataset, cycle_length=num_parallel_calls, sloppy=False))\n",
        "\n",
        "      \n",
        "      def custom_dataset_parser(value):\n",
        "        keys_to_features = {\n",
        "            'image/encoded': tf.FixedLenFeature((), tf.string, ''),\n",
        "            'image/class/label': tf.FixedLenFeature([], tf.int64, -1),\n",
        "            'image/filename': tf.FixedLenFeature([], tf.string, ''),\n",
        "            'image/class/text': tf.FixedLenFeature([], tf.string, '')\n",
        "        }\n",
        "\n",
        "        parsed = tf.parse_single_example(value, keys_to_features)\n",
        "        \n",
        "        image_bytes = tf.reshape(parsed['image/encoded'], shape=[])\n",
        "\n",
        "        \n",
        "        image = preprocessing.preprocess_image(\n",
        "            image_bytes=image_bytes,\n",
        "            is_training=is_training,\n",
        "            image_size=input_image_size,\n",
        "            use_bfloat16=False,\n",
        "            augment_name=augment_name,\n",
        "            randaug_num_layers=randaug_num_layers,\n",
        "            randaug_magnitude=randaug_magnitude)\n",
        "        \n",
        "              \n",
        "        label = tf.cast(tf.reshape(parsed['image/class/label'], shape=[]), dtype=tf.int32)\n",
        "        onehot_label = tf.one_hot(label, num_label_classes)\n",
        "\n",
        "        label_text = parsed['image/class/text']\n",
        "        file_name = parsed['image/filename']\n",
        "\n",
        "        if only_filenames:\n",
        "          return label_text, file_name\n",
        "        return image, onehot_label\n",
        "\n",
        "      dataset = dataset.apply(\n",
        "          tf.data.experimental.map_and_batch(\n",
        "              custom_dataset_parser, batch_size=batch_size,\n",
        "              num_parallel_batches=num_cores, drop_remainder=False))\n",
        "\n",
        "      # Prefetch overlaps in-feed with training\n",
        "      dataset = dataset.prefetch(tf.data.experimental.AUTOTUNE)\n",
        "      \n",
        "      return dataset\n",
        "  return input_fn"
      ],
      "execution_count": 0,
      "outputs": []
    },
    {
      "cell_type": "markdown",
      "metadata": {
        "id": "TP6EevGXY1Vr",
        "colab_type": "text"
      },
      "source": [
        "###ModelFn"
      ]
    },
    {
      "cell_type": "code",
      "metadata": {
        "id": "zmYrkTdskwTi",
        "colab_type": "code",
        "colab": {}
      },
      "source": [
        "def model_fn(features, labels, mode, params):\n",
        "  \"\"\"The model_fn to be used with TPUEstimator.\n",
        "  Args:\n",
        "    features: `Tensor` of batched images.\n",
        "    labels: `Tensor` of one hot labels for the data samples\n",
        "    mode: one of `tf.estimator.ModeKeys.{TRAIN,EVAL,PREDICT}`\n",
        "    params: `dict` of parameters passed to the model from the TPUEstimator,\n",
        "        `params['batch_size']` is always provided and should be used as the\n",
        "        effective batch size.\n",
        "  Returns:\n",
        "    A `TPUEstimatorSpec` for the model\n",
        "  \"\"\"\n",
        "  if isinstance(features, dict):\n",
        "    print(\"is dict\")\n",
        "    features = features['feature']\n",
        "\n",
        "  stats_shape = [1, 1, 3]\n",
        "\n",
        "  if transpose_input and mode != tf.estimator.ModeKeys.PREDICT:\n",
        "    features = tf.transpose(features, [3, 0, 1, 2])  # HWCN to NHWC\n",
        "\n",
        "  is_training = (mode == tf.estimator.ModeKeys.TRAIN)\n",
        "  has_moving_average_decay = (moving_average_decay > 0)\n",
        "\n",
        "  # This is essential, if using a keras-derived model.\n",
        "  tf.keras.backend.set_learning_phase(is_training)\n",
        "  tf.logging.info('Using open-source implementation.')\n",
        "  override_params = {}\n",
        "\n",
        "  def normalize_features(features, mean_rgb, stddev_rgb):\n",
        "    \"\"\"Normalize the image given the means and stddevs.\"\"\"\n",
        "    features -= tf.constant(mean_rgb, shape=stats_shape, dtype=features.dtype)\n",
        "    features /= tf.constant(stddev_rgb, shape=stats_shape, dtype=features.dtype)\n",
        "    return features\n",
        "\n",
        "  def build_model():\n",
        "    \"\"\"Build model using the model_name given through the command line.\"\"\"\n",
        "    model_builder = efficientnet_builder\n",
        "    normalized_features = normalize_features(features, model_builder.MEAN_RGB,\n",
        "                                             model_builder.STDDEV_RGB)\n",
        "    \n",
        "    output_layer, endpoints = model_builder.build_model(\n",
        "        normalized_features,\n",
        "        model_name=model_name,\n",
        "        fine_tuning = True,\n",
        "        pooled_features_only = False,\n",
        "        features_only = False,\n",
        "        training=is_training,\n",
        "        override_params=override_params,\n",
        "        model_dir=model_dir)\n",
        "\n",
        "      \n",
        "    # Connect a new Dense Layer to the global pooling features of the pretrained CNN\n",
        "    def dense_kernel_initializer(shape, dtype=None, partition_info=None):\n",
        "      del partition_info\n",
        "      init_range = 1.0 / np.sqrt(shape[1])\n",
        "      return tf.random_uniform(shape, -init_range, init_range, dtype=dtype)\n",
        "\n",
        "    _fc = tf.layers.Dense(\n",
        "            num_label_classes,\n",
        "            kernel_initializer=dense_kernel_initializer,name = \"ldense\")\n",
        "      \n",
        "    logits = _fc(endpoints['global_pool']) #connect to global pooling layer of pretrained CNN (other endpoints possible)\n",
        "    \n",
        "\n",
        "    return logits\n",
        "\n",
        "  logits = build_model()\n",
        "\n",
        "  train_op = None\n",
        "  host_call = None\n",
        "\n",
        "\n",
        "\n",
        "\n",
        "  # PREDICTION MODE\n",
        "  # ******************************************************************************\n",
        "  if mode == tf.estimator.ModeKeys.PREDICT:\n",
        "    predictions = {\n",
        "        'label': tf.argmax(labels, axis=1),\n",
        "        'prediction': tf.argmax(logits, axis=1),\n",
        "        'probabilities': tf.nn.softmax(logits, name='softmax_tensor')\n",
        "    }\n",
        "    return tf.estimator.tpu.TPUEstimatorSpec(\n",
        "        mode=mode,\n",
        "        predictions=predictions,\n",
        "        export_outputs={\n",
        "            'classify': tf.estimator.export.PredictOutput(predictions)\n",
        "        })\n",
        "\n",
        "\n",
        "\n",
        "\n",
        "  # CONTINUE WITH TRAINING OR EVAL MODE\n",
        "  # ******************************************************************************\n",
        "  batch_size = params['batch_size']\n",
        "\n",
        "  # Calculate loss, which includes softmax cross entropy and L2 regularization.\n",
        "  cross_entropy = tf.losses.softmax_cross_entropy(\n",
        "      logits=logits,\n",
        "      onehot_labels=labels,\n",
        "      label_smoothing=label_smoothing)\n",
        "\n",
        "  # Add weight decay to the loss for non-batch-normalization variables.\n",
        "  loss = cross_entropy + weight_decay * tf.add_n(\n",
        "      [tf.nn.l2_loss(v) for v in tf.trainable_variables()\n",
        "       if 'batch_normalization' not in v.name])\n",
        "\n",
        "  global_step = tf.train.get_global_step()\n",
        "  tf.logging.info(\"globalstep:{}\".format(global_step))\n",
        "\n",
        "  restore_vars_dict = None\n",
        "  if has_moving_average_decay:\n",
        "    ema = tf.train.ExponentialMovingAverage(decay=moving_average_decay, num_updates=global_step)\n",
        "    ema_vars = get_ema_vars()\n",
        "    restore_vars_dict = ema.variables_to_restore(ema_vars)\n",
        "  \n",
        "  # TRAINING MODE\n",
        "  # ******************************************************************************\n",
        "  if is_training:\n",
        "    # Compute the current epoch and associated learning rate from global_step.\n",
        "    current_epoch = (tf.cast(global_step, tf.float32) / params['steps_per_epoch'])\n",
        "    tf.logging.info('current epoch = {}'.format(tf.reshape(current_epoch, [1])))\n",
        "    \n",
        "    scaled_lr = base_learning_rate * (train_batch_size / 256.0)\n",
        "    tf.logging.info('base_learning_rate = %f', base_learning_rate)\n",
        "    learning_rate = utils.build_learning_rate(scaled_lr, global_step,params['steps_per_epoch'])\n",
        "    \n",
        "    # Override scaled learning rate with base_learning_rate (comment if scaled lr decay be used)\n",
        "    if not lr_decay:\n",
        "      learning_rate = scaled_lr\n",
        "    \n",
        "    optimizer = utils.build_optimizer(learning_rate)\n",
        "    print(\"learning rate:\",learning_rate)\n",
        "\n",
        "    optimizer = tf.tpu.CrossShardOptimizer(optimizer)\n",
        "\n",
        "    # Batch normalization requires UPDATE_OPS to be added as a dependency to\n",
        "    # the train operation.\n",
        "    update_ops = tf.get_collection(tf.GraphKeys.UPDATE_OPS)\n",
        "\n",
        "    \n",
        "    vars_to_update = [var for var in tf.trainable_variables() if 'ldense' in var.name]\n",
        "    print(vars_to_update)\n",
        "    \n",
        "    with tf.control_dependencies(update_ops):\n",
        "      train_op = optimizer.minimize(loss, global_step, var_list=vars_to_update)\n",
        "\n",
        "\n",
        "    if has_moving_average_decay:\n",
        "      with tf.control_dependencies([train_op]):\n",
        "        train_op = ema.apply(ema_vars)\n",
        "\n",
        "\n",
        "    # Host Call Function to write scalar summaries for Tensorboard\n",
        "    def host_call_fn(gs, lr, ce,acc):\n",
        "      print(\"host call\")\n",
        "      gs = gs[0]\n",
        "\n",
        "      with tf2.summary.create_file_writer(model_dir, max_queue=iterations_per_loop).as_default():\n",
        "        with tf2.summary.record_if(True):\n",
        "          tf2.summary.scalar('learning_rate', lr[0], step=gs)\n",
        "          tf2.summary.scalar('current_epoch', ce[0], step=gs)\n",
        "          tf2.summary.scalar('accuracy', acc[0], step=gs)\n",
        "        return tf.summary.all_v2_summary_ops()\n",
        "\n",
        "    gs_t = tf.reshape(global_step, [1])\n",
        "    lr_t = tf.reshape(learning_rate, [1])\n",
        "    ce_t = tf.reshape(current_epoch, [1])\n",
        "\n",
        "    labels = tf.argmax(labels, axis=1)\n",
        "    predictions = tf.argmax(logits, axis=1)\n",
        "    accuracy = tf.reduce_mean(tf.cast(tf.equal(predictions, labels), tf.float32)) # own accuracy metric\n",
        "    accuracy_t = tf.reshape(accuracy, [-1])\n",
        "\n",
        "    host_call = (host_call_fn, [gs_t, lr_t, ce_t,accuracy_t])\n",
        "\n",
        "\n",
        "    if init_checkpoint_dir:\n",
        "\n",
        "      num_params = np.sum([np.prod(v.shape) for v in tf.trainable_variables()])\n",
        "      tf.logging.info('number of trainable parameters: %d', num_params)\n",
        "\n",
        "      # TPU Scaffold Function to load variables from initial pretrained checkpoint \n",
        "      def tpu_scaffold():\n",
        "        print(\"init_checkpoint_dir: {}\".format(init_checkpoint_dir))\n",
        "\n",
        "        # Remove variables that are not stored in pretrained checkpoint\n",
        "        restore_vars_dict.pop(\"global_step\")\n",
        "        #restore_vars_dict.pop(\"output_bias/ExponentialMovingAverage\")\n",
        "        #restore_vars_dict.pop(\"output_weights/ExponentialMovingAverage\")\n",
        "        restore_vars_dict.pop(\"ldense/bias/ExponentialMovingAverage\")\n",
        "        restore_vars_dict.pop(\"ldense/kernel/ExponentialMovingAverage\")\n",
        "        tf.train.init_from_checkpoint(init_checkpoint_dir, restore_vars_dict)\n",
        "        print(\"init checkpoint finished\")\n",
        "        return tf.train.Scaffold()\n",
        "\n",
        "      scaffold_fn = tpu_scaffold\n",
        "\n",
        "      return tf.estimator.tpu.TPUEstimatorSpec(\n",
        "        mode=mode,\n",
        "        loss=loss,\n",
        "        train_op=train_op,\n",
        "        host_call=host_call,\n",
        "        scaffold_fn=scaffold_fn\n",
        "        )\n",
        "      \n",
        "    return tf.estimator.tpu.TPUEstimatorSpec(\n",
        "      mode=mode,\n",
        "      loss=loss,\n",
        "      train_op=train_op,\n",
        "      host_call=host_call\n",
        "      )\n",
        "\n",
        "\n",
        "\n",
        "\n",
        "\n",
        "  # EVALUATION MODE\n",
        "  # ******************************************************************************\n",
        "  if mode == tf.estimator.ModeKeys.EVAL:\n",
        "\n",
        "    # Function to compute confusion matrix with labels and predictions\n",
        "    def eval_confusion_matrix(labels, predictions):\n",
        "        with tf.variable_scope(\"eval_confusion_matrix\"):\n",
        "          con_matrix = tf.confusion_matrix(labels=labels, predictions=predictions, num_classes=num_label_classes)\n",
        "\n",
        "          con_matrix_sum = tf.Variable(lambda: tf.zeros(shape=(num_label_classes,num_label_classes), dtype=tf.int32),\n",
        "                                              trainable=False,\n",
        "                                              name=\"confusion_matrix_result\",\n",
        "                                              collections=[tf.GraphKeys.LOCAL_VARIABLES])\n",
        "\n",
        "\n",
        "          update_op = tf.assign_add(con_matrix_sum, con_matrix)\n",
        "\n",
        "          return tf.convert_to_tensor(con_matrix_sum), update_op\n",
        "\n",
        "    # Metric Function to return and write evaluation metrics \n",
        "    def metric_fn(labels, logits):\n",
        "      \"\"\"Evaluation metric function. Evaluates accuracy.\n",
        "      This function is executed on the CPU and should not directly reference\n",
        "      any Tensors in the rest of the `model_fn`. To pass Tensors from the model\n",
        "      to the `metric_fn`, provide as part of the `eval_metrics`. See\n",
        "      https://www.tensorflow.org/api_docs/python/tf/estimator/tpu/TPUEstimatorSpec\n",
        "      for more information.\n",
        "      Arguments should match the list of `Tensor` objects passed as the second\n",
        "      element in the tuple passed to `eval_metrics`.\n",
        "      Args:\n",
        "        labels: `Tensor` with shape `[batch, num_classes]`.\n",
        "        logits: `Tensor` with shape `[batch, num_classes]`.\n",
        "      Returns:\n",
        "        A dict of the metrics to return from evaluation.\n",
        "      \"\"\"\n",
        "      labels = tf.argmax(labels, axis=1)\n",
        "      predictions = tf.argmax(logits, axis=1)\n",
        "\n",
        "      top_1_accuracy = tf.metrics.accuracy(labels, predictions)\n",
        "      in_top_5 = tf.cast(tf.nn.in_top_k(logits, labels, 5), tf.float32)\n",
        "      top_5_accuracy = tf.metrics.mean(in_top_5)\n",
        "      con_mat= eval_confusion_matrix(labels, predictions)\n",
        "\n",
        "      return {\n",
        "          'top_1_accuracy': top_1_accuracy,\n",
        "          'top_5_accuracy': top_5_accuracy,\n",
        "          'con_mat':con_mat\n",
        "      }\n",
        "\n",
        "    eval_metrics = (metric_fn, [labels, logits])\n",
        "\n",
        "    return tf.estimator.tpu.TPUEstimatorSpec(\n",
        "      mode=mode,\n",
        "      loss=loss,\n",
        "      eval_metrics=eval_metrics,\n",
        "    )"
      ],
      "execution_count": 0,
      "outputs": []
    },
    {
      "cell_type": "markdown",
      "metadata": {
        "id": "t3egK46JY9h1",
        "colab_type": "text"
      },
      "source": [
        "###Run Config and Estimator"
      ]
    },
    {
      "cell_type": "code",
      "metadata": {
        "id": "Y4FmkSDHeAJ1",
        "colab_type": "code",
        "colab": {
          "base_uri": "https://localhost:8080/",
          "height": 300
        },
        "outputId": "3c09e180-a046-47b7-ce58-1c6809cfdaec"
      },
      "source": [
        "# Set up Run Configuration and Estimator\n",
        "params = dict(\n",
        "      steps_per_epoch=num_train_images / train_batch_size,\n",
        "      use_bfloat16=False);\n",
        "\n",
        "save_checkpoints_steps = 2*params[\"steps_per_epoch\"];\n",
        "\n",
        "config = tf.estimator.tpu.RunConfig(\n",
        "      cluster=tpu_cluster_resolver,\n",
        "      model_dir=model_dir, #model dir used for \n",
        "      save_checkpoints_steps=save_checkpoints_steps,\n",
        "      keep_checkpoint_max = 100,\n",
        "      log_step_count_steps=log_step_count_steps,\n",
        "      session_config=tf.ConfigProto(\n",
        "          graph_options=tf.GraphOptions(\n",
        "              rewrite_options=rewriter_config_pb2.RewriterConfig(\n",
        "                  disable_meta_optimizer=True))),\n",
        "      tpu_config=tf.estimator.tpu.TPUConfig(\n",
        "          iterations_per_loop=iterations_per_loop,\n",
        "          per_host_input_for_training=tf.estimator.tpu.InputPipelineConfig\n",
        "          .PER_HOST_V2));\n",
        "\n",
        "est = tf.estimator.tpu.TPUEstimator(\n",
        "      use_tpu=use_tpu,\n",
        "      model_fn=model_fn,\n",
        "      config=config,\n",
        "      train_batch_size=train_batch_size,\n",
        "      eval_batch_size=eval_batch_size,\n",
        "      predict_batch_size = predict_batch_size,\n",
        "      params=params);"
      ],
      "execution_count": 11,
      "outputs": [
        {
          "output_type": "stream",
          "text": [
            "INFO:tensorflow:Using config: {'_model_dir': 'gs://ise-bucket/efficientnet/efficientnet-b0/FT-28-01-20-8', '_tf_random_seed': None, '_save_summary_steps': 100, '_save_checkpoints_steps': 331.509765625, '_save_checkpoints_secs': None, '_session_config': graph_options {\n",
            "  rewrite_options {\n",
            "    disable_meta_optimizer: true\n",
            "  }\n",
            "}\n",
            "cluster_def {\n",
            "  job {\n",
            "    name: \"worker\"\n",
            "    tasks {\n",
            "      key: 0\n",
            "      value: \"10.23.233.42:8470\"\n",
            "    }\n",
            "  }\n",
            "}\n",
            ", '_keep_checkpoint_max': 100, '_keep_checkpoint_every_n_hours': 10000, '_log_step_count_steps': None, '_train_distribute': None, '_device_fn': None, '_protocol': None, '_eval_distribute': None, '_experimental_distribute': None, '_experimental_max_worker_delay_secs': None, '_session_creation_timeout_secs': 7200, '_service': None, '_cluster_spec': <tensorflow.python.training.server_lib.ClusterSpec object at 0x7f6d81269940>, '_task_type': 'worker', '_task_id': 0, '_global_id_in_cluster': 0, '_master': 'grpc://10.23.233.42:8470', '_evaluation_master': 'grpc://10.23.233.42:8470', '_is_chief': True, '_num_ps_replicas': 0, '_num_worker_replicas': 1, '_tpu_config': TPUConfig(iterations_per_loop=100, num_shards=None, num_cores_per_replica=None, per_host_input_for_training=3, tpu_job_name=None, initial_infeed_sleep_secs=None, input_partition_dims=None, eval_training_input_configuration=2, experimental_host_call_every_n_steps=1), '_cluster': <tensorflow.python.distribute.cluster_resolver.tpu_cluster_resolver.TPUClusterResolver object at 0x7f6d34aecba8>}\n",
            "INFO:tensorflow:_TPUContext: eval_on_tpu True\n"
          ],
          "name": "stdout"
        }
      ]
    },
    {
      "cell_type": "markdown",
      "metadata": {
        "id": "VFy5SCpLinQM",
        "colab_type": "text"
      },
      "source": [
        "### Train"
      ]
    },
    {
      "cell_type": "code",
      "metadata": {
        "id": "LL0rhEmfipG3",
        "colab_type": "code",
        "colab": {}
      },
      "source": [
        "def training(epochs):\n",
        "  start_timestamp = datetime.datetime.now() # This time will include compilation time\n",
        "  tf.logging.info(\"*\"*100)\n",
        "  tf.logging.info(\"Start training for {} epochs at {}\".format(epochs, start_timestamp))\n",
        "  current_step = estimator._load_global_step_from_checkpoint_dir(model_dir)\n",
        "  steps_this_run = np.min([epochs*params['steps_per_epoch'],train_steps-current_step]) # runs for epochs minimum per run and maximum to train_steps\n",
        "  tf.logging.info(\n",
        "      'Training for %d steps (%.2f epochs in total). Current'\n",
        "      ' step %d.', steps_this_run,\n",
        "      steps_this_run / params['steps_per_epoch'], current_step)\n",
        "  tf.contrib.summary.always_record_summaries()\n",
        "  est.train(\n",
        "      input_fn=input_fn_builder(is_training=True),\n",
        "      max_steps=int(current_step+steps_this_run))\n",
        "\n",
        "  end_timestamp = datetime.datetime.now() # This time will include compilation time\n",
        "  tf.logging.info(\"Finished training at {}\".format(end_timestamp))\n",
        "  tf.logging.info(\"*\"*100)"
      ],
      "execution_count": 0,
      "outputs": []
    },
    {
      "cell_type": "code",
      "metadata": {
        "id": "HfEv_4X9-Aqn",
        "colab_type": "code",
        "colab": {}
      },
      "source": [
        "training(50)"
      ],
      "execution_count": 0,
      "outputs": []
    },
    {
      "cell_type": "markdown",
      "metadata": {
        "id": "1t2dfxc77Y2A",
        "colab_type": "text"
      },
      "source": [
        "###Evaluation"
      ]
    },
    {
      "cell_type": "code",
      "metadata": {
        "id": "--Ujysj8XNc8",
        "colab_type": "code",
        "colab": {}
      },
      "source": [
        "def evaluation(checkpoint_path):\n",
        "  start_timestamp = datetime.datetime.now() # This time will include compilation time\n",
        "  tf.logging.info(\"*\"*100)\n",
        "  current_step = estimator._load_global_step_from_checkpoint_dir(model_dir)\n",
        "  epoch = current_step / params['steps_per_epoch']\n",
        "  tf.logging.info(\"Start evaluation epoch {} at {}\".format(epoch,start_timestamp))\n",
        "  predictions = est.evaluate(input_fn = input_fn_builder(is_training=False), steps = eval_steps, checkpoint_path=checkpoint_path)\n",
        "  end_timestamp = datetime.datetime.now() # This time will include compilation time\n",
        "  tf.logging.info(\"Finished evaluation at {}\".format(end_timestamp))\n",
        "  tf.logging.info(\"*\"*100)\n",
        "  return predictions"
      ],
      "execution_count": 0,
      "outputs": []
    },
    {
      "cell_type": "code",
      "metadata": {
        "id": "-XBPoaZ6xrR3",
        "colab_type": "code",
        "colab": {}
      },
      "source": [
        "checkpoints_evaluated = 0\n",
        "import gcsfs\n",
        "fs = gcsfs.GCSFileSystem()\n",
        "fs.invalidate_cache(model_dir)\n",
        "\n",
        "df_eval = pd.read_csv(model_dir+\"/checkpoint\",header=None)\n",
        "ckpt_list = [ckpt.split(\": \")[1].replace('\"','') for ckpt in df_eval[0].values[1:]]\n",
        "for ckpt in ckpt_list[74:75]:\n",
        "    checkpoint_path = model_dir+\"/\"+ckpt\n",
        "    print(checkpoint_path)\n",
        "    eval_out = evaluation(checkpoint_path)\n",
        "    #checkpoints_evaluated += 1"
      ],
      "execution_count": 0,
      "outputs": []
    },
    {
      "cell_type": "markdown",
      "metadata": {
        "id": "K3qYT8n946pe",
        "colab_type": "text"
      },
      "source": [
        "# Clean Datasets"
      ]
    },
    {
      "cell_type": "code",
      "metadata": {
        "id": "9EPk2QLrdjm4",
        "colab_type": "code",
        "colab": {}
      },
      "source": [
        "# Define the checkpoint_path used for prediction and the difference between the highest confidence and the ground truth confidence as a rejection criterion\n",
        "checkpoint_path = model_dir+\"/model.ckpt-9000\"\n",
        "difference_max_conf_to_gt_conf = 0.3"
      ],
      "execution_count": 0,
      "outputs": []
    },
    {
      "cell_type": "code",
      "metadata": {
        "id": "bw4nV2054_M5",
        "colab_type": "code",
        "colab": {}
      },
      "source": [
        "# Define checkpoint_path and predict rdf:type of images\n",
        "print(\"predict with checkpoint:\",checkpoint_path)\n",
        "predictions = est.predict(input_fn=input_fn_builder_unshuffled(is_training=False),yield_single_examples=True, checkpoint_path=checkpoint_path)\n",
        "prediction_output = list(predictions)"
      ],
      "execution_count": 0,
      "outputs": []
    },
    {
      "cell_type": "code",
      "metadata": {
        "id": "NiQDNAxc5cMH",
        "colab_type": "code",
        "colab": {}
      },
      "source": [
        "# Return filename of images that are predicted\n",
        "data = input_fn_builder_unshuffled(is_training=False, only_filenames=True)(params)\n",
        "labels_and_filenames = []\n",
        "\n",
        "for elem in data:\n",
        "  labels_and_filenames.append(elem)\n",
        "\n",
        "file_names = [x[1].numpy()[0].decode(\"utf-8\") for x in labels_and_filenames]\n",
        "\n",
        "# Zip file names and predictions\n",
        "zipped_data = list(zip(file_names,prediction_output))"
      ],
      "execution_count": 0,
      "outputs": []
    },
    {
      "cell_type": "code",
      "metadata": {
        "id": "Jemruyb57C8n",
        "colab_type": "code",
        "colab": {}
      },
      "source": [
        "# Denoise dataset by images that are probably mislabeled\n",
        "remaining_files = []\n",
        "count = 0\n",
        "for x in zipped_data:\n",
        "  file_name = x[0]\n",
        "  label = x[2][\"label\"]-1\n",
        "  prediction = x[2][\"prediction\"]\n",
        "  if label != prediction:\n",
        "    max_conf = np.max(x[2][\"probabilities\"])\n",
        "    gt_conf = x[2][\"probabilities\"][label]\n",
        "    prediction_is_likely = True if max_conf-gt_conf > 0.3 else False\n",
        "    if prediction_is_likely:\n",
        "      count += 1\n",
        "    else:\n",
        "      remaining_files.append((\"gs://ise-bucket/efficientnet/dataset-20-01-13_1-img_10000-ent_100-class/\"+file_name,inverse_label_map[label]))\n",
        "  else:\n",
        "    remaining_files.append((\"gs://ise-bucket/efficientnet/dataset-20-01-13_1-img_10000-ent_100-class/\"+file_name,inverse_label_map[label]))\n",
        "\n",
        "print(count)\n",
        "print(len(remaining_files))\n",
        "print(count/len(zipped_data))\n",
        "df_remaining_files = pd.DataFrame(remaining_files,columns=[\"url\",\"label\"])\n",
        "df_remaining_files.to_csv(\"filtered_training_path_label.csv\")\n",
        "print(df_remaining_files.head(5))"
      ],
      "execution_count": 0,
      "outputs": []
    },
    {
      "cell_type": "markdown",
      "metadata": {
        "id": "7OPARvgGXd1h",
        "colab_type": "text"
      },
      "source": [
        "#Evaluation with hierarchy approach"
      ]
    },
    {
      "cell_type": "markdown",
      "metadata": {
        "id": "mA7iHiYjMEj0",
        "colab_type": "text"
      },
      "source": [
        "###functions to get predictions and ground truth labels for images"
      ]
    },
    {
      "cell_type": "code",
      "metadata": {
        "id": "jh7g0VOGLasR",
        "colab_type": "code",
        "colab": {}
      },
      "source": [
        "def predict_with_ckpt_for_ckpt_number(_model_name, _run_name, _ckpt_num):\n",
        "  _model_dir = 'gs://ise-bucket/efficientnet/'+_model_name+'/'+_run_name\n",
        "  checkpoint_path = _model_dir+\"/model.ckpt-\"+_ckpt_num\n",
        "  print(\"predict with checkpoint:\",checkpoint_path)\n",
        "\n",
        "  params = dict(\n",
        "      steps_per_epoch=num_train_images / train_batch_size,\n",
        "      use_bfloat16=False);\n",
        "\n",
        "  save_checkpoints_steps = params[\"steps_per_epoch\"];\n",
        "\n",
        "  config = tf.estimator.tpu.RunConfig(\n",
        "        cluster=tpu_cluster_resolver,\n",
        "        model_dir=_model_dir, \n",
        "        save_checkpoints_steps=save_checkpoints_steps,\n",
        "        keep_checkpoint_max = 100,\n",
        "        log_step_count_steps=log_step_count_steps,\n",
        "        session_config=tf.ConfigProto(\n",
        "            graph_options=tf.GraphOptions(\n",
        "                rewrite_options=rewriter_config_pb2.RewriterConfig(\n",
        "                    disable_meta_optimizer=True))),\n",
        "        tpu_config=tf.estimator.tpu.TPUConfig(\n",
        "            iterations_per_loop=iterations_per_loop,\n",
        "            per_host_input_for_training=tf.estimator.tpu.InputPipelineConfig\n",
        "            .PER_HOST_V2));\n",
        "\n",
        "  est = tf.estimator.tpu.TPUEstimator(\n",
        "        use_tpu=use_tpu,\n",
        "        model_fn=model_fn,\n",
        "        config=config,\n",
        "        train_batch_size=train_batch_size,\n",
        "        eval_batch_size=eval_batch_size,\n",
        "        predict_batch_size = predict_batch_size,\n",
        "        params=params);\n",
        "\n",
        "\n",
        "  predictions = est.predict(input_fn=input_fn_builder_unshuffled(is_training=False),yield_single_examples=True, checkpoint_path=checkpoint_path)\n",
        "  prediction_output = list(predictions)\n",
        "  return prediction_output"
      ],
      "execution_count": 0,
      "outputs": []
    },
    {
      "cell_type": "code",
      "metadata": {
        "id": "9dXXFiYgYszy",
        "colab_type": "code",
        "colab": {}
      },
      "source": [
        "def get_filenames_for_images():\n",
        "  params = {\"batch_size\":1}\n",
        "  data = input_fn_builder_unshuffled(is_training=False, only_filenames=True)(params)\n",
        "\n",
        "  filenames = []\n",
        "  idx = 0\n",
        "  for elem in data:\n",
        "    idx += 1\n",
        "    if idx % 10000 == 0:\n",
        "      print(idx)\n",
        "    filename = elem[1].numpy()[0].decode(\"utf-8\")\n",
        "    filenames.append(filename)\n",
        "  return filenames"
      ],
      "execution_count": 0,
      "outputs": []
    },
    {
      "cell_type": "code",
      "metadata": {
        "id": "GPESM2rwXjRI",
        "colab_type": "code",
        "colab": {}
      },
      "source": [
        "def get_labels_for_images():\n",
        "  fs = gcsfs.GCSFileSystem()\n",
        "  fs.invalidate_cache('gs://ise-bucket/efficientnet/configs/config_9/labels.csv')  \n",
        "  if tf.gfile.Exists('gs://ise-bucket/efficientnet/configs/config_9/labels.csv'):\n",
        "    print(\"load labels.csv\")\n",
        "    labels_df = pd.read_csv('gs://ise-bucket/efficientnet/configs/config_9/labels.csv',header=None)\n",
        "    labels = labels_df[0].values.tolist()\n",
        "  else:\n",
        "    store_labels_for_images()\n",
        "    labels = get_labels_for_images()\n",
        "  return labels"
      ],
      "execution_count": 0,
      "outputs": []
    },
    {
      "cell_type": "code",
      "metadata": {
        "id": "6oDcl8xBjpOK",
        "colab_type": "code",
        "colab": {}
      },
      "source": [
        "def store_labels_for_images():\n",
        "  print(\"store labels.csv\")\n",
        "  df_labels = pd.read_csv(\"gs://ise-bucket/efficientnet/configs/config_9/validation_path_label.csv\")\n",
        "  filenames_csv = df_labels[\"Input\"].values.tolist()\n",
        "  labels_csv = df_labels[\"Output\"].values.tolist()\n",
        "  filename_to_label_dict = {x[0].split(\"/\")[-1]:x[1] for x in list(zip(filenames_csv,labels_csv))}\n",
        "\n",
        "  filenames = get_filenames_for_images()\n",
        "\n",
        "  labels = [filename_to_label_dict[filename] for filename in filenames]\n",
        "\n",
        "  labels_df = pd.DataFrame(labels,columns=[\"label\"])\n",
        "  labels_df.to_csv(\"gs://ise-bucket/efficientnet/configs/config_9/labels.csv\", index=False, header=False)"
      ],
      "execution_count": 0,
      "outputs": []
    },
    {
      "cell_type": "markdown",
      "metadata": {
        "id": "5D0OSHyoMURB",
        "colab_type": "text"
      },
      "source": [
        "##functions to store predictions and ground truth labels"
      ]
    },
    {
      "cell_type": "code",
      "metadata": {
        "id": "G9vEAgINMbBY",
        "colab_type": "code",
        "colab": {}
      },
      "source": [
        "def store_predictions_to_csv(prediction_output):\n",
        "  list_of_probs = []\n",
        "  list_of_labels = []\n",
        "\n",
        "  for image in prediction_output:\n",
        "    list_of_probs.append(image[\"probabilities\"])\n",
        "    list_of_labels.append(image[\"label\"])\n",
        "\n",
        "  pd.DataFrame(list_of_probs).to_csv(\"confidences.csv\")\n",
        "  pd.DataFrame(list_of_labels).to_csv(\"labels.csv\")"
      ],
      "execution_count": 0,
      "outputs": []
    },
    {
      "cell_type": "markdown",
      "metadata": {
        "id": "rmOp4eBZK7qz",
        "colab_type": "text"
      },
      "source": [
        "## create datastructures for metric calculation"
      ]
    },
    {
      "cell_type": "code",
      "metadata": {
        "id": "In6hdTlj7WQk",
        "colab_type": "code",
        "colab": {
          "base_uri": "https://localhost:8080/",
          "height": 431
        },
        "outputId": "75ab2ab4-a4f2-4047-81eb-6c0c9bc7eaad"
      },
      "source": [
        "df = pd.read_csv('gs://ise-bucket/efficientnet/hierarchy_lists/dbo classes hierarchies.csv',index_col=None)\n",
        "hierarchies_raw = df.values.tolist()\n",
        "hierarchies = [[i for i in line if type(i) != float] for line in hierarchies_raw]\n",
        "hierarchies = [[i for i in line if i != \"owl:Thing\"] for line in hierarchies]\n",
        "hierarchy_list = hierarchies[:-10]\n",
        "\n",
        "\n",
        "all_labels = []\n",
        "all_labels_index = []\n",
        "all_labels_to_index = {}\n",
        "for idx, hierarchy in enumerate(hierarchy_list):\n",
        "  leaf_node_of_hierarchy = hierarchy[-1]\n",
        "  all_labels.append(leaf_node_of_hierarchy)\n",
        "  all_labels_index.append(idx)\n",
        "  all_labels_to_index[leaf_node_of_hierarchy] = idx\n",
        "\n",
        "print(all_labels)\n",
        "print(all_labels_index)\n",
        "print(all_labels_to_index)\n",
        "print()\n",
        "\n",
        "\n",
        "df = pd.read_csv('gs://ise-bucket/efficientnet/configs/config_3/labels_map.csv',index_col=None)\n",
        "labels_map = dict(zip(df.label, df.label_index))\n",
        "labels_map_reverse = dict(zip(df.label_index, df.label))\n",
        "labels_map_index = {all_labels_to_index[k]:v for k,v in labels_map.items()}\n",
        "labels_map_index_reverse = {v:all_labels_to_index[k] for k,v in labels_map.items()}\n",
        "print(labels_map)\n",
        "print(labels_map_reverse)\n",
        "print(labels_map_index)\n",
        "print(labels_map_index_reverse)\n",
        "print()\n",
        "\n",
        "\n",
        "labels_with_predictions = list(labels_map.keys())\n",
        "labels_with_predictions_index = [all_labels_to_index[label] for label in labels_with_predictions]\n",
        "print(labels_with_predictions)\n",
        "print(labels_with_predictions_index)\n",
        "print()\n",
        "\n",
        "\n",
        "\n",
        "hierarchy_dict = {}\n",
        "hierarchy_dict_index = {}\n",
        "for idx, hierarchy in enumerate(hierarchy_list):\n",
        "  leaf_node_of_hierarchy = hierarchy[-1]\n",
        "  hierarchy_dict[leaf_node_of_hierarchy] = hierarchy\n",
        "\n",
        "  leaf_node_idx = all_labels_to_index[leaf_node_of_hierarchy]\n",
        "  hierarchy_idxs = [all_labels_to_index[elem] for elem in hierarchy]\n",
        "  hierarchy_dict_index[leaf_node_idx] = hierarchy_idxs\n",
        "\n",
        "print(hierarchy_dict)\n",
        "print(hierarchy_dict_index)\n",
        "print()\n",
        "\n",
        "\n",
        "\n",
        "labels_per_level = {1:[],2:[],3:[],4:[],5:[],6:[],7:[]}\n",
        "labels_per_level_index = {1:[],2:[],3:[],4:[],5:[],6:[],7:[]}\n",
        "for idx, hierarchy in enumerate(hierarchy_list):\n",
        "  level = len(hierarchy)\n",
        "  leaf_node_of_hierarchy = hierarchy[-1]\n",
        "  labels_per_level[level].append(leaf_node_of_hierarchy)\n",
        "  leaf_node_idx = all_labels_to_index[leaf_node_of_hierarchy]\n",
        "  labels_per_level_index[level].append(leaf_node_idx)\n",
        "\n",
        "print(labels_per_level)\n",
        "print(labels_per_level_index)\n",
        "print()\n",
        "\n",
        "\n",
        "\n",
        "child_parent_dict = {}\n",
        "child_parent_dict_index = {}\n",
        "for idx, hierarchy in enumerate(hierarchy_list):\n",
        "  if len(hierarchy)>1:\n",
        "    child = hierarchy[-1]\n",
        "    child_idx = all_labels_to_index[child]\n",
        "    parent = hierarchy[-2]\n",
        "    parent_idx = all_labels_to_index[parent]\n",
        "    child_parent_dict[child] = parent\n",
        "    child_parent_dict_index[child_idx] = parent_idx\n",
        "\n",
        "print(child_parent_dict)\n",
        "print(child_parent_dict_index)\n",
        "print()\n",
        "\n",
        "inverse_label_map = {value-1:key for key,value in labels_map.items()}\n",
        "\n",
        "lvl1_label_to_index = {label:index for index,label in enumerate(labels_per_level[1])}\n",
        "print(lvl1_label_to_index)\n",
        "print()\n",
        "\n",
        "level_of_label_index = {v[-1]:len(v) for k,v in hierarchy_dict_index.items()}\n",
        "print(level_of_label_index)"
      ],
      "execution_count": 17,
      "outputs": [
        {
          "output_type": "stream",
          "text": [
            "['Activity', 'Game', 'BoardGame', 'CardGame', 'Sales', 'Sport', 'Athletics', 'TeamSport', 'Agent', 'Deity', 'Employer', 'Family', 'NobleFamily', 'FictionalCharacter', 'ComicsCharacter', 'AnimangaCharacter', 'DisneyCharacter', 'MythologicalFigure', 'NarutoCharacter', 'SoapCharacter', 'Organisation', 'Broadcaster', 'BroadcastNetwork', 'RadioStation', 'TelevisionStation', 'Company', 'Bank', 'Brewery', 'Caterer', 'LawFirm', 'PublicTransitSystem', 'Airline', 'BusCompany', 'Publisher', 'RecordLabel', 'Winery', 'EducationalInstitution', 'College', 'Library', 'School', 'University', 'EmployersOrganisation', 'GeopoliticalOrganisation', 'GovernmentAgency', 'GovernmentCabinet', 'Group', 'Band', 'ComedyGroup', 'InternationalOrganisation', 'Legislature', 'MilitaryUnit', 'Non-ProfitOrganisation', 'RecordOffice', 'Parliament', 'PoliticalParty', 'ReligiousOrganisation', 'ClericalOrder', 'SambaSchool', 'SportsClub', 'HockeyClub', 'RugbyClub', 'SoccerClub', 'NationalSoccerClub', 'SportsLeague', 'AmericanFootballLeague', 'AustralianFootballLeague', 'AutoRacingLeague', 'BaseballLeague', 'BasketballLeague', 'BowlingLeague', 'BoxingLeague', 'CanadianFootballLeague', 'CricketLeague', 'CurlingLeague', 'CyclingLeague', 'FieldHockeyLeague', 'FormulaOneRacing', 'GolfLeague', 'HandballLeague', 'IceHockeyLeague', 'InlineHockeyLeague', 'LacrosseLeague', 'MixedMartialArtsLeague', 'MotorcycleRacingLeague', 'PaintballLeague', 'PoloLeague', 'RadioControlledRacingLeague', 'RugbyLeague', 'SoccerLeague', 'SoftballLeague', 'SpeedwayLeague', 'TennisLeague', 'VideogamesLeague', 'VolleyballLeague', 'SportsTeam', 'AmericanFootballTeam', 'AustralianFootballTeam', 'BaseballTeam', 'BasketballTeam', 'CanadianFootballTeam', 'CricketTeam', 'CyclingTeam', 'FormulaOneTeam', 'HandballTeam', 'HockeyTeam', 'SpeedwayTeam', 'TermOfOffice', 'TradeUnion', 'Person', 'Archeologist', 'Architect', 'Aristocrat', 'Artist', 'Actor', 'AdultActor', 'VoiceActor', 'Comedian', 'ComicsCreator', 'Dancer', 'FashionDesigner', 'Humorist', 'MusicalArtist', 'BackScene', 'ClassicalMusicArtist', 'Instrumentalist', 'Guitarist', 'MusicDirector', 'Singer', 'Painter', 'Photographer', 'Sculptor', 'Astronaut', 'Athlete', 'ArcherPlayer', 'AthleticsPlayer', 'AustralianRulesFootballPlayer', 'BadmintonPlayer', 'BaseballPlayer', 'BasketballPlayer', 'Bodybuilder', 'Boxer', 'AmateurBoxer', 'BullFighter', 'Canoeist', 'ChessPlayer', 'Cricketer', 'Cyclist', 'DartsPlayer', 'Fencer', 'GaelicGamesPlayer', 'GolfPlayer', 'GridironFootballPlayer', 'AmericanFootballPlayer', 'CanadianFootballPlayer', 'Gymnast', 'HandballPlayer', 'HighDiver', 'HorseRider', 'Jockey', 'LacrossePlayer', 'MartialArtist', 'MotorsportRacer', 'MotorcycleRider', 'MotocycleRacer', 'SpeedwayRider', 'RacingDriver', 'DTMRacer', 'FormulaOneRacer', 'NascarDriver', 'RallyDriver', 'NationalCollegiateAthleticAssociationAthlete', 'NetballPlayer', 'PokerPlayer', 'Rower', 'RugbyPlayer', 'SnookerPlayer', 'SnookerChamp', 'SoccerPlayer', 'SquashPlayer', 'Surfer', 'Swimmer', 'TableTennisPlayer', 'TeamMember', 'TennisPlayer', 'VolleyballPlayer', 'BeachVolleyballPlayer', 'WaterPoloPlayer', 'WinterSportPlayer', 'Biathlete', 'BobsleighAthlete', 'CrossCountrySkier', 'Curler', 'FigureSkater', 'IceHockeyPlayer', 'NordicCombined', 'Skater', 'Ski_jumper', 'Skier', 'SpeedSkater', 'Wrestler', 'SumoWrestler', 'BeautyQueen', 'BusinessPerson', 'Chef', 'Cleric', 'Cardinal', 'ChristianBishop', 'Archbishop', 'ChristianPatriarch', 'Pope', 'Priest', 'Saint', 'Vicar', 'Coach', 'AmericanFootballCoach', 'CollegeCoach', 'VolleyballCoach', 'Criminal', 'Murderer', 'SerialKiller', 'DBpedian', 'Economist', 'Egyptologist', 'Engineer', 'Farmer', 'HorseTrainer', 'Journalist', 'Judge', 'Lawyer', 'Linguist', 'MemberResistanceMovement', 'MilitaryPerson', 'Model', 'Monarch', 'MovieDirector', 'Noble', 'OfficeHolder', 'OrganisationMember', 'SportsTeamMember', 'Philosopher', 'PlayboyPlaymate', 'Politician', 'Ambassador', 'Chancellor', 'Congressman', 'Deputy', 'Governor', 'Lieutenant', 'Mayor', 'MemberOfParliament', 'Minister', 'President', 'PrimeMinister', 'Senator', 'VicePresident', 'VicePrimeMinister', 'PoliticianSpouse', 'Presenter', 'RadioHost', 'TelevisionHost', 'Producer', 'Psychologist', 'Referee', 'Religious', 'RomanEmperor', 'Royalty', 'BritishRoyalty', 'Baronet', 'Scientist', 'Biologist', 'Entomologist', 'Medician', 'Professor', 'SportsManager', 'SoccerManager', 'TelevisionDirector', 'TheatreDirector', 'Writer', 'Historian', 'MusicComposer', 'PlayWright', 'Poet', 'ScreenWriter', 'SongWriter', 'Algorithm', 'Altitude', 'AnatomicalStructure', 'Artery', 'BloodVessel', 'Bone', 'Brain', 'Embryology', 'Ligament', 'Lymph', 'Muscle', 'Nerve', 'Vein', 'Area', 'Award', 'Decoration', 'NobelPrize', 'Biomolecule', 'Enzyme', 'Gene', 'HumanGene', 'MouseGene', 'Hormone', 'Lipid', 'Polysaccharide', 'Protein', 'Blazon', 'Browser', 'ChartsPlacements', 'ChemicalSubstance', 'ChemicalCompound', 'ChemicalElement', 'Drug', 'CombinationDrug', 'MonoclonalAntibody', 'Vaccine', 'Mineral', 'Cipher', 'Colour', 'Currency', 'Demographics', 'Depth', 'Device', 'Battery', 'Camera', 'DigitalCamera', 'Engine', 'AutomobileEngine', 'RocketEngine', 'InformationAppliance', 'Instrument', 'Guitar', 'Organ', 'MobilePhone', 'Robot', 'Weapon', 'Diploma', 'Disease', 'ElectionDiagram', 'ElectricalSubstation', 'EthnicGroup', 'Event', 'Competition', 'Contest', 'LifeCycleEvent', 'PersonalEvent', 'NaturalEvent', 'Earthquake', 'SolarEclipse', 'StormSurge', 'PenaltyShootOut', 'SocietalEvent', 'AcademicConference', 'Attack', 'Convention', 'Election', 'FilmFestival', 'HistoricalEvent', 'Meeting', 'MilitaryConflict', 'MusicFestival', 'Rebellion', 'SpaceMission', 'SportsEvent', 'CyclingCompetition', 'FootballMatch', 'GrandPrix', 'InternationalFootballLeagueEvent', 'MixedMartialArtsEvent', 'NationalFootballLeagueEvent', 'Olympics', 'OlympicEvent', 'Race', 'CyclingRace', 'HorseRace', 'MotorRace', 'Tournament', 'GolfTournament', 'SoccerTournament', 'TennisTournament', 'WomensTennisAssociationTournament', 'WrestlingEvent', 'FileSystem', 'Flag', 'Food', 'Beverage', 'Beer', 'Vodka', 'Wine', 'ControlledDesignationOfOriginWine', 'Cheese', 'GeneLocation', 'HumanGeneLocation', 'MouseGeneLocation', 'GrossDomesticProduct', 'GrossDomesticProductPerCapita', 'Holiday', 'Identifier', 'TopLevelDomain', 'Language', 'ProgrammingLanguage', 'List', 'TrackList', 'MeanOfTransportation', 'Aircraft', 'MilitaryAircraft', 'Automobile', 'Locomotive', 'MilitaryVehicle', 'Motorcycle', 'On-SiteTransportation', 'ConveyorSystem', 'Escalator', 'MovingWalkway', 'Rocket', 'Ship', 'SpaceShuttle', 'SpaceStation', 'Spacecraft', 'Train', 'TrainCarriage', 'Tram', 'Media', 'MedicalSpecialty', 'Medicine', 'Name', 'GivenName', 'Surname', 'PersonFunction', 'PoliticalFunction', 'Profession', 'Place', 'ArchitecturalStructure', 'AmusementParkAttraction', 'RollerCoaster', 'WaterRide', 'Arena', 'Building', 'Casino', 'Castle', 'Factory', 'HistoricBuilding', 'Hospital', 'Hotel', 'Museum', 'Prison', 'ReligiousBuilding', 'Church', 'Monastery', 'Mosque', 'Shrine', 'Synagogue', 'Temple', 'Restaurant', 'ShoppingMall', 'Skyscraper', 'Venue', 'Cinema', 'Stadium', 'Theatre', 'Infrastructure', 'Airport', 'Dam', 'Dike', 'LaunchPad', 'Lock', 'Port', 'PowerStation', 'NuclearPowerStation', 'RestArea', 'RouteOfTransportation', 'Bridge', 'RailwayLine', 'RailwayTunnel', 'Road', 'RoadJunction', 'RoadTunnel', 'WaterwayTunnel', 'Station', 'MetroStation', 'RailwayStation', 'RouteStop', 'TramStation', 'MilitaryStructure', 'Fort', 'Mill', 'Treadmill', 'Watermill', 'WindMotor', 'Windmill', 'Monument', 'GraveMonument', 'Memorial', 'Pyramid', 'SportFacility', 'CricketGround', 'GolfCourse', 'RaceTrack', 'Racecourse', 'SkiArea', 'SkiResort', 'Square', 'Tower', 'Lighthouse', 'WaterTower', 'Tunnel', 'Zoo', 'CelestialBody', 'Asteroid', 'Constellation', 'Galaxy', 'Nebula', 'Planet', 'Satellite', 'ArtificialSatellite', 'Star', 'BrownDwarf', 'Swarm', 'Globularswarm', 'Openswarm', 'Cemetery', 'ConcentrationCamp', 'CountrySeat', 'Garden', 'HistoricPlace', 'Mine', 'CoalPit', 'NaturalPlace', 'Archipelago', 'Beach', 'BodyOfWater', 'Bay', 'Lake', 'Ocean', 'Sea', 'Stream', 'Canal', 'River', 'Cape', 'Cave', 'Crater', 'LunarCrater', 'Desert', 'Forest', 'Glacier', 'HotSpring', 'Mountain', 'MountainPass', 'MountainRange', 'Valley', 'Volcano', 'Park', 'PopulatedPlace', 'Agglomeration', 'Community', 'Continent', 'Country', 'HistoricalCountry', 'GatedCommunity', 'Intercommunality', 'Island', 'Atoll', 'Locality', 'Region', 'AdministrativeRegion', 'ClericalAdministrativeRegion', 'Deanery', 'Diocese', 'Parish', 'GovernmentalAdministrativeRegion', 'Arrondissement', 'Canton', 'Department', 'OverseasDepartment', 'District', 'HistoricalDistrict', 'DistrictWaterBoard', 'MicroRegion', 'Municipality', 'FormerMunicipality', 'Prefecture', 'Province', 'HistoricalProvince', 'Regency', 'SubMunicipality', 'HistoricalAreaOfAuthority', 'HistoricalRegion', 'NaturalRegion', 'Settlement', 'City', 'Capital', 'CapitalOfRegion', 'CityDistrict', 'HistoricalSettlement', 'Town', 'Village', 'State', 'Street', 'Territory', 'OldTerritory', 'ProtectedArea', 'SiteOfSpecialScientificInterest', 'WineRegion', 'WorldHeritageSite', 'Population', 'Protocol', 'PublicService', 'Relationship', 'Species', 'Archaea', 'Bacteria', 'Eukaryote', 'Animal', 'Amphibian', 'Arachnid', 'Bird', 'Crustacean', 'Fish', 'Insect', 'Mammal', 'Cat', 'Dog', 'Horse', 'Mollusca', 'Reptile', 'Fungus', 'Plant', 'ClubMoss', 'Conifer', 'CultivatedVariety', 'Cycad', 'Fern', 'FloweringPlant', 'Grape', 'Ginkgo', 'Gnetophytes', 'GreenAlga', 'Moss', 'SportCompetitionResult', 'OlympicResult', 'SnookerWorldRanking', 'SportsSeason', 'MotorsportSeason', 'SportsTeamSeason', 'BaseballSeason', 'FootballLeagueSeason', 'NationalFootballLeagueSeason', 'NCAATeamSeason', 'SoccerClubSeason', 'SoccerLeagueSeason', 'Spreadsheet', 'StarCluster', 'Statistic', 'Tank', 'TimePeriod', 'CareerStation', 'MilitaryService', 'GeologicalPeriod', 'HistoricalPeriod', 'PeriodOfArtisticStyle', 'PrehistoricalPeriod', 'ProtohistoricalPeriod', 'Reign', 'Tenure', 'Year', 'YearInSpaceflight', 'TopicalConcept', 'AcademicSubject', 'CardinalDirection', 'Fashion', 'Genre', 'ArtisticGenre', 'LiteraryGenre', 'MovieGenre', 'MusicGenre', 'Ideology', 'MathematicalConcept', 'PhilosophicalConcept', 'PoliticalConcept', 'ScientificConcept', 'Standard', 'SystemOfLaw', 'Tax', 'Taxon', 'TheologicalConcept', 'ChristianDoctrine', 'Type', 'DocumentType', 'GovernmentType', 'UnitOfWork', 'Case', 'LegalCase', 'SupremeCourtOfTheUnitedStatesCase', 'Project', 'ResearchProject', 'Unknown', 'WikimediaTemplate', 'Work', 'Artwork', 'Painting', 'Sculpture', 'Cartoon', 'Anime', 'HollywoodCartoon', 'CollectionOfValuables', 'Archive', 'Database', 'BiologicalDatabase', 'Document', 'File', 'Image', 'MovingImage', 'StillImage', 'Sound', 'Film', 'LineOfFashion', 'MusicalWork', 'Album', 'ArtistDiscography', 'ClassicalMusicComposition', 'Musical', 'NationalAnthem', 'Opera', 'Single', 'Song', 'EurovisionSongContestEntry', 'RadioProgram', 'Software', 'VideoGame', 'TelevisionEpisode', 'TelevisionSeason', 'TelevisionShow', 'Website', 'WrittenWork', 'Annotation', 'Reference', 'Article', 'Book', 'Novel', 'LightNovel', 'Comic', 'ComicStrip', 'Manga', 'Manhua', 'Manhwa', 'Drama', 'Law', 'Letter', 'MultiVolumePublication', 'PeriodicalLiterature', 'AcademicJournal', 'Magazine', 'Newspaper', 'UndergroundJournal', 'Play', 'Poem', 'Quote', 'Resume', 'StatedResolution', 'Treaty']\n",
            "[0, 1, 2, 3, 4, 5, 6, 7, 8, 9, 10, 11, 12, 13, 14, 15, 16, 17, 18, 19, 20, 21, 22, 23, 24, 25, 26, 27, 28, 29, 30, 31, 32, 33, 34, 35, 36, 37, 38, 39, 40, 41, 42, 43, 44, 45, 46, 47, 48, 49, 50, 51, 52, 53, 54, 55, 56, 57, 58, 59, 60, 61, 62, 63, 64, 65, 66, 67, 68, 69, 70, 71, 72, 73, 74, 75, 76, 77, 78, 79, 80, 81, 82, 83, 84, 85, 86, 87, 88, 89, 90, 91, 92, 93, 94, 95, 96, 97, 98, 99, 100, 101, 102, 103, 104, 105, 106, 107, 108, 109, 110, 111, 112, 113, 114, 115, 116, 117, 118, 119, 120, 121, 122, 123, 124, 125, 126, 127, 128, 129, 130, 131, 132, 133, 134, 135, 136, 137, 138, 139, 140, 141, 142, 143, 144, 145, 146, 147, 148, 149, 150, 151, 152, 153, 154, 155, 156, 157, 158, 159, 160, 161, 162, 163, 164, 165, 166, 167, 168, 169, 170, 171, 172, 173, 174, 175, 176, 177, 178, 179, 180, 181, 182, 183, 184, 185, 186, 187, 188, 189, 190, 191, 192, 193, 194, 195, 196, 197, 198, 199, 200, 201, 202, 203, 204, 205, 206, 207, 208, 209, 210, 211, 212, 213, 214, 215, 216, 217, 218, 219, 220, 221, 222, 223, 224, 225, 226, 227, 228, 229, 230, 231, 232, 233, 234, 235, 236, 237, 238, 239, 240, 241, 242, 243, 244, 245, 246, 247, 248, 249, 250, 251, 252, 253, 254, 255, 256, 257, 258, 259, 260, 261, 262, 263, 264, 265, 266, 267, 268, 269, 270, 271, 272, 273, 274, 275, 276, 277, 278, 279, 280, 281, 282, 283, 284, 285, 286, 287, 288, 289, 290, 291, 292, 293, 294, 295, 296, 297, 298, 299, 300, 301, 302, 303, 304, 305, 306, 307, 308, 309, 310, 311, 312, 313, 314, 315, 316, 317, 318, 319, 320, 321, 322, 323, 324, 325, 326, 327, 328, 329, 330, 331, 332, 333, 334, 335, 336, 337, 338, 339, 340, 341, 342, 343, 344, 345, 346, 347, 348, 349, 350, 351, 352, 353, 354, 355, 356, 357, 358, 359, 360, 361, 362, 363, 364, 365, 366, 367, 368, 369, 370, 371, 372, 373, 374, 375, 376, 377, 378, 379, 380, 381, 382, 383, 384, 385, 386, 387, 388, 389, 390, 391, 392, 393, 394, 395, 396, 397, 398, 399, 400, 401, 402, 403, 404, 405, 406, 407, 408, 409, 410, 411, 412, 413, 414, 415, 416, 417, 418, 419, 420, 421, 422, 423, 424, 425, 426, 427, 428, 429, 430, 431, 432, 433, 434, 435, 436, 437, 438, 439, 440, 441, 442, 443, 444, 445, 446, 447, 448, 449, 450, 451, 452, 453, 454, 455, 456, 457, 458, 459, 460, 461, 462, 463, 464, 465, 466, 467, 468, 469, 470, 471, 472, 473, 474, 475, 476, 477, 478, 479, 480, 481, 482, 483, 484, 485, 486, 487, 488, 489, 490, 491, 492, 493, 494, 495, 496, 497, 498, 499, 500, 501, 502, 503, 504, 505, 506, 507, 508, 509, 510, 511, 512, 513, 514, 515, 516, 517, 518, 519, 520, 521, 522, 523, 524, 525, 526, 527, 528, 529, 530, 531, 532, 533, 534, 535, 536, 537, 538, 539, 540, 541, 542, 543, 544, 545, 546, 547, 548, 549, 550, 551, 552, 553, 554, 555, 556, 557, 558, 559, 560, 561, 562, 563, 564, 565, 566, 567, 568, 569, 570, 571, 572, 573, 574, 575, 576, 577, 578, 579, 580, 581, 582, 583, 584, 585, 586, 587, 588, 589, 590, 591, 592, 593, 594, 595, 596, 597, 598, 599, 600, 601, 602, 603, 604, 605, 606, 607, 608, 609, 610, 611, 612, 613, 614, 615, 616, 617, 618, 619, 620, 621, 622, 623, 624, 625, 626, 627, 628, 629, 630, 631, 632, 633, 634, 635, 636, 637, 638, 639, 640, 641, 642, 643, 644, 645, 646, 647, 648, 649, 650, 651, 652, 653, 654, 655, 656, 657, 658, 659, 660, 661, 662, 663, 664, 665, 666, 667, 668, 669, 670, 671, 672, 673, 674, 675, 676, 677, 678, 679, 680, 681, 682, 683, 684, 685, 686, 687, 688, 689, 690, 691, 692, 693, 694, 695, 696, 697, 698, 699, 700, 701, 702, 703, 704, 705, 706, 707, 708, 709, 710, 711, 712, 713, 714, 715, 716, 717, 718, 719, 720, 721, 722, 723, 724, 725, 726, 727, 728, 729, 730, 731, 732, 733, 734, 735, 736, 737, 738, 739, 740, 741, 742, 743, 744, 745, 746, 747, 748, 749, 750, 751, 752, 753, 754, 755, 756, 757, 758, 759, 760, 761, 762, 763]\n",
            "{'Activity': 0, 'Game': 1, 'BoardGame': 2, 'CardGame': 3, 'Sales': 4, 'Sport': 5, 'Athletics': 6, 'TeamSport': 7, 'Agent': 8, 'Deity': 9, 'Employer': 10, 'Family': 11, 'NobleFamily': 12, 'FictionalCharacter': 13, 'ComicsCharacter': 14, 'AnimangaCharacter': 15, 'DisneyCharacter': 16, 'MythologicalFigure': 17, 'NarutoCharacter': 18, 'SoapCharacter': 19, 'Organisation': 20, 'Broadcaster': 21, 'BroadcastNetwork': 22, 'RadioStation': 23, 'TelevisionStation': 24, 'Company': 25, 'Bank': 26, 'Brewery': 27, 'Caterer': 28, 'LawFirm': 29, 'PublicTransitSystem': 30, 'Airline': 31, 'BusCompany': 32, 'Publisher': 33, 'RecordLabel': 34, 'Winery': 35, 'EducationalInstitution': 36, 'College': 37, 'Library': 38, 'School': 39, 'University': 40, 'EmployersOrganisation': 41, 'GeopoliticalOrganisation': 42, 'GovernmentAgency': 43, 'GovernmentCabinet': 44, 'Group': 45, 'Band': 46, 'ComedyGroup': 47, 'InternationalOrganisation': 48, 'Legislature': 49, 'MilitaryUnit': 50, 'Non-ProfitOrganisation': 51, 'RecordOffice': 52, 'Parliament': 53, 'PoliticalParty': 54, 'ReligiousOrganisation': 55, 'ClericalOrder': 56, 'SambaSchool': 57, 'SportsClub': 58, 'HockeyClub': 59, 'RugbyClub': 60, 'SoccerClub': 61, 'NationalSoccerClub': 62, 'SportsLeague': 63, 'AmericanFootballLeague': 64, 'AustralianFootballLeague': 65, 'AutoRacingLeague': 66, 'BaseballLeague': 67, 'BasketballLeague': 68, 'BowlingLeague': 69, 'BoxingLeague': 70, 'CanadianFootballLeague': 71, 'CricketLeague': 72, 'CurlingLeague': 73, 'CyclingLeague': 74, 'FieldHockeyLeague': 75, 'FormulaOneRacing': 76, 'GolfLeague': 77, 'HandballLeague': 78, 'IceHockeyLeague': 79, 'InlineHockeyLeague': 80, 'LacrosseLeague': 81, 'MixedMartialArtsLeague': 82, 'MotorcycleRacingLeague': 83, 'PaintballLeague': 84, 'PoloLeague': 85, 'RadioControlledRacingLeague': 86, 'RugbyLeague': 87, 'SoccerLeague': 88, 'SoftballLeague': 89, 'SpeedwayLeague': 90, 'TennisLeague': 91, 'VideogamesLeague': 92, 'VolleyballLeague': 93, 'SportsTeam': 94, 'AmericanFootballTeam': 95, 'AustralianFootballTeam': 96, 'BaseballTeam': 97, 'BasketballTeam': 98, 'CanadianFootballTeam': 99, 'CricketTeam': 100, 'CyclingTeam': 101, 'FormulaOneTeam': 102, 'HandballTeam': 103, 'HockeyTeam': 104, 'SpeedwayTeam': 105, 'TermOfOffice': 106, 'TradeUnion': 107, 'Person': 108, 'Archeologist': 109, 'Architect': 110, 'Aristocrat': 111, 'Artist': 112, 'Actor': 113, 'AdultActor': 114, 'VoiceActor': 115, 'Comedian': 116, 'ComicsCreator': 117, 'Dancer': 118, 'FashionDesigner': 119, 'Humorist': 120, 'MusicalArtist': 121, 'BackScene': 122, 'ClassicalMusicArtist': 123, 'Instrumentalist': 124, 'Guitarist': 125, 'MusicDirector': 126, 'Singer': 127, 'Painter': 128, 'Photographer': 129, 'Sculptor': 130, 'Astronaut': 131, 'Athlete': 132, 'ArcherPlayer': 133, 'AthleticsPlayer': 134, 'AustralianRulesFootballPlayer': 135, 'BadmintonPlayer': 136, 'BaseballPlayer': 137, 'BasketballPlayer': 138, 'Bodybuilder': 139, 'Boxer': 140, 'AmateurBoxer': 141, 'BullFighter': 142, 'Canoeist': 143, 'ChessPlayer': 144, 'Cricketer': 145, 'Cyclist': 146, 'DartsPlayer': 147, 'Fencer': 148, 'GaelicGamesPlayer': 149, 'GolfPlayer': 150, 'GridironFootballPlayer': 151, 'AmericanFootballPlayer': 152, 'CanadianFootballPlayer': 153, 'Gymnast': 154, 'HandballPlayer': 155, 'HighDiver': 156, 'HorseRider': 157, 'Jockey': 158, 'LacrossePlayer': 159, 'MartialArtist': 160, 'MotorsportRacer': 161, 'MotorcycleRider': 162, 'MotocycleRacer': 163, 'SpeedwayRider': 164, 'RacingDriver': 165, 'DTMRacer': 166, 'FormulaOneRacer': 167, 'NascarDriver': 168, 'RallyDriver': 169, 'NationalCollegiateAthleticAssociationAthlete': 170, 'NetballPlayer': 171, 'PokerPlayer': 172, 'Rower': 173, 'RugbyPlayer': 174, 'SnookerPlayer': 175, 'SnookerChamp': 176, 'SoccerPlayer': 177, 'SquashPlayer': 178, 'Surfer': 179, 'Swimmer': 180, 'TableTennisPlayer': 181, 'TeamMember': 182, 'TennisPlayer': 183, 'VolleyballPlayer': 184, 'BeachVolleyballPlayer': 185, 'WaterPoloPlayer': 186, 'WinterSportPlayer': 187, 'Biathlete': 188, 'BobsleighAthlete': 189, 'CrossCountrySkier': 190, 'Curler': 191, 'FigureSkater': 192, 'IceHockeyPlayer': 193, 'NordicCombined': 194, 'Skater': 195, 'Ski_jumper': 196, 'Skier': 197, 'SpeedSkater': 198, 'Wrestler': 199, 'SumoWrestler': 200, 'BeautyQueen': 201, 'BusinessPerson': 202, 'Chef': 203, 'Cleric': 204, 'Cardinal': 205, 'ChristianBishop': 206, 'Archbishop': 207, 'ChristianPatriarch': 208, 'Pope': 209, 'Priest': 210, 'Saint': 211, 'Vicar': 212, 'Coach': 213, 'AmericanFootballCoach': 214, 'CollegeCoach': 215, 'VolleyballCoach': 216, 'Criminal': 217, 'Murderer': 218, 'SerialKiller': 219, 'DBpedian': 220, 'Economist': 221, 'Egyptologist': 222, 'Engineer': 223, 'Farmer': 224, 'HorseTrainer': 225, 'Journalist': 226, 'Judge': 227, 'Lawyer': 228, 'Linguist': 229, 'MemberResistanceMovement': 230, 'MilitaryPerson': 231, 'Model': 232, 'Monarch': 233, 'MovieDirector': 234, 'Noble': 235, 'OfficeHolder': 236, 'OrganisationMember': 237, 'SportsTeamMember': 238, 'Philosopher': 239, 'PlayboyPlaymate': 240, 'Politician': 241, 'Ambassador': 242, 'Chancellor': 243, 'Congressman': 244, 'Deputy': 245, 'Governor': 246, 'Lieutenant': 247, 'Mayor': 248, 'MemberOfParliament': 249, 'Minister': 250, 'President': 251, 'PrimeMinister': 252, 'Senator': 253, 'VicePresident': 254, 'VicePrimeMinister': 255, 'PoliticianSpouse': 256, 'Presenter': 257, 'RadioHost': 258, 'TelevisionHost': 259, 'Producer': 260, 'Psychologist': 261, 'Referee': 262, 'Religious': 263, 'RomanEmperor': 264, 'Royalty': 265, 'BritishRoyalty': 266, 'Baronet': 267, 'Scientist': 268, 'Biologist': 269, 'Entomologist': 270, 'Medician': 271, 'Professor': 272, 'SportsManager': 273, 'SoccerManager': 274, 'TelevisionDirector': 275, 'TheatreDirector': 276, 'Writer': 277, 'Historian': 278, 'MusicComposer': 279, 'PlayWright': 280, 'Poet': 281, 'ScreenWriter': 282, 'SongWriter': 283, 'Algorithm': 284, 'Altitude': 285, 'AnatomicalStructure': 286, 'Artery': 287, 'BloodVessel': 288, 'Bone': 289, 'Brain': 290, 'Embryology': 291, 'Ligament': 292, 'Lymph': 293, 'Muscle': 294, 'Nerve': 295, 'Vein': 296, 'Area': 297, 'Award': 298, 'Decoration': 299, 'NobelPrize': 300, 'Biomolecule': 301, 'Enzyme': 302, 'Gene': 303, 'HumanGene': 304, 'MouseGene': 305, 'Hormone': 306, 'Lipid': 307, 'Polysaccharide': 308, 'Protein': 309, 'Blazon': 310, 'Browser': 311, 'ChartsPlacements': 312, 'ChemicalSubstance': 313, 'ChemicalCompound': 314, 'ChemicalElement': 315, 'Drug': 316, 'CombinationDrug': 317, 'MonoclonalAntibody': 318, 'Vaccine': 319, 'Mineral': 320, 'Cipher': 321, 'Colour': 322, 'Currency': 323, 'Demographics': 324, 'Depth': 325, 'Device': 326, 'Battery': 327, 'Camera': 328, 'DigitalCamera': 329, 'Engine': 330, 'AutomobileEngine': 331, 'RocketEngine': 332, 'InformationAppliance': 333, 'Instrument': 334, 'Guitar': 335, 'Organ': 336, 'MobilePhone': 337, 'Robot': 338, 'Weapon': 339, 'Diploma': 340, 'Disease': 341, 'ElectionDiagram': 342, 'ElectricalSubstation': 343, 'EthnicGroup': 344, 'Event': 345, 'Competition': 346, 'Contest': 347, 'LifeCycleEvent': 348, 'PersonalEvent': 349, 'NaturalEvent': 350, 'Earthquake': 351, 'SolarEclipse': 352, 'StormSurge': 353, 'PenaltyShootOut': 354, 'SocietalEvent': 355, 'AcademicConference': 356, 'Attack': 357, 'Convention': 358, 'Election': 359, 'FilmFestival': 360, 'HistoricalEvent': 361, 'Meeting': 362, 'MilitaryConflict': 363, 'MusicFestival': 364, 'Rebellion': 365, 'SpaceMission': 366, 'SportsEvent': 367, 'CyclingCompetition': 368, 'FootballMatch': 369, 'GrandPrix': 370, 'InternationalFootballLeagueEvent': 371, 'MixedMartialArtsEvent': 372, 'NationalFootballLeagueEvent': 373, 'Olympics': 374, 'OlympicEvent': 375, 'Race': 376, 'CyclingRace': 377, 'HorseRace': 378, 'MotorRace': 379, 'Tournament': 380, 'GolfTournament': 381, 'SoccerTournament': 382, 'TennisTournament': 383, 'WomensTennisAssociationTournament': 384, 'WrestlingEvent': 385, 'FileSystem': 386, 'Flag': 387, 'Food': 388, 'Beverage': 389, 'Beer': 390, 'Vodka': 391, 'Wine': 392, 'ControlledDesignationOfOriginWine': 393, 'Cheese': 394, 'GeneLocation': 395, 'HumanGeneLocation': 396, 'MouseGeneLocation': 397, 'GrossDomesticProduct': 398, 'GrossDomesticProductPerCapita': 399, 'Holiday': 400, 'Identifier': 401, 'TopLevelDomain': 402, 'Language': 403, 'ProgrammingLanguage': 404, 'List': 405, 'TrackList': 406, 'MeanOfTransportation': 407, 'Aircraft': 408, 'MilitaryAircraft': 409, 'Automobile': 410, 'Locomotive': 411, 'MilitaryVehicle': 412, 'Motorcycle': 413, 'On-SiteTransportation': 414, 'ConveyorSystem': 415, 'Escalator': 416, 'MovingWalkway': 417, 'Rocket': 418, 'Ship': 419, 'SpaceShuttle': 420, 'SpaceStation': 421, 'Spacecraft': 422, 'Train': 423, 'TrainCarriage': 424, 'Tram': 425, 'Media': 426, 'MedicalSpecialty': 427, 'Medicine': 428, 'Name': 429, 'GivenName': 430, 'Surname': 431, 'PersonFunction': 432, 'PoliticalFunction': 433, 'Profession': 434, 'Place': 435, 'ArchitecturalStructure': 436, 'AmusementParkAttraction': 437, 'RollerCoaster': 438, 'WaterRide': 439, 'Arena': 440, 'Building': 441, 'Casino': 442, 'Castle': 443, 'Factory': 444, 'HistoricBuilding': 445, 'Hospital': 446, 'Hotel': 447, 'Museum': 448, 'Prison': 449, 'ReligiousBuilding': 450, 'Church': 451, 'Monastery': 452, 'Mosque': 453, 'Shrine': 454, 'Synagogue': 455, 'Temple': 456, 'Restaurant': 457, 'ShoppingMall': 458, 'Skyscraper': 459, 'Venue': 460, 'Cinema': 461, 'Stadium': 462, 'Theatre': 463, 'Infrastructure': 464, 'Airport': 465, 'Dam': 466, 'Dike': 467, 'LaunchPad': 468, 'Lock': 469, 'Port': 470, 'PowerStation': 471, 'NuclearPowerStation': 472, 'RestArea': 473, 'RouteOfTransportation': 474, 'Bridge': 475, 'RailwayLine': 476, 'RailwayTunnel': 477, 'Road': 478, 'RoadJunction': 479, 'RoadTunnel': 480, 'WaterwayTunnel': 481, 'Station': 482, 'MetroStation': 483, 'RailwayStation': 484, 'RouteStop': 485, 'TramStation': 486, 'MilitaryStructure': 487, 'Fort': 488, 'Mill': 489, 'Treadmill': 490, 'Watermill': 491, 'WindMotor': 492, 'Windmill': 493, 'Monument': 494, 'GraveMonument': 495, 'Memorial': 496, 'Pyramid': 497, 'SportFacility': 498, 'CricketGround': 499, 'GolfCourse': 500, 'RaceTrack': 501, 'Racecourse': 502, 'SkiArea': 503, 'SkiResort': 504, 'Square': 505, 'Tower': 506, 'Lighthouse': 507, 'WaterTower': 508, 'Tunnel': 509, 'Zoo': 510, 'CelestialBody': 511, 'Asteroid': 512, 'Constellation': 513, 'Galaxy': 514, 'Nebula': 515, 'Planet': 516, 'Satellite': 517, 'ArtificialSatellite': 518, 'Star': 519, 'BrownDwarf': 520, 'Swarm': 521, 'Globularswarm': 522, 'Openswarm': 523, 'Cemetery': 524, 'ConcentrationCamp': 525, 'CountrySeat': 526, 'Garden': 527, 'HistoricPlace': 528, 'Mine': 529, 'CoalPit': 530, 'NaturalPlace': 531, 'Archipelago': 532, 'Beach': 533, 'BodyOfWater': 534, 'Bay': 535, 'Lake': 536, 'Ocean': 537, 'Sea': 538, 'Stream': 539, 'Canal': 540, 'River': 541, 'Cape': 542, 'Cave': 543, 'Crater': 544, 'LunarCrater': 545, 'Desert': 546, 'Forest': 547, 'Glacier': 548, 'HotSpring': 549, 'Mountain': 550, 'MountainPass': 551, 'MountainRange': 552, 'Valley': 553, 'Volcano': 554, 'Park': 555, 'PopulatedPlace': 556, 'Agglomeration': 557, 'Community': 558, 'Continent': 559, 'Country': 560, 'HistoricalCountry': 561, 'GatedCommunity': 562, 'Intercommunality': 563, 'Island': 564, 'Atoll': 565, 'Locality': 566, 'Region': 567, 'AdministrativeRegion': 568, 'ClericalAdministrativeRegion': 569, 'Deanery': 570, 'Diocese': 571, 'Parish': 572, 'GovernmentalAdministrativeRegion': 573, 'Arrondissement': 574, 'Canton': 575, 'Department': 576, 'OverseasDepartment': 577, 'District': 578, 'HistoricalDistrict': 579, 'DistrictWaterBoard': 580, 'MicroRegion': 581, 'Municipality': 582, 'FormerMunicipality': 583, 'Prefecture': 584, 'Province': 585, 'HistoricalProvince': 586, 'Regency': 587, 'SubMunicipality': 588, 'HistoricalAreaOfAuthority': 589, 'HistoricalRegion': 590, 'NaturalRegion': 591, 'Settlement': 592, 'City': 593, 'Capital': 594, 'CapitalOfRegion': 595, 'CityDistrict': 596, 'HistoricalSettlement': 597, 'Town': 598, 'Village': 599, 'State': 600, 'Street': 601, 'Territory': 602, 'OldTerritory': 603, 'ProtectedArea': 604, 'SiteOfSpecialScientificInterest': 605, 'WineRegion': 606, 'WorldHeritageSite': 607, 'Population': 608, 'Protocol': 609, 'PublicService': 610, 'Relationship': 611, 'Species': 612, 'Archaea': 613, 'Bacteria': 614, 'Eukaryote': 615, 'Animal': 616, 'Amphibian': 617, 'Arachnid': 618, 'Bird': 619, 'Crustacean': 620, 'Fish': 621, 'Insect': 622, 'Mammal': 623, 'Cat': 624, 'Dog': 625, 'Horse': 626, 'Mollusca': 627, 'Reptile': 628, 'Fungus': 629, 'Plant': 630, 'ClubMoss': 631, 'Conifer': 632, 'CultivatedVariety': 633, 'Cycad': 634, 'Fern': 635, 'FloweringPlant': 636, 'Grape': 637, 'Ginkgo': 638, 'Gnetophytes': 639, 'GreenAlga': 640, 'Moss': 641, 'SportCompetitionResult': 642, 'OlympicResult': 643, 'SnookerWorldRanking': 644, 'SportsSeason': 645, 'MotorsportSeason': 646, 'SportsTeamSeason': 647, 'BaseballSeason': 648, 'FootballLeagueSeason': 649, 'NationalFootballLeagueSeason': 650, 'NCAATeamSeason': 651, 'SoccerClubSeason': 652, 'SoccerLeagueSeason': 653, 'Spreadsheet': 654, 'StarCluster': 655, 'Statistic': 656, 'Tank': 657, 'TimePeriod': 658, 'CareerStation': 659, 'MilitaryService': 660, 'GeologicalPeriod': 661, 'HistoricalPeriod': 662, 'PeriodOfArtisticStyle': 663, 'PrehistoricalPeriod': 664, 'ProtohistoricalPeriod': 665, 'Reign': 666, 'Tenure': 667, 'Year': 668, 'YearInSpaceflight': 669, 'TopicalConcept': 670, 'AcademicSubject': 671, 'CardinalDirection': 672, 'Fashion': 673, 'Genre': 674, 'ArtisticGenre': 675, 'LiteraryGenre': 676, 'MovieGenre': 677, 'MusicGenre': 678, 'Ideology': 679, 'MathematicalConcept': 680, 'PhilosophicalConcept': 681, 'PoliticalConcept': 682, 'ScientificConcept': 683, 'Standard': 684, 'SystemOfLaw': 685, 'Tax': 686, 'Taxon': 687, 'TheologicalConcept': 688, 'ChristianDoctrine': 689, 'Type': 690, 'DocumentType': 691, 'GovernmentType': 692, 'UnitOfWork': 693, 'Case': 694, 'LegalCase': 695, 'SupremeCourtOfTheUnitedStatesCase': 696, 'Project': 697, 'ResearchProject': 698, 'Unknown': 699, 'WikimediaTemplate': 700, 'Work': 701, 'Artwork': 702, 'Painting': 703, 'Sculpture': 704, 'Cartoon': 705, 'Anime': 706, 'HollywoodCartoon': 707, 'CollectionOfValuables': 708, 'Archive': 709, 'Database': 710, 'BiologicalDatabase': 711, 'Document': 712, 'File': 713, 'Image': 714, 'MovingImage': 715, 'StillImage': 716, 'Sound': 717, 'Film': 718, 'LineOfFashion': 719, 'MusicalWork': 720, 'Album': 721, 'ArtistDiscography': 722, 'ClassicalMusicComposition': 723, 'Musical': 724, 'NationalAnthem': 725, 'Opera': 726, 'Single': 727, 'Song': 728, 'EurovisionSongContestEntry': 729, 'RadioProgram': 730, 'Software': 731, 'VideoGame': 732, 'TelevisionEpisode': 733, 'TelevisionSeason': 734, 'TelevisionShow': 735, 'Website': 736, 'WrittenWork': 737, 'Annotation': 738, 'Reference': 739, 'Article': 740, 'Book': 741, 'Novel': 742, 'LightNovel': 743, 'Comic': 744, 'ComicStrip': 745, 'Manga': 746, 'Manhua': 747, 'Manhwa': 748, 'Drama': 749, 'Law': 750, 'Letter': 751, 'MultiVolumePublication': 752, 'PeriodicalLiterature': 753, 'AcademicJournal': 754, 'Magazine': 755, 'Newspaper': 756, 'UndergroundJournal': 757, 'Play': 758, 'Poem': 759, 'Quote': 760, 'Resume': 761, 'StatedResolution': 762, 'Treaty': 763}\n",
            "\n",
            "{'AdministrativeRegion': 1, 'Aircraft': 2, 'Airport': 3, 'Album': 4, 'Animal': 5, 'ArchitecturalStructure': 6, 'Artist': 7, 'Athlete': 8, 'AustralianRulesFootballPlayer': 9, 'Automobile': 10, 'Award': 11, 'Band': 12, 'BaseballPlayer': 13, 'BasketballPlayer': 14, 'Bird': 15, 'BodyOfWater': 16, 'Book': 17, 'Broadcaster': 18, 'Building': 19, 'CelestialBody': 20, 'ChemicalCompound': 21, 'ChemicalSubstance': 22, 'City': 23, 'Cleric': 24, 'Company': 25, 'Cricketer': 26, 'Cyclist': 27, 'Device': 28, 'Disease': 29, 'EducationalInstitution': 30, 'Election': 31, 'Eukaryote': 32, 'Event': 33, 'FictionalCharacter': 34, 'Film': 35, 'Fish': 36, 'Food': 37, 'GridironFootballPlayer': 38, 'Group': 39, 'HistoricBuilding': 40, 'HistoricPlace': 41, 'IceHockeyPlayer': 42, 'Infrastructure': 43, 'Insect': 44, 'Island': 45, 'Lake': 46, 'Language': 47, 'Mammal': 48, 'MeanOfTransportation': 49, 'MilitaryConflict': 50, 'MilitaryPerson': 51, 'MilitaryUnit': 52, 'Mollusca': 53, 'Mountain': 54, 'MusicalArtist': 55, 'MusicalWork': 56, 'NaturalPlace': 57, 'OfficeHolder': 58, 'Organisation': 59, 'PeriodicalLiterature': 60, 'Person': 61, 'Place': 62, 'Plant': 63, 'PoliticalParty': 64, 'Politician': 65, 'PopulatedPlace': 66, 'ProtectedArea': 67, 'Protein': 68, 'Region': 69, 'River': 70, 'Road': 71, 'RouteOfTransportation': 72, 'Royalty': 73, 'RugbyPlayer': 74, 'School': 75, 'Scientist': 76, 'Settlement': 77, 'Ship': 78, 'Single': 79, 'SoccerClub': 80, 'SoccerPlayer': 81, 'SoccerTournament': 82, 'SocietalEvent': 83, 'Software': 84, 'Species': 85, 'SportsManager': 86, 'SportsTeam': 87, 'Stadium': 88, 'Station': 89, 'Stream': 90, 'TelevisionShow': 91, 'Tournament': 92, 'Town': 93, 'University': 94, 'VideoGame': 95, 'Village': 96, 'WinterSportPlayer': 97, 'Work': 98, 'Writer': 99, 'WrittenWork': 100}\n",
            "{1: 'AdministrativeRegion', 2: 'Aircraft', 3: 'Airport', 4: 'Album', 5: 'Animal', 6: 'ArchitecturalStructure', 7: 'Artist', 8: 'Athlete', 9: 'AustralianRulesFootballPlayer', 10: 'Automobile', 11: 'Award', 12: 'Band', 13: 'BaseballPlayer', 14: 'BasketballPlayer', 15: 'Bird', 16: 'BodyOfWater', 17: 'Book', 18: 'Broadcaster', 19: 'Building', 20: 'CelestialBody', 21: 'ChemicalCompound', 22: 'ChemicalSubstance', 23: 'City', 24: 'Cleric', 25: 'Company', 26: 'Cricketer', 27: 'Cyclist', 28: 'Device', 29: 'Disease', 30: 'EducationalInstitution', 31: 'Election', 32: 'Eukaryote', 33: 'Event', 34: 'FictionalCharacter', 35: 'Film', 36: 'Fish', 37: 'Food', 38: 'GridironFootballPlayer', 39: 'Group', 40: 'HistoricBuilding', 41: 'HistoricPlace', 42: 'IceHockeyPlayer', 43: 'Infrastructure', 44: 'Insect', 45: 'Island', 46: 'Lake', 47: 'Language', 48: 'Mammal', 49: 'MeanOfTransportation', 50: 'MilitaryConflict', 51: 'MilitaryPerson', 52: 'MilitaryUnit', 53: 'Mollusca', 54: 'Mountain', 55: 'MusicalArtist', 56: 'MusicalWork', 57: 'NaturalPlace', 58: 'OfficeHolder', 59: 'Organisation', 60: 'PeriodicalLiterature', 61: 'Person', 62: 'Place', 63: 'Plant', 64: 'PoliticalParty', 65: 'Politician', 66: 'PopulatedPlace', 67: 'ProtectedArea', 68: 'Protein', 69: 'Region', 70: 'River', 71: 'Road', 72: 'RouteOfTransportation', 73: 'Royalty', 74: 'RugbyPlayer', 75: 'School', 76: 'Scientist', 77: 'Settlement', 78: 'Ship', 79: 'Single', 80: 'SoccerClub', 81: 'SoccerPlayer', 82: 'SoccerTournament', 83: 'SocietalEvent', 84: 'Software', 85: 'Species', 86: 'SportsManager', 87: 'SportsTeam', 88: 'Stadium', 89: 'Station', 90: 'Stream', 91: 'TelevisionShow', 92: 'Tournament', 93: 'Town', 94: 'University', 95: 'VideoGame', 96: 'Village', 97: 'WinterSportPlayer', 98: 'Work', 99: 'Writer', 100: 'WrittenWork'}\n",
            "{568: 1, 408: 2, 465: 3, 721: 4, 616: 5, 436: 6, 112: 7, 132: 8, 135: 9, 410: 10, 298: 11, 46: 12, 137: 13, 138: 14, 619: 15, 534: 16, 741: 17, 21: 18, 441: 19, 511: 20, 314: 21, 313: 22, 593: 23, 204: 24, 25: 25, 145: 26, 146: 27, 326: 28, 341: 29, 36: 30, 359: 31, 615: 32, 345: 33, 13: 34, 718: 35, 621: 36, 388: 37, 151: 38, 45: 39, 445: 40, 528: 41, 193: 42, 464: 43, 622: 44, 564: 45, 536: 46, 403: 47, 623: 48, 407: 49, 363: 50, 231: 51, 50: 52, 627: 53, 550: 54, 121: 55, 720: 56, 531: 57, 236: 58, 20: 59, 753: 60, 108: 61, 435: 62, 630: 63, 54: 64, 241: 65, 556: 66, 604: 67, 309: 68, 567: 69, 541: 70, 478: 71, 474: 72, 265: 73, 174: 74, 39: 75, 268: 76, 592: 77, 419: 78, 727: 79, 61: 80, 177: 81, 382: 82, 355: 83, 731: 84, 612: 85, 273: 86, 94: 87, 462: 88, 482: 89, 539: 90, 735: 91, 380: 92, 598: 93, 40: 94, 732: 95, 599: 96, 187: 97, 701: 98, 277: 99, 737: 100}\n",
            "{1: 568, 2: 408, 3: 465, 4: 721, 5: 616, 6: 436, 7: 112, 8: 132, 9: 135, 10: 410, 11: 298, 12: 46, 13: 137, 14: 138, 15: 619, 16: 534, 17: 741, 18: 21, 19: 441, 20: 511, 21: 314, 22: 313, 23: 593, 24: 204, 25: 25, 26: 145, 27: 146, 28: 326, 29: 341, 30: 36, 31: 359, 32: 615, 33: 345, 34: 13, 35: 718, 36: 621, 37: 388, 38: 151, 39: 45, 40: 445, 41: 528, 42: 193, 43: 464, 44: 622, 45: 564, 46: 536, 47: 403, 48: 623, 49: 407, 50: 363, 51: 231, 52: 50, 53: 627, 54: 550, 55: 121, 56: 720, 57: 531, 58: 236, 59: 20, 60: 753, 61: 108, 62: 435, 63: 630, 64: 54, 65: 241, 66: 556, 67: 604, 68: 309, 69: 567, 70: 541, 71: 478, 72: 474, 73: 265, 74: 174, 75: 39, 76: 268, 77: 592, 78: 419, 79: 727, 80: 61, 81: 177, 82: 382, 83: 355, 84: 731, 85: 612, 86: 273, 87: 94, 88: 462, 89: 482, 90: 539, 91: 735, 92: 380, 93: 598, 94: 40, 95: 732, 96: 599, 97: 187, 98: 701, 99: 277, 100: 737}\n",
            "\n",
            "['AdministrativeRegion', 'Aircraft', 'Airport', 'Album', 'Animal', 'ArchitecturalStructure', 'Artist', 'Athlete', 'AustralianRulesFootballPlayer', 'Automobile', 'Award', 'Band', 'BaseballPlayer', 'BasketballPlayer', 'Bird', 'BodyOfWater', 'Book', 'Broadcaster', 'Building', 'CelestialBody', 'ChemicalCompound', 'ChemicalSubstance', 'City', 'Cleric', 'Company', 'Cricketer', 'Cyclist', 'Device', 'Disease', 'EducationalInstitution', 'Election', 'Eukaryote', 'Event', 'FictionalCharacter', 'Film', 'Fish', 'Food', 'GridironFootballPlayer', 'Group', 'HistoricBuilding', 'HistoricPlace', 'IceHockeyPlayer', 'Infrastructure', 'Insect', 'Island', 'Lake', 'Language', 'Mammal', 'MeanOfTransportation', 'MilitaryConflict', 'MilitaryPerson', 'MilitaryUnit', 'Mollusca', 'Mountain', 'MusicalArtist', 'MusicalWork', 'NaturalPlace', 'OfficeHolder', 'Organisation', 'PeriodicalLiterature', 'Person', 'Place', 'Plant', 'PoliticalParty', 'Politician', 'PopulatedPlace', 'ProtectedArea', 'Protein', 'Region', 'River', 'Road', 'RouteOfTransportation', 'Royalty', 'RugbyPlayer', 'School', 'Scientist', 'Settlement', 'Ship', 'Single', 'SoccerClub', 'SoccerPlayer', 'SoccerTournament', 'SocietalEvent', 'Software', 'Species', 'SportsManager', 'SportsTeam', 'Stadium', 'Station', 'Stream', 'TelevisionShow', 'Tournament', 'Town', 'University', 'VideoGame', 'Village', 'WinterSportPlayer', 'Work', 'Writer', 'WrittenWork']\n",
            "[568, 408, 465, 721, 616, 436, 112, 132, 135, 410, 298, 46, 137, 138, 619, 534, 741, 21, 441, 511, 314, 313, 593, 204, 25, 145, 146, 326, 341, 36, 359, 615, 345, 13, 718, 621, 388, 151, 45, 445, 528, 193, 464, 622, 564, 536, 403, 623, 407, 363, 231, 50, 627, 550, 121, 720, 531, 236, 20, 753, 108, 435, 630, 54, 241, 556, 604, 309, 567, 541, 478, 474, 265, 174, 39, 268, 592, 419, 727, 61, 177, 382, 355, 731, 612, 273, 94, 462, 482, 539, 735, 380, 598, 40, 732, 599, 187, 701, 277, 737]\n",
            "\n",
            "{'Activity': ['Activity'], 'Game': ['Activity', 'Game'], 'BoardGame': ['Activity', 'Game', 'BoardGame'], 'CardGame': ['Activity', 'Game', 'CardGame'], 'Sales': ['Activity', 'Sales'], 'Sport': ['Activity', 'Sport'], 'Athletics': ['Activity', 'Sport', 'Athletics'], 'TeamSport': ['Activity', 'Sport', 'TeamSport'], 'Agent': ['Agent'], 'Deity': ['Agent', 'Deity'], 'Employer': ['Agent', 'Employer'], 'Family': ['Agent', 'Family'], 'NobleFamily': ['Agent', 'Family', 'NobleFamily'], 'FictionalCharacter': ['Agent', 'FictionalCharacter'], 'ComicsCharacter': ['Agent', 'FictionalCharacter', 'ComicsCharacter'], 'AnimangaCharacter': ['Agent', 'FictionalCharacter', 'ComicsCharacter', 'AnimangaCharacter'], 'DisneyCharacter': ['Agent', 'FictionalCharacter', 'DisneyCharacter'], 'MythologicalFigure': ['Agent', 'FictionalCharacter', 'MythologicalFigure'], 'NarutoCharacter': ['Agent', 'FictionalCharacter', 'NarutoCharacter'], 'SoapCharacter': ['Agent', 'FictionalCharacter', 'SoapCharacter'], 'Organisation': ['Agent', 'Organisation'], 'Broadcaster': ['Agent', 'Organisation', 'Broadcaster'], 'BroadcastNetwork': ['Agent', 'Organisation', 'Broadcaster', 'BroadcastNetwork'], 'RadioStation': ['Agent', 'Organisation', 'Broadcaster', 'RadioStation'], 'TelevisionStation': ['Agent', 'Organisation', 'Broadcaster', 'TelevisionStation'], 'Company': ['Agent', 'Organisation', 'Company'], 'Bank': ['Agent', 'Organisation', 'Company', 'Bank'], 'Brewery': ['Agent', 'Organisation', 'Company', 'Brewery'], 'Caterer': ['Agent', 'Organisation', 'Company', 'Caterer'], 'LawFirm': ['Agent', 'Organisation', 'Company', 'LawFirm'], 'PublicTransitSystem': ['Agent', 'Organisation', 'Company', 'PublicTransitSystem'], 'Airline': ['Agent', 'Organisation', 'Company', 'PublicTransitSystem', 'Airline'], 'BusCompany': ['Agent', 'Organisation', 'Company', 'PublicTransitSystem', 'BusCompany'], 'Publisher': ['Agent', 'Organisation', 'Company', 'Publisher'], 'RecordLabel': ['Agent', 'Organisation', 'Company', 'RecordLabel'], 'Winery': ['Agent', 'Organisation', 'Company', 'Winery'], 'EducationalInstitution': ['Agent', 'Organisation', 'EducationalInstitution'], 'College': ['Agent', 'Organisation', 'EducationalInstitution', 'College'], 'Library': ['Agent', 'Organisation', 'EducationalInstitution', 'Library'], 'School': ['Agent', 'Organisation', 'EducationalInstitution', 'School'], 'University': ['Agent', 'Organisation', 'EducationalInstitution', 'University'], 'EmployersOrganisation': ['Agent', 'Organisation', 'EmployersOrganisation'], 'GeopoliticalOrganisation': ['Agent', 'Organisation', 'GeopoliticalOrganisation'], 'GovernmentAgency': ['Agent', 'Organisation', 'GovernmentAgency'], 'GovernmentCabinet': ['Agent', 'Organisation', 'GovernmentAgency', 'GovernmentCabinet'], 'Group': ['Agent', 'Organisation', 'Group'], 'Band': ['Agent', 'Organisation', 'Group', 'Band'], 'ComedyGroup': ['Agent', 'Organisation', 'Group', 'ComedyGroup'], 'InternationalOrganisation': ['Agent', 'Organisation', 'InternationalOrganisation'], 'Legislature': ['Agent', 'Organisation', 'Legislature'], 'MilitaryUnit': ['Agent', 'Organisation', 'MilitaryUnit'], 'Non-ProfitOrganisation': ['Agent', 'Organisation', 'Non-ProfitOrganisation'], 'RecordOffice': ['Agent', 'Organisation', 'Non-ProfitOrganisation', 'RecordOffice'], 'Parliament': ['Agent', 'Organisation', 'Parliament'], 'PoliticalParty': ['Agent', 'Organisation', 'PoliticalParty'], 'ReligiousOrganisation': ['Agent', 'Organisation', 'ReligiousOrganisation'], 'ClericalOrder': ['Agent', 'Organisation', 'ReligiousOrganisation', 'ClericalOrder'], 'SambaSchool': ['Agent', 'Organisation', 'SambaSchool'], 'SportsClub': ['Agent', 'Organisation', 'SportsClub'], 'HockeyClub': ['Agent', 'Organisation', 'SportsClub', 'HockeyClub'], 'RugbyClub': ['Agent', 'Organisation', 'SportsClub', 'RugbyClub'], 'SoccerClub': ['Agent', 'Organisation', 'SportsClub', 'SoccerClub'], 'NationalSoccerClub': ['Agent', 'Organisation', 'SportsClub', 'SoccerClub', 'NationalSoccerClub'], 'SportsLeague': ['Agent', 'Organisation', 'SportsLeague'], 'AmericanFootballLeague': ['Agent', 'Organisation', 'SportsLeague', 'AmericanFootballLeague'], 'AustralianFootballLeague': ['Agent', 'Organisation', 'SportsLeague', 'AustralianFootballLeague'], 'AutoRacingLeague': ['Agent', 'Organisation', 'SportsLeague', 'AutoRacingLeague'], 'BaseballLeague': ['Agent', 'Organisation', 'SportsLeague', 'BaseballLeague'], 'BasketballLeague': ['Agent', 'Organisation', 'SportsLeague', 'BasketballLeague'], 'BowlingLeague': ['Agent', 'Organisation', 'SportsLeague', 'BowlingLeague'], 'BoxingLeague': ['Agent', 'Organisation', 'SportsLeague', 'BoxingLeague'], 'CanadianFootballLeague': ['Agent', 'Organisation', 'SportsLeague', 'CanadianFootballLeague'], 'CricketLeague': ['Agent', 'Organisation', 'SportsLeague', 'CricketLeague'], 'CurlingLeague': ['Agent', 'Organisation', 'SportsLeague', 'CurlingLeague'], 'CyclingLeague': ['Agent', 'Organisation', 'SportsLeague', 'CyclingLeague'], 'FieldHockeyLeague': ['Agent', 'Organisation', 'SportsLeague', 'FieldHockeyLeague'], 'FormulaOneRacing': ['Agent', 'Organisation', 'SportsLeague', 'FormulaOneRacing'], 'GolfLeague': ['Agent', 'Organisation', 'SportsLeague', 'GolfLeague'], 'HandballLeague': ['Agent', 'Organisation', 'SportsLeague', 'HandballLeague'], 'IceHockeyLeague': ['Agent', 'Organisation', 'SportsLeague', 'IceHockeyLeague'], 'InlineHockeyLeague': ['Agent', 'Organisation', 'SportsLeague', 'InlineHockeyLeague'], 'LacrosseLeague': ['Agent', 'Organisation', 'SportsLeague', 'LacrosseLeague'], 'MixedMartialArtsLeague': ['Agent', 'Organisation', 'SportsLeague', 'MixedMartialArtsLeague'], 'MotorcycleRacingLeague': ['Agent', 'Organisation', 'SportsLeague', 'MotorcycleRacingLeague'], 'PaintballLeague': ['Agent', 'Organisation', 'SportsLeague', 'PaintballLeague'], 'PoloLeague': ['Agent', 'Organisation', 'SportsLeague', 'PoloLeague'], 'RadioControlledRacingLeague': ['Agent', 'Organisation', 'SportsLeague', 'RadioControlledRacingLeague'], 'RugbyLeague': ['Agent', 'Organisation', 'SportsLeague', 'RugbyLeague'], 'SoccerLeague': ['Agent', 'Organisation', 'SportsLeague', 'SoccerLeague'], 'SoftballLeague': ['Agent', 'Organisation', 'SportsLeague', 'SoftballLeague'], 'SpeedwayLeague': ['Agent', 'Organisation', 'SportsLeague', 'SpeedwayLeague'], 'TennisLeague': ['Agent', 'Organisation', 'SportsLeague', 'TennisLeague'], 'VideogamesLeague': ['Agent', 'Organisation', 'SportsLeague', 'VideogamesLeague'], 'VolleyballLeague': ['Agent', 'Organisation', 'SportsLeague', 'VolleyballLeague'], 'SportsTeam': ['Agent', 'Organisation', 'SportsTeam'], 'AmericanFootballTeam': ['Agent', 'Organisation', 'SportsTeam', 'AmericanFootballTeam'], 'AustralianFootballTeam': ['Agent', 'Organisation', 'SportsTeam', 'AustralianFootballTeam'], 'BaseballTeam': ['Agent', 'Organisation', 'SportsTeam', 'BaseballTeam'], 'BasketballTeam': ['Agent', 'Organisation', 'SportsTeam', 'BasketballTeam'], 'CanadianFootballTeam': ['Agent', 'Organisation', 'SportsTeam', 'CanadianFootballTeam'], 'CricketTeam': ['Agent', 'Organisation', 'SportsTeam', 'CricketTeam'], 'CyclingTeam': ['Agent', 'Organisation', 'SportsTeam', 'CyclingTeam'], 'FormulaOneTeam': ['Agent', 'Organisation', 'SportsTeam', 'FormulaOneTeam'], 'HandballTeam': ['Agent', 'Organisation', 'SportsTeam', 'HandballTeam'], 'HockeyTeam': ['Agent', 'Organisation', 'SportsTeam', 'HockeyTeam'], 'SpeedwayTeam': ['Agent', 'Organisation', 'SportsTeam', 'SpeedwayTeam'], 'TermOfOffice': ['Agent', 'Organisation', 'TermOfOffice'], 'TradeUnion': ['Agent', 'Organisation', 'TradeUnion'], 'Person': ['Agent', 'Person'], 'Archeologist': ['Agent', 'Person', 'Archeologist'], 'Architect': ['Agent', 'Person', 'Architect'], 'Aristocrat': ['Agent', 'Person', 'Aristocrat'], 'Artist': ['Agent', 'Person', 'Artist'], 'Actor': ['Agent', 'Person', 'Artist', 'Actor'], 'AdultActor': ['Agent', 'Person', 'Artist', 'Actor', 'AdultActor'], 'VoiceActor': ['Agent', 'Person', 'Artist', 'Actor', 'VoiceActor'], 'Comedian': ['Agent', 'Person', 'Artist', 'Comedian'], 'ComicsCreator': ['Agent', 'Person', 'Artist', 'ComicsCreator'], 'Dancer': ['Agent', 'Person', 'Artist', 'Dancer'], 'FashionDesigner': ['Agent', 'Person', 'Artist', 'FashionDesigner'], 'Humorist': ['Agent', 'Person', 'Artist', 'Humorist'], 'MusicalArtist': ['Agent', 'Person', 'Artist', 'MusicalArtist'], 'BackScene': ['Agent', 'Person', 'Artist', 'MusicalArtist', 'BackScene'], 'ClassicalMusicArtist': ['Agent', 'Person', 'Artist', 'MusicalArtist', 'ClassicalMusicArtist'], 'Instrumentalist': ['Agent', 'Person', 'Artist', 'MusicalArtist', 'Instrumentalist'], 'Guitarist': ['Agent', 'Person', 'Artist', 'MusicalArtist', 'Instrumentalist', 'Guitarist'], 'MusicDirector': ['Agent', 'Person', 'Artist', 'MusicalArtist', 'MusicDirector'], 'Singer': ['Agent', 'Person', 'Artist', 'MusicalArtist', 'Singer'], 'Painter': ['Agent', 'Person', 'Artist', 'Painter'], 'Photographer': ['Agent', 'Person', 'Artist', 'Photographer'], 'Sculptor': ['Agent', 'Person', 'Artist', 'Sculptor'], 'Astronaut': ['Agent', 'Person', 'Astronaut'], 'Athlete': ['Agent', 'Person', 'Athlete'], 'ArcherPlayer': ['Agent', 'Person', 'Athlete', 'ArcherPlayer'], 'AthleticsPlayer': ['Agent', 'Person', 'Athlete', 'AthleticsPlayer'], 'AustralianRulesFootballPlayer': ['Agent', 'Person', 'Athlete', 'AustralianRulesFootballPlayer'], 'BadmintonPlayer': ['Agent', 'Person', 'Athlete', 'BadmintonPlayer'], 'BaseballPlayer': ['Agent', 'Person', 'Athlete', 'BaseballPlayer'], 'BasketballPlayer': ['Agent', 'Person', 'Athlete', 'BasketballPlayer'], 'Bodybuilder': ['Agent', 'Person', 'Athlete', 'Bodybuilder'], 'Boxer': ['Agent', 'Person', 'Athlete', 'Boxer'], 'AmateurBoxer': ['Agent', 'Person', 'Athlete', 'Boxer', 'AmateurBoxer'], 'BullFighter': ['Agent', 'Person', 'Athlete', 'BullFighter'], 'Canoeist': ['Agent', 'Person', 'Athlete', 'Canoeist'], 'ChessPlayer': ['Agent', 'Person', 'Athlete', 'ChessPlayer'], 'Cricketer': ['Agent', 'Person', 'Athlete', 'Cricketer'], 'Cyclist': ['Agent', 'Person', 'Athlete', 'Cyclist'], 'DartsPlayer': ['Agent', 'Person', 'Athlete', 'DartsPlayer'], 'Fencer': ['Agent', 'Person', 'Athlete', 'Fencer'], 'GaelicGamesPlayer': ['Agent', 'Person', 'Athlete', 'GaelicGamesPlayer'], 'GolfPlayer': ['Agent', 'Person', 'Athlete', 'GolfPlayer'], 'GridironFootballPlayer': ['Agent', 'Person', 'Athlete', 'GridironFootballPlayer'], 'AmericanFootballPlayer': ['Agent', 'Person', 'Athlete', 'GridironFootballPlayer', 'AmericanFootballPlayer'], 'CanadianFootballPlayer': ['Agent', 'Person', 'Athlete', 'GridironFootballPlayer', 'CanadianFootballPlayer'], 'Gymnast': ['Agent', 'Person', 'Athlete', 'Gymnast'], 'HandballPlayer': ['Agent', 'Person', 'Athlete', 'HandballPlayer'], 'HighDiver': ['Agent', 'Person', 'Athlete', 'HighDiver'], 'HorseRider': ['Agent', 'Person', 'Athlete', 'HorseRider'], 'Jockey': ['Agent', 'Person', 'Athlete', 'Jockey'], 'LacrossePlayer': ['Agent', 'Person', 'Athlete', 'LacrossePlayer'], 'MartialArtist': ['Agent', 'Person', 'Athlete', 'MartialArtist'], 'MotorsportRacer': ['Agent', 'Person', 'Athlete', 'MotorsportRacer'], 'MotorcycleRider': ['Agent', 'Person', 'Athlete', 'MotorsportRacer', 'MotorcycleRider'], 'MotocycleRacer': ['Agent', 'Person', 'Athlete', 'MotorsportRacer', 'MotorcycleRider', 'MotocycleRacer'], 'SpeedwayRider': ['Agent', 'Person', 'Athlete', 'MotorsportRacer', 'MotorcycleRider', 'SpeedwayRider'], 'RacingDriver': ['Agent', 'Person', 'Athlete', 'MotorsportRacer', 'RacingDriver'], 'DTMRacer': ['Agent', 'Person', 'Athlete', 'MotorsportRacer', 'RacingDriver', 'DTMRacer'], 'FormulaOneRacer': ['Agent', 'Person', 'Athlete', 'MotorsportRacer', 'RacingDriver', 'FormulaOneRacer'], 'NascarDriver': ['Agent', 'Person', 'Athlete', 'MotorsportRacer', 'RacingDriver', 'NascarDriver'], 'RallyDriver': ['Agent', 'Person', 'Athlete', 'MotorsportRacer', 'RacingDriver', 'RallyDriver'], 'NationalCollegiateAthleticAssociationAthlete': ['Agent', 'Person', 'Athlete', 'NationalCollegiateAthleticAssociationAthlete'], 'NetballPlayer': ['Agent', 'Person', 'Athlete', 'NetballPlayer'], 'PokerPlayer': ['Agent', 'Person', 'Athlete', 'PokerPlayer'], 'Rower': ['Agent', 'Person', 'Athlete', 'Rower'], 'RugbyPlayer': ['Agent', 'Person', 'Athlete', 'RugbyPlayer'], 'SnookerPlayer': ['Agent', 'Person', 'Athlete', 'SnookerPlayer'], 'SnookerChamp': ['Agent', 'Person', 'Athlete', 'SnookerPlayer', 'SnookerChamp'], 'SoccerPlayer': ['Agent', 'Person', 'Athlete', 'SoccerPlayer'], 'SquashPlayer': ['Agent', 'Person', 'Athlete', 'SquashPlayer'], 'Surfer': ['Agent', 'Person', 'Athlete', 'Surfer'], 'Swimmer': ['Agent', 'Person', 'Athlete', 'Swimmer'], 'TableTennisPlayer': ['Agent', 'Person', 'Athlete', 'TableTennisPlayer'], 'TeamMember': ['Agent', 'Person', 'Athlete', 'TeamMember'], 'TennisPlayer': ['Agent', 'Person', 'Athlete', 'TennisPlayer'], 'VolleyballPlayer': ['Agent', 'Person', 'Athlete', 'VolleyballPlayer'], 'BeachVolleyballPlayer': ['Agent', 'Person', 'Athlete', 'VolleyballPlayer', 'BeachVolleyballPlayer'], 'WaterPoloPlayer': ['Agent', 'Person', 'Athlete', 'WaterPoloPlayer'], 'WinterSportPlayer': ['Agent', 'Person', 'Athlete', 'WinterSportPlayer'], 'Biathlete': ['Agent', 'Person', 'Athlete', 'WinterSportPlayer', 'Biathlete'], 'BobsleighAthlete': ['Agent', 'Person', 'Athlete', 'WinterSportPlayer', 'BobsleighAthlete'], 'CrossCountrySkier': ['Agent', 'Person', 'Athlete', 'WinterSportPlayer', 'CrossCountrySkier'], 'Curler': ['Agent', 'Person', 'Athlete', 'WinterSportPlayer', 'Curler'], 'FigureSkater': ['Agent', 'Person', 'Athlete', 'WinterSportPlayer', 'FigureSkater'], 'IceHockeyPlayer': ['Agent', 'Person', 'Athlete', 'WinterSportPlayer', 'IceHockeyPlayer'], 'NordicCombined': ['Agent', 'Person', 'Athlete', 'WinterSportPlayer', 'NordicCombined'], 'Skater': ['Agent', 'Person', 'Athlete', 'WinterSportPlayer', 'Skater'], 'Ski_jumper': ['Agent', 'Person', 'Athlete', 'WinterSportPlayer', 'Ski_jumper'], 'Skier': ['Agent', 'Person', 'Athlete', 'WinterSportPlayer', 'Skier'], 'SpeedSkater': ['Agent', 'Person', 'Athlete', 'WinterSportPlayer', 'SpeedSkater'], 'Wrestler': ['Agent', 'Person', 'Athlete', 'Wrestler'], 'SumoWrestler': ['Agent', 'Person', 'Athlete', 'Wrestler', 'SumoWrestler'], 'BeautyQueen': ['Agent', 'Person', 'BeautyQueen'], 'BusinessPerson': ['Agent', 'Person', 'BusinessPerson'], 'Chef': ['Agent', 'Person', 'Chef'], 'Cleric': ['Agent', 'Person', 'Cleric'], 'Cardinal': ['Agent', 'Person', 'Cleric', 'Cardinal'], 'ChristianBishop': ['Agent', 'Person', 'Cleric', 'ChristianBishop'], 'Archbishop': ['Agent', 'Person', 'Cleric', 'ChristianBishop', 'Archbishop'], 'ChristianPatriarch': ['Agent', 'Person', 'Cleric', 'ChristianPatriarch'], 'Pope': ['Agent', 'Person', 'Cleric', 'Pope'], 'Priest': ['Agent', 'Person', 'Cleric', 'Priest'], 'Saint': ['Agent', 'Person', 'Cleric', 'Saint'], 'Vicar': ['Agent', 'Person', 'Cleric', 'Vicar'], 'Coach': ['Agent', 'Person', 'Coach'], 'AmericanFootballCoach': ['Agent', 'Person', 'Coach', 'AmericanFootballCoach'], 'CollegeCoach': ['Agent', 'Person', 'Coach', 'CollegeCoach'], 'VolleyballCoach': ['Agent', 'Person', 'Coach', 'VolleyballCoach'], 'Criminal': ['Agent', 'Person', 'Criminal'], 'Murderer': ['Agent', 'Person', 'Criminal', 'Murderer'], 'SerialKiller': ['Agent', 'Person', 'Criminal', 'Murderer', 'SerialKiller'], 'DBpedian': ['Agent', 'Person', 'DBpedian'], 'Economist': ['Agent', 'Person', 'Economist'], 'Egyptologist': ['Agent', 'Person', 'Egyptologist'], 'Engineer': ['Agent', 'Person', 'Engineer'], 'Farmer': ['Agent', 'Person', 'Farmer'], 'HorseTrainer': ['Agent', 'Person', 'HorseTrainer'], 'Journalist': ['Agent', 'Person', 'Journalist'], 'Judge': ['Agent', 'Person', 'Judge'], 'Lawyer': ['Agent', 'Person', 'Lawyer'], 'Linguist': ['Agent', 'Person', 'Linguist'], 'MemberResistanceMovement': ['Agent', 'Person', 'MemberResistanceMovement'], 'MilitaryPerson': ['Agent', 'Person', 'MilitaryPerson'], 'Model': ['Agent', 'Person', 'Model'], 'Monarch': ['Agent', 'Person', 'Monarch'], 'MovieDirector': ['Agent', 'Person', 'MovieDirector'], 'Noble': ['Agent', 'Person', 'Noble'], 'OfficeHolder': ['Agent', 'Person', 'OfficeHolder'], 'OrganisationMember': ['Agent', 'Person', 'OrganisationMember'], 'SportsTeamMember': ['Agent', 'Person', 'OrganisationMember', 'SportsTeamMember'], 'Philosopher': ['Agent', 'Person', 'Philosopher'], 'PlayboyPlaymate': ['Agent', 'Person', 'PlayboyPlaymate'], 'Politician': ['Agent', 'Person', 'Politician'], 'Ambassador': ['Agent', 'Person', 'Politician', 'Ambassador'], 'Chancellor': ['Agent', 'Person', 'Politician', 'Chancellor'], 'Congressman': ['Agent', 'Person', 'Politician', 'Congressman'], 'Deputy': ['Agent', 'Person', 'Politician', 'Deputy'], 'Governor': ['Agent', 'Person', 'Politician', 'Governor'], 'Lieutenant': ['Agent', 'Person', 'Politician', 'Lieutenant'], 'Mayor': ['Agent', 'Person', 'Politician', 'Mayor'], 'MemberOfParliament': ['Agent', 'Person', 'Politician', 'MemberOfParliament'], 'Minister': ['Agent', 'Person', 'Politician', 'Minister'], 'President': ['Agent', 'Person', 'Politician', 'President'], 'PrimeMinister': ['Agent', 'Person', 'Politician', 'PrimeMinister'], 'Senator': ['Agent', 'Person', 'Politician', 'Senator'], 'VicePresident': ['Agent', 'Person', 'Politician', 'VicePresident'], 'VicePrimeMinister': ['Agent', 'Person', 'Politician', 'VicePrimeMinister'], 'PoliticianSpouse': ['Agent', 'Person', 'PoliticianSpouse'], 'Presenter': ['Agent', 'Person', 'Presenter'], 'RadioHost': ['Agent', 'Person', 'Presenter', 'RadioHost'], 'TelevisionHost': ['Agent', 'Person', 'Presenter', 'TelevisionHost'], 'Producer': ['Agent', 'Person', 'Producer'], 'Psychologist': ['Agent', 'Person', 'Psychologist'], 'Referee': ['Agent', 'Person', 'Referee'], 'Religious': ['Agent', 'Person', 'Religious'], 'RomanEmperor': ['Agent', 'Person', 'RomanEmperor'], 'Royalty': ['Agent', 'Person', 'Royalty'], 'BritishRoyalty': ['Agent', 'Person', 'Royalty', 'BritishRoyalty'], 'Baronet': ['Agent', 'Person', 'Royalty', 'BritishRoyalty', 'Baronet'], 'Scientist': ['Agent', 'Person', 'Scientist'], 'Biologist': ['Agent', 'Person', 'Scientist', 'Biologist'], 'Entomologist': ['Agent', 'Person', 'Scientist', 'Entomologist'], 'Medician': ['Agent', 'Person', 'Scientist', 'Medician'], 'Professor': ['Agent', 'Person', 'Scientist', 'Professor'], 'SportsManager': ['Agent', 'Person', 'SportsManager'], 'SoccerManager': ['Agent', 'Person', 'SportsManager', 'SoccerManager'], 'TelevisionDirector': ['Agent', 'Person', 'TelevisionDirector'], 'TheatreDirector': ['Agent', 'Person', 'TheatreDirector'], 'Writer': ['Agent', 'Person', 'Writer'], 'Historian': ['Agent', 'Person', 'Writer', 'Historian'], 'MusicComposer': ['Agent', 'Person', 'Writer', 'MusicComposer'], 'PlayWright': ['Agent', 'Person', 'Writer', 'PlayWright'], 'Poet': ['Agent', 'Person', 'Writer', 'Poet'], 'ScreenWriter': ['Agent', 'Person', 'Writer', 'ScreenWriter'], 'SongWriter': ['Agent', 'Person', 'Writer', 'SongWriter'], 'Algorithm': ['Algorithm'], 'Altitude': ['Altitude'], 'AnatomicalStructure': ['AnatomicalStructure'], 'Artery': ['AnatomicalStructure', 'Artery'], 'BloodVessel': ['AnatomicalStructure', 'BloodVessel'], 'Bone': ['AnatomicalStructure', 'Bone'], 'Brain': ['AnatomicalStructure', 'Brain'], 'Embryology': ['AnatomicalStructure', 'Embryology'], 'Ligament': ['AnatomicalStructure', 'Ligament'], 'Lymph': ['AnatomicalStructure', 'Lymph'], 'Muscle': ['AnatomicalStructure', 'Muscle'], 'Nerve': ['AnatomicalStructure', 'Nerve'], 'Vein': ['AnatomicalStructure', 'Vein'], 'Area': ['Area'], 'Award': ['Award'], 'Decoration': ['Award', 'Decoration'], 'NobelPrize': ['Award', 'NobelPrize'], 'Biomolecule': ['Biomolecule'], 'Enzyme': ['Biomolecule', 'Enzyme'], 'Gene': ['Biomolecule', 'Gene'], 'HumanGene': ['Biomolecule', 'Gene', 'HumanGene'], 'MouseGene': ['Biomolecule', 'Gene', 'MouseGene'], 'Hormone': ['Biomolecule', 'Hormone'], 'Lipid': ['Biomolecule', 'Lipid'], 'Polysaccharide': ['Biomolecule', 'Polysaccharide'], 'Protein': ['Biomolecule', 'Protein'], 'Blazon': ['Blazon'], 'Browser': ['Browser'], 'ChartsPlacements': ['ChartsPlacements'], 'ChemicalSubstance': ['ChemicalSubstance'], 'ChemicalCompound': ['ChemicalSubstance', 'ChemicalCompound'], 'ChemicalElement': ['ChemicalSubstance', 'ChemicalElement'], 'Drug': ['ChemicalSubstance', 'Drug'], 'CombinationDrug': ['ChemicalSubstance', 'Drug', 'CombinationDrug'], 'MonoclonalAntibody': ['ChemicalSubstance', 'Drug', 'MonoclonalAntibody'], 'Vaccine': ['ChemicalSubstance', 'Drug', 'Vaccine'], 'Mineral': ['ChemicalSubstance', 'Mineral'], 'Cipher': ['Cipher'], 'Colour': ['Colour'], 'Currency': ['Currency'], 'Demographics': ['Demographics'], 'Depth': ['Depth'], 'Device': ['Device'], 'Battery': ['Device', 'Battery'], 'Camera': ['Device', 'Camera'], 'DigitalCamera': ['Device', 'Camera', 'DigitalCamera'], 'Engine': ['Device', 'Engine'], 'AutomobileEngine': ['Device', 'Engine', 'AutomobileEngine'], 'RocketEngine': ['Device', 'Engine', 'RocketEngine'], 'InformationAppliance': ['Device', 'InformationAppliance'], 'Instrument': ['Device', 'Instrument'], 'Guitar': ['Device', 'Instrument', 'Guitar'], 'Organ': ['Device', 'Instrument', 'Organ'], 'MobilePhone': ['Device', 'MobilePhone'], 'Robot': ['Device', 'Robot'], 'Weapon': ['Device', 'Weapon'], 'Diploma': ['Diploma'], 'Disease': ['Disease'], 'ElectionDiagram': ['ElectionDiagram'], 'ElectricalSubstation': ['ElectricalSubstation'], 'EthnicGroup': ['EthnicGroup'], 'Event': ['Event'], 'Competition': ['Event', 'Competition'], 'Contest': ['Event', 'Competition', 'Contest'], 'LifeCycleEvent': ['Event', 'LifeCycleEvent'], 'PersonalEvent': ['Event', 'LifeCycleEvent', 'PersonalEvent'], 'NaturalEvent': ['Event', 'NaturalEvent'], 'Earthquake': ['Event', 'NaturalEvent', 'Earthquake'], 'SolarEclipse': ['Event', 'NaturalEvent', 'SolarEclipse'], 'StormSurge': ['Event', 'NaturalEvent', 'StormSurge'], 'PenaltyShootOut': ['Event', 'PenaltyShootOut'], 'SocietalEvent': ['Event', 'SocietalEvent'], 'AcademicConference': ['Event', 'SocietalEvent', 'AcademicConference'], 'Attack': ['Event', 'SocietalEvent', 'Attack'], 'Convention': ['Event', 'SocietalEvent', 'Convention'], 'Election': ['Event', 'SocietalEvent', 'Election'], 'FilmFestival': ['Event', 'SocietalEvent', 'FilmFestival'], 'HistoricalEvent': ['Event', 'SocietalEvent', 'HistoricalEvent'], 'Meeting': ['Event', 'SocietalEvent', 'Meeting'], 'MilitaryConflict': ['Event', 'SocietalEvent', 'MilitaryConflict'], 'MusicFestival': ['Event', 'SocietalEvent', 'MusicFestival'], 'Rebellion': ['Event', 'SocietalEvent', 'Rebellion'], 'SpaceMission': ['Event', 'SocietalEvent', 'SpaceMission'], 'SportsEvent': ['Event', 'SocietalEvent', 'SportsEvent'], 'CyclingCompetition': ['Event', 'SocietalEvent', 'SportsEvent', 'CyclingCompetition'], 'FootballMatch': ['Event', 'SocietalEvent', 'SportsEvent', 'FootballMatch'], 'GrandPrix': ['Event', 'SocietalEvent', 'SportsEvent', 'GrandPrix'], 'InternationalFootballLeagueEvent': ['Event', 'SocietalEvent', 'SportsEvent', 'InternationalFootballLeagueEvent'], 'MixedMartialArtsEvent': ['Event', 'SocietalEvent', 'SportsEvent', 'MixedMartialArtsEvent'], 'NationalFootballLeagueEvent': ['Event', 'SocietalEvent', 'SportsEvent', 'NationalFootballLeagueEvent'], 'Olympics': ['Event', 'SocietalEvent', 'SportsEvent', 'Olympics'], 'OlympicEvent': ['Event', 'SocietalEvent', 'SportsEvent', 'Olympics', 'OlympicEvent'], 'Race': ['Event', 'SocietalEvent', 'SportsEvent', 'Race'], 'CyclingRace': ['Event', 'SocietalEvent', 'SportsEvent', 'Race', 'CyclingRace'], 'HorseRace': ['Event', 'SocietalEvent', 'SportsEvent', 'Race', 'HorseRace'], 'MotorRace': ['Event', 'SocietalEvent', 'SportsEvent', 'Race', 'MotorRace'], 'Tournament': ['Event', 'SocietalEvent', 'SportsEvent', 'Tournament'], 'GolfTournament': ['Event', 'SocietalEvent', 'SportsEvent', 'Tournament', 'GolfTournament'], 'SoccerTournament': ['Event', 'SocietalEvent', 'SportsEvent', 'Tournament', 'SoccerTournament'], 'TennisTournament': ['Event', 'SocietalEvent', 'SportsEvent', 'Tournament', 'TennisTournament'], 'WomensTennisAssociationTournament': ['Event', 'SocietalEvent', 'SportsEvent', 'Tournament', 'WomensTennisAssociationTournament'], 'WrestlingEvent': ['Event', 'SocietalEvent', 'SportsEvent', 'WrestlingEvent'], 'FileSystem': ['FileSystem'], 'Flag': ['Flag'], 'Food': ['Food'], 'Beverage': ['Food', 'Beverage'], 'Beer': ['Food', 'Beverage', 'Beer'], 'Vodka': ['Food', 'Beverage', 'Vodka'], 'Wine': ['Food', 'Beverage', 'Wine'], 'ControlledDesignationOfOriginWine': ['Food', 'Beverage', 'Wine', 'ControlledDesignationOfOriginWine'], 'Cheese': ['Food', 'Cheese'], 'GeneLocation': ['GeneLocation'], 'HumanGeneLocation': ['GeneLocation', 'HumanGeneLocation'], 'MouseGeneLocation': ['GeneLocation', 'MouseGeneLocation'], 'GrossDomesticProduct': ['GrossDomesticProduct'], 'GrossDomesticProductPerCapita': ['GrossDomesticProductPerCapita'], 'Holiday': ['Holiday'], 'Identifier': ['Identifier'], 'TopLevelDomain': ['Identifier', 'TopLevelDomain'], 'Language': ['Language'], 'ProgrammingLanguage': ['Language', 'ProgrammingLanguage'], 'List': ['List'], 'TrackList': ['List', 'TrackList'], 'MeanOfTransportation': ['MeanOfTransportation'], 'Aircraft': ['MeanOfTransportation', 'Aircraft'], 'MilitaryAircraft': ['MeanOfTransportation', 'Aircraft', 'MilitaryAircraft'], 'Automobile': ['MeanOfTransportation', 'Automobile'], 'Locomotive': ['MeanOfTransportation', 'Locomotive'], 'MilitaryVehicle': ['MeanOfTransportation', 'MilitaryVehicle'], 'Motorcycle': ['MeanOfTransportation', 'Motorcycle'], 'On-SiteTransportation': ['MeanOfTransportation', 'On-SiteTransportation'], 'ConveyorSystem': ['MeanOfTransportation', 'On-SiteTransportation', 'ConveyorSystem'], 'Escalator': ['MeanOfTransportation', 'On-SiteTransportation', 'Escalator'], 'MovingWalkway': ['MeanOfTransportation', 'On-SiteTransportation', 'MovingWalkway'], 'Rocket': ['MeanOfTransportation', 'Rocket'], 'Ship': ['MeanOfTransportation', 'Ship'], 'SpaceShuttle': ['MeanOfTransportation', 'SpaceShuttle'], 'SpaceStation': ['MeanOfTransportation', 'SpaceStation'], 'Spacecraft': ['MeanOfTransportation', 'Spacecraft'], 'Train': ['MeanOfTransportation', 'Train'], 'TrainCarriage': ['MeanOfTransportation', 'TrainCarriage'], 'Tram': ['MeanOfTransportation', 'Tram'], 'Media': ['Media'], 'MedicalSpecialty': ['MedicalSpecialty'], 'Medicine': ['Medicine'], 'Name': ['Name'], 'GivenName': ['Name', 'GivenName'], 'Surname': ['Name', 'Surname'], 'PersonFunction': ['PersonFunction'], 'PoliticalFunction': ['PersonFunction', 'PoliticalFunction'], 'Profession': ['PersonFunction', 'Profession'], 'Place': ['Place'], 'ArchitecturalStructure': ['Place', 'ArchitecturalStructure'], 'AmusementParkAttraction': ['Place', 'ArchitecturalStructure', 'AmusementParkAttraction'], 'RollerCoaster': ['Place', 'ArchitecturalStructure', 'AmusementParkAttraction', 'RollerCoaster'], 'WaterRide': ['Place', 'ArchitecturalStructure', 'AmusementParkAttraction', 'WaterRide'], 'Arena': ['Place', 'ArchitecturalStructure', 'Arena'], 'Building': ['Place', 'ArchitecturalStructure', 'Building'], 'Casino': ['Place', 'ArchitecturalStructure', 'Building', 'Casino'], 'Castle': ['Place', 'ArchitecturalStructure', 'Building', 'Castle'], 'Factory': ['Place', 'ArchitecturalStructure', 'Building', 'Factory'], 'HistoricBuilding': ['Place', 'ArchitecturalStructure', 'Building', 'HistoricBuilding'], 'Hospital': ['Place', 'ArchitecturalStructure', 'Building', 'Hospital'], 'Hotel': ['Place', 'ArchitecturalStructure', 'Building', 'Hotel'], 'Museum': ['Place', 'ArchitecturalStructure', 'Building', 'Museum'], 'Prison': ['Place', 'ArchitecturalStructure', 'Building', 'Prison'], 'ReligiousBuilding': ['Place', 'ArchitecturalStructure', 'Building', 'ReligiousBuilding'], 'Church': ['Place', 'ArchitecturalStructure', 'Building', 'ReligiousBuilding', 'Church'], 'Monastery': ['Place', 'ArchitecturalStructure', 'Building', 'ReligiousBuilding', 'Monastery'], 'Mosque': ['Place', 'ArchitecturalStructure', 'Building', 'ReligiousBuilding', 'Mosque'], 'Shrine': ['Place', 'ArchitecturalStructure', 'Building', 'ReligiousBuilding', 'Shrine'], 'Synagogue': ['Place', 'ArchitecturalStructure', 'Building', 'ReligiousBuilding', 'Synagogue'], 'Temple': ['Place', 'ArchitecturalStructure', 'Building', 'ReligiousBuilding', 'Temple'], 'Restaurant': ['Place', 'ArchitecturalStructure', 'Building', 'Restaurant'], 'ShoppingMall': ['Place', 'ArchitecturalStructure', 'Building', 'ShoppingMall'], 'Skyscraper': ['Place', 'ArchitecturalStructure', 'Building', 'Skyscraper'], 'Venue': ['Place', 'ArchitecturalStructure', 'Building', 'Venue'], 'Cinema': ['Place', 'ArchitecturalStructure', 'Building', 'Venue', 'Cinema'], 'Stadium': ['Place', 'ArchitecturalStructure', 'Building', 'Venue', 'Stadium'], 'Theatre': ['Place', 'ArchitecturalStructure', 'Building', 'Venue', 'Theatre'], 'Infrastructure': ['Place', 'ArchitecturalStructure', 'Infrastructure'], 'Airport': ['Place', 'ArchitecturalStructure', 'Infrastructure', 'Airport'], 'Dam': ['Place', 'ArchitecturalStructure', 'Infrastructure', 'Dam'], 'Dike': ['Place', 'ArchitecturalStructure', 'Infrastructure', 'Dike'], 'LaunchPad': ['Place', 'ArchitecturalStructure', 'Infrastructure', 'LaunchPad'], 'Lock': ['Place', 'ArchitecturalStructure', 'Infrastructure', 'Lock'], 'Port': ['Place', 'ArchitecturalStructure', 'Infrastructure', 'Port'], 'PowerStation': ['Place', 'ArchitecturalStructure', 'Infrastructure', 'PowerStation'], 'NuclearPowerStation': ['Place', 'ArchitecturalStructure', 'Infrastructure', 'PowerStation', 'NuclearPowerStation'], 'RestArea': ['Place', 'ArchitecturalStructure', 'Infrastructure', 'RestArea'], 'RouteOfTransportation': ['Place', 'ArchitecturalStructure', 'Infrastructure', 'RouteOfTransportation'], 'Bridge': ['Place', 'ArchitecturalStructure', 'Infrastructure', 'RouteOfTransportation', 'Bridge'], 'RailwayLine': ['Place', 'ArchitecturalStructure', 'Infrastructure', 'RouteOfTransportation', 'RailwayLine'], 'RailwayTunnel': ['Place', 'ArchitecturalStructure', 'Infrastructure', 'RouteOfTransportation', 'RailwayTunnel'], 'Road': ['Place', 'ArchitecturalStructure', 'Infrastructure', 'RouteOfTransportation', 'Road'], 'RoadJunction': ['Place', 'ArchitecturalStructure', 'Infrastructure', 'RouteOfTransportation', 'RoadJunction'], 'RoadTunnel': ['Place', 'ArchitecturalStructure', 'Infrastructure', 'RouteOfTransportation', 'RoadTunnel'], 'WaterwayTunnel': ['Place', 'ArchitecturalStructure', 'Infrastructure', 'RouteOfTransportation', 'WaterwayTunnel'], 'Station': ['Place', 'ArchitecturalStructure', 'Infrastructure', 'Station'], 'MetroStation': ['Place', 'ArchitecturalStructure', 'Infrastructure', 'Station', 'MetroStation'], 'RailwayStation': ['Place', 'ArchitecturalStructure', 'Infrastructure', 'Station', 'RailwayStation'], 'RouteStop': ['Place', 'ArchitecturalStructure', 'Infrastructure', 'Station', 'RouteStop'], 'TramStation': ['Place', 'ArchitecturalStructure', 'Infrastructure', 'Station', 'TramStation'], 'MilitaryStructure': ['Place', 'ArchitecturalStructure', 'MilitaryStructure'], 'Fort': ['Place', 'ArchitecturalStructure', 'MilitaryStructure', 'Fort'], 'Mill': ['Place', 'ArchitecturalStructure', 'Mill'], 'Treadmill': ['Place', 'ArchitecturalStructure', 'Mill', 'Treadmill'], 'Watermill': ['Place', 'ArchitecturalStructure', 'Mill', 'Watermill'], 'WindMotor': ['Place', 'ArchitecturalStructure', 'Mill', 'WindMotor'], 'Windmill': ['Place', 'ArchitecturalStructure', 'Mill', 'Windmill'], 'Monument': ['Place', 'ArchitecturalStructure', 'Monument'], 'GraveMonument': ['Place', 'ArchitecturalStructure', 'Monument', 'GraveMonument'], 'Memorial': ['Place', 'ArchitecturalStructure', 'Monument', 'Memorial'], 'Pyramid': ['Place', 'ArchitecturalStructure', 'Pyramid'], 'SportFacility': ['Place', 'ArchitecturalStructure', 'SportFacility'], 'CricketGround': ['Place', 'ArchitecturalStructure', 'SportFacility', 'CricketGround'], 'GolfCourse': ['Place', 'ArchitecturalStructure', 'SportFacility', 'GolfCourse'], 'RaceTrack': ['Place', 'ArchitecturalStructure', 'SportFacility', 'RaceTrack'], 'Racecourse': ['Place', 'ArchitecturalStructure', 'SportFacility', 'RaceTrack', 'Racecourse'], 'SkiArea': ['Place', 'ArchitecturalStructure', 'SportFacility', 'SkiArea'], 'SkiResort': ['Place', 'ArchitecturalStructure', 'SportFacility', 'SkiArea', 'SkiResort'], 'Square': ['Place', 'ArchitecturalStructure', 'Square'], 'Tower': ['Place', 'ArchitecturalStructure', 'Tower'], 'Lighthouse': ['Place', 'ArchitecturalStructure', 'Tower', 'Lighthouse'], 'WaterTower': ['Place', 'ArchitecturalStructure', 'Tower', 'WaterTower'], 'Tunnel': ['Place', 'ArchitecturalStructure', 'Tunnel'], 'Zoo': ['Place', 'ArchitecturalStructure', 'Zoo'], 'CelestialBody': ['Place', 'CelestialBody'], 'Asteroid': ['Place', 'CelestialBody', 'Asteroid'], 'Constellation': ['Place', 'CelestialBody', 'Constellation'], 'Galaxy': ['Place', 'CelestialBody', 'Galaxy'], 'Nebula': ['Place', 'CelestialBody', 'Nebula'], 'Planet': ['Place', 'CelestialBody', 'Planet'], 'Satellite': ['Place', 'CelestialBody', 'Satellite'], 'ArtificialSatellite': ['Place', 'CelestialBody', 'Satellite', 'ArtificialSatellite'], 'Star': ['Place', 'CelestialBody', 'Star'], 'BrownDwarf': ['Place', 'CelestialBody', 'Star', 'BrownDwarf'], 'Swarm': ['Place', 'CelestialBody', 'Swarm'], 'Globularswarm': ['Place', 'CelestialBody', 'Swarm', 'Globularswarm'], 'Openswarm': ['Place', 'CelestialBody', 'Swarm', 'Openswarm'], 'Cemetery': ['Place', 'Cemetery'], 'ConcentrationCamp': ['Place', 'ConcentrationCamp'], 'CountrySeat': ['Place', 'CountrySeat'], 'Garden': ['Place', 'Garden'], 'HistoricPlace': ['Place', 'HistoricPlace'], 'Mine': ['Place', 'Mine'], 'CoalPit': ['Place', 'Mine', 'CoalPit'], 'NaturalPlace': ['Place', 'NaturalPlace'], 'Archipelago': ['Place', 'NaturalPlace', 'Archipelago'], 'Beach': ['Place', 'NaturalPlace', 'Beach'], 'BodyOfWater': ['Place', 'NaturalPlace', 'BodyOfWater'], 'Bay': ['Place', 'NaturalPlace', 'BodyOfWater', 'Bay'], 'Lake': ['Place', 'NaturalPlace', 'BodyOfWater', 'Lake'], 'Ocean': ['Place', 'NaturalPlace', 'BodyOfWater', 'Ocean'], 'Sea': ['Place', 'NaturalPlace', 'BodyOfWater', 'Sea'], 'Stream': ['Place', 'NaturalPlace', 'BodyOfWater', 'Stream'], 'Canal': ['Place', 'NaturalPlace', 'BodyOfWater', 'Stream', 'Canal'], 'River': ['Place', 'NaturalPlace', 'BodyOfWater', 'Stream', 'River'], 'Cape': ['Place', 'NaturalPlace', 'Cape'], 'Cave': ['Place', 'NaturalPlace', 'Cave'], 'Crater': ['Place', 'NaturalPlace', 'Crater'], 'LunarCrater': ['Place', 'NaturalPlace', 'Crater', 'LunarCrater'], 'Desert': ['Place', 'NaturalPlace', 'Desert'], 'Forest': ['Place', 'NaturalPlace', 'Forest'], 'Glacier': ['Place', 'NaturalPlace', 'Glacier'], 'HotSpring': ['Place', 'NaturalPlace', 'HotSpring'], 'Mountain': ['Place', 'NaturalPlace', 'Mountain'], 'MountainPass': ['Place', 'NaturalPlace', 'MountainPass'], 'MountainRange': ['Place', 'NaturalPlace', 'MountainRange'], 'Valley': ['Place', 'NaturalPlace', 'Valley'], 'Volcano': ['Place', 'NaturalPlace', 'Volcano'], 'Park': ['Place', 'Park'], 'PopulatedPlace': ['Place', 'PopulatedPlace'], 'Agglomeration': ['Place', 'PopulatedPlace', 'Agglomeration'], 'Community': ['Place', 'PopulatedPlace', 'Community'], 'Continent': ['Place', 'PopulatedPlace', 'Continent'], 'Country': ['Place', 'PopulatedPlace', 'Country'], 'HistoricalCountry': ['Place', 'PopulatedPlace', 'Country', 'HistoricalCountry'], 'GatedCommunity': ['Place', 'PopulatedPlace', 'GatedCommunity'], 'Intercommunality': ['Place', 'PopulatedPlace', 'Intercommunality'], 'Island': ['Place', 'PopulatedPlace', 'Island'], 'Atoll': ['Place', 'PopulatedPlace', 'Island', 'Atoll'], 'Locality': ['Place', 'PopulatedPlace', 'Locality'], 'Region': ['Place', 'PopulatedPlace', 'Region'], 'AdministrativeRegion': ['Place', 'PopulatedPlace', 'Region', 'AdministrativeRegion'], 'ClericalAdministrativeRegion': ['Place', 'PopulatedPlace', 'Region', 'AdministrativeRegion', 'ClericalAdministrativeRegion'], 'Deanery': ['Place', 'PopulatedPlace', 'Region', 'AdministrativeRegion', 'ClericalAdministrativeRegion', 'Deanery'], 'Diocese': ['Place', 'PopulatedPlace', 'Region', 'AdministrativeRegion', 'ClericalAdministrativeRegion', 'Diocese'], 'Parish': ['Place', 'PopulatedPlace', 'Region', 'AdministrativeRegion', 'ClericalAdministrativeRegion', 'Parish'], 'GovernmentalAdministrativeRegion': ['Place', 'PopulatedPlace', 'Region', 'AdministrativeRegion', 'GovernmentalAdministrativeRegion'], 'Arrondissement': ['Place', 'PopulatedPlace', 'Region', 'AdministrativeRegion', 'GovernmentalAdministrativeRegion', 'Arrondissement'], 'Canton': ['Place', 'PopulatedPlace', 'Region', 'AdministrativeRegion', 'GovernmentalAdministrativeRegion', 'Canton'], 'Department': ['Place', 'PopulatedPlace', 'Region', 'AdministrativeRegion', 'GovernmentalAdministrativeRegion', 'Department'], 'OverseasDepartment': ['Place', 'PopulatedPlace', 'Region', 'AdministrativeRegion', 'GovernmentalAdministrativeRegion', 'Department', 'OverseasDepartment'], 'District': ['Place', 'PopulatedPlace', 'Region', 'AdministrativeRegion', 'GovernmentalAdministrativeRegion', 'District'], 'HistoricalDistrict': ['Place', 'PopulatedPlace', 'Region', 'AdministrativeRegion', 'GovernmentalAdministrativeRegion', 'District', 'HistoricalDistrict'], 'DistrictWaterBoard': ['Place', 'PopulatedPlace', 'Region', 'AdministrativeRegion', 'GovernmentalAdministrativeRegion', 'DistrictWaterBoard'], 'MicroRegion': ['Place', 'PopulatedPlace', 'Region', 'AdministrativeRegion', 'GovernmentalAdministrativeRegion', 'MicroRegion'], 'Municipality': ['Place', 'PopulatedPlace', 'Region', 'AdministrativeRegion', 'GovernmentalAdministrativeRegion', 'Municipality'], 'FormerMunicipality': ['Place', 'PopulatedPlace', 'Region', 'AdministrativeRegion', 'GovernmentalAdministrativeRegion', 'Municipality', 'FormerMunicipality'], 'Prefecture': ['Place', 'PopulatedPlace', 'Region', 'AdministrativeRegion', 'GovernmentalAdministrativeRegion', 'Prefecture'], 'Province': ['Place', 'PopulatedPlace', 'Region', 'AdministrativeRegion', 'GovernmentalAdministrativeRegion', 'Province'], 'HistoricalProvince': ['Place', 'PopulatedPlace', 'Region', 'AdministrativeRegion', 'GovernmentalAdministrativeRegion', 'Province', 'HistoricalProvince'], 'Regency': ['Place', 'PopulatedPlace', 'Region', 'AdministrativeRegion', 'GovernmentalAdministrativeRegion', 'Regency'], 'SubMunicipality': ['Place', 'PopulatedPlace', 'Region', 'AdministrativeRegion', 'GovernmentalAdministrativeRegion', 'SubMunicipality'], 'HistoricalAreaOfAuthority': ['Place', 'PopulatedPlace', 'Region', 'AdministrativeRegion', 'HistoricalAreaOfAuthority'], 'HistoricalRegion': ['Place', 'PopulatedPlace', 'Region', 'HistoricalRegion'], 'NaturalRegion': ['Place', 'PopulatedPlace', 'Region', 'NaturalRegion'], 'Settlement': ['Place', 'PopulatedPlace', 'Settlement'], 'City': ['Place', 'PopulatedPlace', 'Settlement', 'City'], 'Capital': ['Place', 'PopulatedPlace', 'Settlement', 'City', 'Capital'], 'CapitalOfRegion': ['Place', 'PopulatedPlace', 'Settlement', 'City', 'CapitalOfRegion'], 'CityDistrict': ['Place', 'PopulatedPlace', 'Settlement', 'CityDistrict'], 'HistoricalSettlement': ['Place', 'PopulatedPlace', 'Settlement', 'HistoricalSettlement'], 'Town': ['Place', 'PopulatedPlace', 'Settlement', 'Town'], 'Village': ['Place', 'PopulatedPlace', 'Settlement', 'Village'], 'State': ['Place', 'PopulatedPlace', 'State'], 'Street': ['Place', 'PopulatedPlace', 'Street'], 'Territory': ['Place', 'PopulatedPlace', 'Territory'], 'OldTerritory': ['Place', 'PopulatedPlace', 'Territory', 'OldTerritory'], 'ProtectedArea': ['Place', 'ProtectedArea'], 'SiteOfSpecialScientificInterest': ['Place', 'SiteOfSpecialScientificInterest'], 'WineRegion': ['Place', 'WineRegion'], 'WorldHeritageSite': ['Place', 'WorldHeritageSite'], 'Population': ['Population'], 'Protocol': ['Protocol'], 'PublicService': ['PublicService'], 'Relationship': ['Relationship'], 'Species': ['Species'], 'Archaea': ['Species', 'Archaea'], 'Bacteria': ['Species', 'Bacteria'], 'Eukaryote': ['Species', 'Eukaryote'], 'Animal': ['Species', 'Eukaryote', 'Animal'], 'Amphibian': ['Species', 'Eukaryote', 'Animal', 'Amphibian'], 'Arachnid': ['Species', 'Eukaryote', 'Animal', 'Arachnid'], 'Bird': ['Species', 'Eukaryote', 'Animal', 'Bird'], 'Crustacean': ['Species', 'Eukaryote', 'Animal', 'Crustacean'], 'Fish': ['Species', 'Eukaryote', 'Animal', 'Fish'], 'Insect': ['Species', 'Eukaryote', 'Animal', 'Insect'], 'Mammal': ['Species', 'Eukaryote', 'Animal', 'Mammal'], 'Cat': ['Species', 'Eukaryote', 'Animal', 'Mammal', 'Cat'], 'Dog': ['Species', 'Eukaryote', 'Animal', 'Mammal', 'Dog'], 'Horse': ['Species', 'Eukaryote', 'Animal', 'Mammal', 'Horse'], 'Mollusca': ['Species', 'Eukaryote', 'Animal', 'Mollusca'], 'Reptile': ['Species', 'Eukaryote', 'Animal', 'Reptile'], 'Fungus': ['Species', 'Eukaryote', 'Fungus'], 'Plant': ['Species', 'Eukaryote', 'Plant'], 'ClubMoss': ['Species', 'Eukaryote', 'Plant', 'ClubMoss'], 'Conifer': ['Species', 'Eukaryote', 'Plant', 'Conifer'], 'CultivatedVariety': ['Species', 'Eukaryote', 'Plant', 'CultivatedVariety'], 'Cycad': ['Species', 'Eukaryote', 'Plant', 'Cycad'], 'Fern': ['Species', 'Eukaryote', 'Plant', 'Fern'], 'FloweringPlant': ['Species', 'Eukaryote', 'Plant', 'FloweringPlant'], 'Grape': ['Species', 'Eukaryote', 'Plant', 'FloweringPlant', 'Grape'], 'Ginkgo': ['Species', 'Eukaryote', 'Plant', 'Ginkgo'], 'Gnetophytes': ['Species', 'Eukaryote', 'Plant', 'Gnetophytes'], 'GreenAlga': ['Species', 'Eukaryote', 'Plant', 'GreenAlga'], 'Moss': ['Species', 'Eukaryote', 'Plant', 'Moss'], 'SportCompetitionResult': ['SportCompetitionResult'], 'OlympicResult': ['SportCompetitionResult', 'OlympicResult'], 'SnookerWorldRanking': ['SportCompetitionResult', 'SnookerWorldRanking'], 'SportsSeason': ['SportsSeason'], 'MotorsportSeason': ['SportsSeason', 'MotorsportSeason'], 'SportsTeamSeason': ['SportsSeason', 'SportsTeamSeason'], 'BaseballSeason': ['SportsSeason', 'SportsTeamSeason', 'BaseballSeason'], 'FootballLeagueSeason': ['SportsSeason', 'SportsTeamSeason', 'FootballLeagueSeason'], 'NationalFootballLeagueSeason': ['SportsSeason', 'SportsTeamSeason', 'FootballLeagueSeason', 'NationalFootballLeagueSeason'], 'NCAATeamSeason': ['SportsSeason', 'SportsTeamSeason', 'NCAATeamSeason'], 'SoccerClubSeason': ['SportsSeason', 'SportsTeamSeason', 'SoccerClubSeason'], 'SoccerLeagueSeason': ['SportsSeason', 'SportsTeamSeason', 'SoccerLeagueSeason'], 'Spreadsheet': ['Spreadsheet'], 'StarCluster': ['StarCluster'], 'Statistic': ['Statistic'], 'Tank': ['Tank'], 'TimePeriod': ['TimePeriod'], 'CareerStation': ['TimePeriod', 'CareerStation'], 'MilitaryService': ['TimePeriod', 'CareerStation', 'MilitaryService'], 'GeologicalPeriod': ['TimePeriod', 'GeologicalPeriod'], 'HistoricalPeriod': ['TimePeriod', 'HistoricalPeriod'], 'PeriodOfArtisticStyle': ['TimePeriod', 'PeriodOfArtisticStyle'], 'PrehistoricalPeriod': ['TimePeriod', 'PrehistoricalPeriod'], 'ProtohistoricalPeriod': ['TimePeriod', 'ProtohistoricalPeriod'], 'Reign': ['TimePeriod', 'Reign'], 'Tenure': ['TimePeriod', 'Tenure'], 'Year': ['TimePeriod', 'Year'], 'YearInSpaceflight': ['TimePeriod', 'YearInSpaceflight'], 'TopicalConcept': ['TopicalConcept'], 'AcademicSubject': ['TopicalConcept', 'AcademicSubject'], 'CardinalDirection': ['TopicalConcept', 'CardinalDirection'], 'Fashion': ['TopicalConcept', 'Fashion'], 'Genre': ['TopicalConcept', 'Genre'], 'ArtisticGenre': ['TopicalConcept', 'Genre', 'ArtisticGenre'], 'LiteraryGenre': ['TopicalConcept', 'Genre', 'LiteraryGenre'], 'MovieGenre': ['TopicalConcept', 'Genre', 'MovieGenre'], 'MusicGenre': ['TopicalConcept', 'Genre', 'MusicGenre'], 'Ideology': ['TopicalConcept', 'Ideology'], 'MathematicalConcept': ['TopicalConcept', 'MathematicalConcept'], 'PhilosophicalConcept': ['TopicalConcept', 'PhilosophicalConcept'], 'PoliticalConcept': ['TopicalConcept', 'PoliticalConcept'], 'ScientificConcept': ['TopicalConcept', 'ScientificConcept'], 'Standard': ['TopicalConcept', 'Standard'], 'SystemOfLaw': ['TopicalConcept', 'SystemOfLaw'], 'Tax': ['TopicalConcept', 'Tax'], 'Taxon': ['TopicalConcept', 'Taxon'], 'TheologicalConcept': ['TopicalConcept', 'TheologicalConcept'], 'ChristianDoctrine': ['TopicalConcept', 'TheologicalConcept', 'ChristianDoctrine'], 'Type': ['TopicalConcept', 'Type'], 'DocumentType': ['TopicalConcept', 'Type', 'DocumentType'], 'GovernmentType': ['TopicalConcept', 'Type', 'GovernmentType'], 'UnitOfWork': ['UnitOfWork'], 'Case': ['UnitOfWork', 'Case'], 'LegalCase': ['UnitOfWork', 'Case', 'LegalCase'], 'SupremeCourtOfTheUnitedStatesCase': ['UnitOfWork', 'Case', 'LegalCase', 'SupremeCourtOfTheUnitedStatesCase'], 'Project': ['UnitOfWork', 'Project'], 'ResearchProject': ['UnitOfWork', 'Project', 'ResearchProject'], 'Unknown': ['Unknown'], 'WikimediaTemplate': ['Unknown', 'WikimediaTemplate'], 'Work': ['Work'], 'Artwork': ['Work', 'Artwork'], 'Painting': ['Work', 'Artwork', 'Painting'], 'Sculpture': ['Work', 'Artwork', 'Sculpture'], 'Cartoon': ['Work', 'Cartoon'], 'Anime': ['Work', 'Cartoon', 'Anime'], 'HollywoodCartoon': ['Work', 'Cartoon', 'HollywoodCartoon'], 'CollectionOfValuables': ['Work', 'CollectionOfValuables'], 'Archive': ['Work', 'CollectionOfValuables', 'Archive'], 'Database': ['Work', 'Database'], 'BiologicalDatabase': ['Work', 'Database', 'BiologicalDatabase'], 'Document': ['Work', 'Document'], 'File': ['Work', 'Document', 'File'], 'Image': ['Work', 'Document', 'Image'], 'MovingImage': ['Work', 'Document', 'Image', 'MovingImage'], 'StillImage': ['Work', 'Document', 'Image', 'StillImage'], 'Sound': ['Work', 'Document', 'Sound'], 'Film': ['Work', 'Film'], 'LineOfFashion': ['Work', 'LineOfFashion'], 'MusicalWork': ['Work', 'MusicalWork'], 'Album': ['Work', 'MusicalWork', 'Album'], 'ArtistDiscography': ['Work', 'MusicalWork', 'ArtistDiscography'], 'ClassicalMusicComposition': ['Work', 'MusicalWork', 'ClassicalMusicComposition'], 'Musical': ['Work', 'MusicalWork', 'Musical'], 'NationalAnthem': ['Work', 'MusicalWork', 'NationalAnthem'], 'Opera': ['Work', 'MusicalWork', 'Opera'], 'Single': ['Work', 'MusicalWork', 'Single'], 'Song': ['Work', 'MusicalWork', 'Song'], 'EurovisionSongContestEntry': ['Work', 'MusicalWork', 'Song', 'EurovisionSongContestEntry'], 'RadioProgram': ['Work', 'RadioProgram'], 'Software': ['Work', 'Software'], 'VideoGame': ['Work', 'Software', 'VideoGame'], 'TelevisionEpisode': ['Work', 'TelevisionEpisode'], 'TelevisionSeason': ['Work', 'TelevisionSeason'], 'TelevisionShow': ['Work', 'TelevisionShow'], 'Website': ['Work', 'Website'], 'WrittenWork': ['Work', 'WrittenWork'], 'Annotation': ['Work', 'WrittenWork', 'Annotation'], 'Reference': ['Work', 'WrittenWork', 'Annotation', 'Reference'], 'Article': ['Work', 'WrittenWork', 'Article'], 'Book': ['Work', 'WrittenWork', 'Book'], 'Novel': ['Work', 'WrittenWork', 'Book', 'Novel'], 'LightNovel': ['Work', 'WrittenWork', 'Book', 'Novel', 'LightNovel'], 'Comic': ['Work', 'WrittenWork', 'Comic'], 'ComicStrip': ['Work', 'WrittenWork', 'Comic', 'ComicStrip'], 'Manga': ['Work', 'WrittenWork', 'Comic', 'Manga'], 'Manhua': ['Work', 'WrittenWork', 'Comic', 'Manhua'], 'Manhwa': ['Work', 'WrittenWork', 'Comic', 'Manhwa'], 'Drama': ['Work', 'WrittenWork', 'Drama'], 'Law': ['Work', 'WrittenWork', 'Law'], 'Letter': ['Work', 'WrittenWork', 'Letter'], 'MultiVolumePublication': ['Work', 'WrittenWork', 'MultiVolumePublication'], 'PeriodicalLiterature': ['Work', 'WrittenWork', 'PeriodicalLiterature'], 'AcademicJournal': ['Work', 'WrittenWork', 'PeriodicalLiterature', 'AcademicJournal'], 'Magazine': ['Work', 'WrittenWork', 'PeriodicalLiterature', 'Magazine'], 'Newspaper': ['Work', 'WrittenWork', 'PeriodicalLiterature', 'Newspaper'], 'UndergroundJournal': ['Work', 'WrittenWork', 'PeriodicalLiterature', 'UndergroundJournal'], 'Play': ['Work', 'WrittenWork', 'Play'], 'Poem': ['Work', 'WrittenWork', 'Poem'], 'Quote': ['Work', 'WrittenWork', 'Quote'], 'Resume': ['Work', 'WrittenWork', 'Resume'], 'StatedResolution': ['Work', 'WrittenWork', 'StatedResolution'], 'Treaty': ['Work', 'WrittenWork', 'Treaty']}\n",
            "{0: [0], 1: [0, 1], 2: [0, 1, 2], 3: [0, 1, 3], 4: [0, 4], 5: [0, 5], 6: [0, 5, 6], 7: [0, 5, 7], 8: [8], 9: [8, 9], 10: [8, 10], 11: [8, 11], 12: [8, 11, 12], 13: [8, 13], 14: [8, 13, 14], 15: [8, 13, 14, 15], 16: [8, 13, 16], 17: [8, 13, 17], 18: [8, 13, 18], 19: [8, 13, 19], 20: [8, 20], 21: [8, 20, 21], 22: [8, 20, 21, 22], 23: [8, 20, 21, 23], 24: [8, 20, 21, 24], 25: [8, 20, 25], 26: [8, 20, 25, 26], 27: [8, 20, 25, 27], 28: [8, 20, 25, 28], 29: [8, 20, 25, 29], 30: [8, 20, 25, 30], 31: [8, 20, 25, 30, 31], 32: [8, 20, 25, 30, 32], 33: [8, 20, 25, 33], 34: [8, 20, 25, 34], 35: [8, 20, 25, 35], 36: [8, 20, 36], 37: [8, 20, 36, 37], 38: [8, 20, 36, 38], 39: [8, 20, 36, 39], 40: [8, 20, 36, 40], 41: [8, 20, 41], 42: [8, 20, 42], 43: [8, 20, 43], 44: [8, 20, 43, 44], 45: [8, 20, 45], 46: [8, 20, 45, 46], 47: [8, 20, 45, 47], 48: [8, 20, 48], 49: [8, 20, 49], 50: [8, 20, 50], 51: [8, 20, 51], 52: [8, 20, 51, 52], 53: [8, 20, 53], 54: [8, 20, 54], 55: [8, 20, 55], 56: [8, 20, 55, 56], 57: [8, 20, 57], 58: [8, 20, 58], 59: [8, 20, 58, 59], 60: [8, 20, 58, 60], 61: [8, 20, 58, 61], 62: [8, 20, 58, 61, 62], 63: [8, 20, 63], 64: [8, 20, 63, 64], 65: [8, 20, 63, 65], 66: [8, 20, 63, 66], 67: [8, 20, 63, 67], 68: [8, 20, 63, 68], 69: [8, 20, 63, 69], 70: [8, 20, 63, 70], 71: [8, 20, 63, 71], 72: [8, 20, 63, 72], 73: [8, 20, 63, 73], 74: [8, 20, 63, 74], 75: [8, 20, 63, 75], 76: [8, 20, 63, 76], 77: [8, 20, 63, 77], 78: [8, 20, 63, 78], 79: [8, 20, 63, 79], 80: [8, 20, 63, 80], 81: [8, 20, 63, 81], 82: [8, 20, 63, 82], 83: [8, 20, 63, 83], 84: [8, 20, 63, 84], 85: [8, 20, 63, 85], 86: [8, 20, 63, 86], 87: [8, 20, 63, 87], 88: [8, 20, 63, 88], 89: [8, 20, 63, 89], 90: [8, 20, 63, 90], 91: [8, 20, 63, 91], 92: [8, 20, 63, 92], 93: [8, 20, 63, 93], 94: [8, 20, 94], 95: [8, 20, 94, 95], 96: [8, 20, 94, 96], 97: [8, 20, 94, 97], 98: [8, 20, 94, 98], 99: [8, 20, 94, 99], 100: [8, 20, 94, 100], 101: [8, 20, 94, 101], 102: [8, 20, 94, 102], 103: [8, 20, 94, 103], 104: [8, 20, 94, 104], 105: [8, 20, 94, 105], 106: [8, 20, 106], 107: [8, 20, 107], 108: [8, 108], 109: [8, 108, 109], 110: [8, 108, 110], 111: [8, 108, 111], 112: [8, 108, 112], 113: [8, 108, 112, 113], 114: [8, 108, 112, 113, 114], 115: [8, 108, 112, 113, 115], 116: [8, 108, 112, 116], 117: [8, 108, 112, 117], 118: [8, 108, 112, 118], 119: [8, 108, 112, 119], 120: [8, 108, 112, 120], 121: [8, 108, 112, 121], 122: [8, 108, 112, 121, 122], 123: [8, 108, 112, 121, 123], 124: [8, 108, 112, 121, 124], 125: [8, 108, 112, 121, 124, 125], 126: [8, 108, 112, 121, 126], 127: [8, 108, 112, 121, 127], 128: [8, 108, 112, 128], 129: [8, 108, 112, 129], 130: [8, 108, 112, 130], 131: [8, 108, 131], 132: [8, 108, 132], 133: [8, 108, 132, 133], 134: [8, 108, 132, 134], 135: [8, 108, 132, 135], 136: [8, 108, 132, 136], 137: [8, 108, 132, 137], 138: [8, 108, 132, 138], 139: [8, 108, 132, 139], 140: [8, 108, 132, 140], 141: [8, 108, 132, 140, 141], 142: [8, 108, 132, 142], 143: [8, 108, 132, 143], 144: [8, 108, 132, 144], 145: [8, 108, 132, 145], 146: [8, 108, 132, 146], 147: [8, 108, 132, 147], 148: [8, 108, 132, 148], 149: [8, 108, 132, 149], 150: [8, 108, 132, 150], 151: [8, 108, 132, 151], 152: [8, 108, 132, 151, 152], 153: [8, 108, 132, 151, 153], 154: [8, 108, 132, 154], 155: [8, 108, 132, 155], 156: [8, 108, 132, 156], 157: [8, 108, 132, 157], 158: [8, 108, 132, 158], 159: [8, 108, 132, 159], 160: [8, 108, 132, 160], 161: [8, 108, 132, 161], 162: [8, 108, 132, 161, 162], 163: [8, 108, 132, 161, 162, 163], 164: [8, 108, 132, 161, 162, 164], 165: [8, 108, 132, 161, 165], 166: [8, 108, 132, 161, 165, 166], 167: [8, 108, 132, 161, 165, 167], 168: [8, 108, 132, 161, 165, 168], 169: [8, 108, 132, 161, 165, 169], 170: [8, 108, 132, 170], 171: [8, 108, 132, 171], 172: [8, 108, 132, 172], 173: [8, 108, 132, 173], 174: [8, 108, 132, 174], 175: [8, 108, 132, 175], 176: [8, 108, 132, 175, 176], 177: [8, 108, 132, 177], 178: [8, 108, 132, 178], 179: [8, 108, 132, 179], 180: [8, 108, 132, 180], 181: [8, 108, 132, 181], 182: [8, 108, 132, 182], 183: [8, 108, 132, 183], 184: [8, 108, 132, 184], 185: [8, 108, 132, 184, 185], 186: [8, 108, 132, 186], 187: [8, 108, 132, 187], 188: [8, 108, 132, 187, 188], 189: [8, 108, 132, 187, 189], 190: [8, 108, 132, 187, 190], 191: [8, 108, 132, 187, 191], 192: [8, 108, 132, 187, 192], 193: [8, 108, 132, 187, 193], 194: [8, 108, 132, 187, 194], 195: [8, 108, 132, 187, 195], 196: [8, 108, 132, 187, 196], 197: [8, 108, 132, 187, 197], 198: [8, 108, 132, 187, 198], 199: [8, 108, 132, 199], 200: [8, 108, 132, 199, 200], 201: [8, 108, 201], 202: [8, 108, 202], 203: [8, 108, 203], 204: [8, 108, 204], 205: [8, 108, 204, 205], 206: [8, 108, 204, 206], 207: [8, 108, 204, 206, 207], 208: [8, 108, 204, 208], 209: [8, 108, 204, 209], 210: [8, 108, 204, 210], 211: [8, 108, 204, 211], 212: [8, 108, 204, 212], 213: [8, 108, 213], 214: [8, 108, 213, 214], 215: [8, 108, 213, 215], 216: [8, 108, 213, 216], 217: [8, 108, 217], 218: [8, 108, 217, 218], 219: [8, 108, 217, 218, 219], 220: [8, 108, 220], 221: [8, 108, 221], 222: [8, 108, 222], 223: [8, 108, 223], 224: [8, 108, 224], 225: [8, 108, 225], 226: [8, 108, 226], 227: [8, 108, 227], 228: [8, 108, 228], 229: [8, 108, 229], 230: [8, 108, 230], 231: [8, 108, 231], 232: [8, 108, 232], 233: [8, 108, 233], 234: [8, 108, 234], 235: [8, 108, 235], 236: [8, 108, 236], 237: [8, 108, 237], 238: [8, 108, 237, 238], 239: [8, 108, 239], 240: [8, 108, 240], 241: [8, 108, 241], 242: [8, 108, 241, 242], 243: [8, 108, 241, 243], 244: [8, 108, 241, 244], 245: [8, 108, 241, 245], 246: [8, 108, 241, 246], 247: [8, 108, 241, 247], 248: [8, 108, 241, 248], 249: [8, 108, 241, 249], 250: [8, 108, 241, 250], 251: [8, 108, 241, 251], 252: [8, 108, 241, 252], 253: [8, 108, 241, 253], 254: [8, 108, 241, 254], 255: [8, 108, 241, 255], 256: [8, 108, 256], 257: [8, 108, 257], 258: [8, 108, 257, 258], 259: [8, 108, 257, 259], 260: [8, 108, 260], 261: [8, 108, 261], 262: [8, 108, 262], 263: [8, 108, 263], 264: [8, 108, 264], 265: [8, 108, 265], 266: [8, 108, 265, 266], 267: [8, 108, 265, 266, 267], 268: [8, 108, 268], 269: [8, 108, 268, 269], 270: [8, 108, 268, 270], 271: [8, 108, 268, 271], 272: [8, 108, 268, 272], 273: [8, 108, 273], 274: [8, 108, 273, 274], 275: [8, 108, 275], 276: [8, 108, 276], 277: [8, 108, 277], 278: [8, 108, 277, 278], 279: [8, 108, 277, 279], 280: [8, 108, 277, 280], 281: [8, 108, 277, 281], 282: [8, 108, 277, 282], 283: [8, 108, 277, 283], 284: [284], 285: [285], 286: [286], 287: [286, 287], 288: [286, 288], 289: [286, 289], 290: [286, 290], 291: [286, 291], 292: [286, 292], 293: [286, 293], 294: [286, 294], 295: [286, 295], 296: [286, 296], 297: [297], 298: [298], 299: [298, 299], 300: [298, 300], 301: [301], 302: [301, 302], 303: [301, 303], 304: [301, 303, 304], 305: [301, 303, 305], 306: [301, 306], 307: [301, 307], 308: [301, 308], 309: [301, 309], 310: [310], 311: [311], 312: [312], 313: [313], 314: [313, 314], 315: [313, 315], 316: [313, 316], 317: [313, 316, 317], 318: [313, 316, 318], 319: [313, 316, 319], 320: [313, 320], 321: [321], 322: [322], 323: [323], 324: [324], 325: [325], 326: [326], 327: [326, 327], 328: [326, 328], 329: [326, 328, 329], 330: [326, 330], 331: [326, 330, 331], 332: [326, 330, 332], 333: [326, 333], 334: [326, 334], 335: [326, 334, 335], 336: [326, 334, 336], 337: [326, 337], 338: [326, 338], 339: [326, 339], 340: [340], 341: [341], 342: [342], 343: [343], 344: [344], 345: [345], 346: [345, 346], 347: [345, 346, 347], 348: [345, 348], 349: [345, 348, 349], 350: [345, 350], 351: [345, 350, 351], 352: [345, 350, 352], 353: [345, 350, 353], 354: [345, 354], 355: [345, 355], 356: [345, 355, 356], 357: [345, 355, 357], 358: [345, 355, 358], 359: [345, 355, 359], 360: [345, 355, 360], 361: [345, 355, 361], 362: [345, 355, 362], 363: [345, 355, 363], 364: [345, 355, 364], 365: [345, 355, 365], 366: [345, 355, 366], 367: [345, 355, 367], 368: [345, 355, 367, 368], 369: [345, 355, 367, 369], 370: [345, 355, 367, 370], 371: [345, 355, 367, 371], 372: [345, 355, 367, 372], 373: [345, 355, 367, 373], 374: [345, 355, 367, 374], 375: [345, 355, 367, 374, 375], 376: [345, 355, 367, 376], 377: [345, 355, 367, 376, 377], 378: [345, 355, 367, 376, 378], 379: [345, 355, 367, 376, 379], 380: [345, 355, 367, 380], 381: [345, 355, 367, 380, 381], 382: [345, 355, 367, 380, 382], 383: [345, 355, 367, 380, 383], 384: [345, 355, 367, 380, 384], 385: [345, 355, 367, 385], 386: [386], 387: [387], 388: [388], 389: [388, 389], 390: [388, 389, 390], 391: [388, 389, 391], 392: [388, 389, 392], 393: [388, 389, 392, 393], 394: [388, 394], 395: [395], 396: [395, 396], 397: [395, 397], 398: [398], 399: [399], 400: [400], 401: [401], 402: [401, 402], 403: [403], 404: [403, 404], 405: [405], 406: [405, 406], 407: [407], 408: [407, 408], 409: [407, 408, 409], 410: [407, 410], 411: [407, 411], 412: [407, 412], 413: [407, 413], 414: [407, 414], 415: [407, 414, 415], 416: [407, 414, 416], 417: [407, 414, 417], 418: [407, 418], 419: [407, 419], 420: [407, 420], 421: [407, 421], 422: [407, 422], 423: [407, 423], 424: [407, 424], 425: [407, 425], 426: [426], 427: [427], 428: [428], 429: [429], 430: [429, 430], 431: [429, 431], 432: [432], 433: [432, 433], 434: [432, 434], 435: [435], 436: [435, 436], 437: [435, 436, 437], 438: [435, 436, 437, 438], 439: [435, 436, 437, 439], 440: [435, 436, 440], 441: [435, 436, 441], 442: [435, 436, 441, 442], 443: [435, 436, 441, 443], 444: [435, 436, 441, 444], 445: [435, 436, 441, 445], 446: [435, 436, 441, 446], 447: [435, 436, 441, 447], 448: [435, 436, 441, 448], 449: [435, 436, 441, 449], 450: [435, 436, 441, 450], 451: [435, 436, 441, 450, 451], 452: [435, 436, 441, 450, 452], 453: [435, 436, 441, 450, 453], 454: [435, 436, 441, 450, 454], 455: [435, 436, 441, 450, 455], 456: [435, 436, 441, 450, 456], 457: [435, 436, 441, 457], 458: [435, 436, 441, 458], 459: [435, 436, 441, 459], 460: [435, 436, 441, 460], 461: [435, 436, 441, 460, 461], 462: [435, 436, 441, 460, 462], 463: [435, 436, 441, 460, 463], 464: [435, 436, 464], 465: [435, 436, 464, 465], 466: [435, 436, 464, 466], 467: [435, 436, 464, 467], 468: [435, 436, 464, 468], 469: [435, 436, 464, 469], 470: [435, 436, 464, 470], 471: [435, 436, 464, 471], 472: [435, 436, 464, 471, 472], 473: [435, 436, 464, 473], 474: [435, 436, 464, 474], 475: [435, 436, 464, 474, 475], 476: [435, 436, 464, 474, 476], 477: [435, 436, 464, 474, 477], 478: [435, 436, 464, 474, 478], 479: [435, 436, 464, 474, 479], 480: [435, 436, 464, 474, 480], 481: [435, 436, 464, 474, 481], 482: [435, 436, 464, 482], 483: [435, 436, 464, 482, 483], 484: [435, 436, 464, 482, 484], 485: [435, 436, 464, 482, 485], 486: [435, 436, 464, 482, 486], 487: [435, 436, 487], 488: [435, 436, 487, 488], 489: [435, 436, 489], 490: [435, 436, 489, 490], 491: [435, 436, 489, 491], 492: [435, 436, 489, 492], 493: [435, 436, 489, 493], 494: [435, 436, 494], 495: [435, 436, 494, 495], 496: [435, 436, 494, 496], 497: [435, 436, 497], 498: [435, 436, 498], 499: [435, 436, 498, 499], 500: [435, 436, 498, 500], 501: [435, 436, 498, 501], 502: [435, 436, 498, 501, 502], 503: [435, 436, 498, 503], 504: [435, 436, 498, 503, 504], 505: [435, 436, 505], 506: [435, 436, 506], 507: [435, 436, 506, 507], 508: [435, 436, 506, 508], 509: [435, 436, 509], 510: [435, 436, 510], 511: [435, 511], 512: [435, 511, 512], 513: [435, 511, 513], 514: [435, 511, 514], 515: [435, 511, 515], 516: [435, 511, 516], 517: [435, 511, 517], 518: [435, 511, 517, 518], 519: [435, 511, 519], 520: [435, 511, 519, 520], 521: [435, 511, 521], 522: [435, 511, 521, 522], 523: [435, 511, 521, 523], 524: [435, 524], 525: [435, 525], 526: [435, 526], 527: [435, 527], 528: [435, 528], 529: [435, 529], 530: [435, 529, 530], 531: [435, 531], 532: [435, 531, 532], 533: [435, 531, 533], 534: [435, 531, 534], 535: [435, 531, 534, 535], 536: [435, 531, 534, 536], 537: [435, 531, 534, 537], 538: [435, 531, 534, 538], 539: [435, 531, 534, 539], 540: [435, 531, 534, 539, 540], 541: [435, 531, 534, 539, 541], 542: [435, 531, 542], 543: [435, 531, 543], 544: [435, 531, 544], 545: [435, 531, 544, 545], 546: [435, 531, 546], 547: [435, 531, 547], 548: [435, 531, 548], 549: [435, 531, 549], 550: [435, 531, 550], 551: [435, 531, 551], 552: [435, 531, 552], 553: [435, 531, 553], 554: [435, 531, 554], 555: [435, 555], 556: [435, 556], 557: [435, 556, 557], 558: [435, 556, 558], 559: [435, 556, 559], 560: [435, 556, 560], 561: [435, 556, 560, 561], 562: [435, 556, 562], 563: [435, 556, 563], 564: [435, 556, 564], 565: [435, 556, 564, 565], 566: [435, 556, 566], 567: [435, 556, 567], 568: [435, 556, 567, 568], 569: [435, 556, 567, 568, 569], 570: [435, 556, 567, 568, 569, 570], 571: [435, 556, 567, 568, 569, 571], 572: [435, 556, 567, 568, 569, 572], 573: [435, 556, 567, 568, 573], 574: [435, 556, 567, 568, 573, 574], 575: [435, 556, 567, 568, 573, 575], 576: [435, 556, 567, 568, 573, 576], 577: [435, 556, 567, 568, 573, 576, 577], 578: [435, 556, 567, 568, 573, 578], 579: [435, 556, 567, 568, 573, 578, 579], 580: [435, 556, 567, 568, 573, 580], 581: [435, 556, 567, 568, 573, 581], 582: [435, 556, 567, 568, 573, 582], 583: [435, 556, 567, 568, 573, 582, 583], 584: [435, 556, 567, 568, 573, 584], 585: [435, 556, 567, 568, 573, 585], 586: [435, 556, 567, 568, 573, 585, 586], 587: [435, 556, 567, 568, 573, 587], 588: [435, 556, 567, 568, 573, 588], 589: [435, 556, 567, 568, 589], 590: [435, 556, 567, 590], 591: [435, 556, 567, 591], 592: [435, 556, 592], 593: [435, 556, 592, 593], 594: [435, 556, 592, 593, 594], 595: [435, 556, 592, 593, 595], 596: [435, 556, 592, 596], 597: [435, 556, 592, 597], 598: [435, 556, 592, 598], 599: [435, 556, 592, 599], 600: [435, 556, 600], 601: [435, 556, 601], 602: [435, 556, 602], 603: [435, 556, 602, 603], 604: [435, 604], 605: [435, 605], 606: [435, 606], 607: [435, 607], 608: [608], 609: [609], 610: [610], 611: [611], 612: [612], 613: [612, 613], 614: [612, 614], 615: [612, 615], 616: [612, 615, 616], 617: [612, 615, 616, 617], 618: [612, 615, 616, 618], 619: [612, 615, 616, 619], 620: [612, 615, 616, 620], 621: [612, 615, 616, 621], 622: [612, 615, 616, 622], 623: [612, 615, 616, 623], 624: [612, 615, 616, 623, 624], 625: [612, 615, 616, 623, 625], 626: [612, 615, 616, 623, 626], 627: [612, 615, 616, 627], 628: [612, 615, 616, 628], 629: [612, 615, 629], 630: [612, 615, 630], 631: [612, 615, 630, 631], 632: [612, 615, 630, 632], 633: [612, 615, 630, 633], 634: [612, 615, 630, 634], 635: [612, 615, 630, 635], 636: [612, 615, 630, 636], 637: [612, 615, 630, 636, 637], 638: [612, 615, 630, 638], 639: [612, 615, 630, 639], 640: [612, 615, 630, 640], 641: [612, 615, 630, 641], 642: [642], 643: [642, 643], 644: [642, 644], 645: [645], 646: [645, 646], 647: [645, 647], 648: [645, 647, 648], 649: [645, 647, 649], 650: [645, 647, 649, 650], 651: [645, 647, 651], 652: [645, 647, 652], 653: [645, 647, 653], 654: [654], 655: [655], 656: [656], 657: [657], 658: [658], 659: [658, 659], 660: [658, 659, 660], 661: [658, 661], 662: [658, 662], 663: [658, 663], 664: [658, 664], 665: [658, 665], 666: [658, 666], 667: [658, 667], 668: [658, 668], 669: [658, 669], 670: [670], 671: [670, 671], 672: [670, 672], 673: [670, 673], 674: [670, 674], 675: [670, 674, 675], 676: [670, 674, 676], 677: [670, 674, 677], 678: [670, 674, 678], 679: [670, 679], 680: [670, 680], 681: [670, 681], 682: [670, 682], 683: [670, 683], 684: [670, 684], 685: [670, 685], 686: [670, 686], 687: [670, 687], 688: [670, 688], 689: [670, 688, 689], 690: [670, 690], 691: [670, 690, 691], 692: [670, 690, 692], 693: [693], 694: [693, 694], 695: [693, 694, 695], 696: [693, 694, 695, 696], 697: [693, 697], 698: [693, 697, 698], 699: [699], 700: [699, 700], 701: [701], 702: [701, 702], 703: [701, 702, 703], 704: [701, 702, 704], 705: [701, 705], 706: [701, 705, 706], 707: [701, 705, 707], 708: [701, 708], 709: [701, 708, 709], 710: [701, 710], 711: [701, 710, 711], 712: [701, 712], 713: [701, 712, 713], 714: [701, 712, 714], 715: [701, 712, 714, 715], 716: [701, 712, 714, 716], 717: [701, 712, 717], 718: [701, 718], 719: [701, 719], 720: [701, 720], 721: [701, 720, 721], 722: [701, 720, 722], 723: [701, 720, 723], 724: [701, 720, 724], 725: [701, 720, 725], 726: [701, 720, 726], 727: [701, 720, 727], 728: [701, 720, 728], 729: [701, 720, 728, 729], 730: [701, 730], 731: [701, 731], 732: [701, 731, 732], 733: [701, 733], 734: [701, 734], 735: [701, 735], 736: [701, 736], 737: [701, 737], 738: [701, 737, 738], 739: [701, 737, 738, 739], 740: [701, 737, 740], 741: [701, 737, 741], 742: [701, 737, 741, 742], 743: [701, 737, 741, 742, 743], 744: [701, 737, 744], 745: [701, 737, 744, 745], 746: [701, 737, 744, 746], 747: [701, 737, 744, 747], 748: [701, 737, 744, 748], 749: [701, 737, 749], 750: [701, 737, 750], 751: [701, 737, 751], 752: [701, 737, 752], 753: [701, 737, 753], 754: [701, 737, 753, 754], 755: [701, 737, 753, 755], 756: [701, 737, 753, 756], 757: [701, 737, 753, 757], 758: [701, 737, 758], 759: [701, 737, 759], 760: [701, 737, 760], 761: [701, 737, 761], 762: [701, 737, 762], 763: [701, 737, 763]}\n",
            "\n",
            "{1: ['Activity', 'Agent', 'Algorithm', 'Altitude', 'AnatomicalStructure', 'Area', 'Award', 'Biomolecule', 'Blazon', 'Browser', 'ChartsPlacements', 'ChemicalSubstance', 'Cipher', 'Colour', 'Currency', 'Demographics', 'Depth', 'Device', 'Diploma', 'Disease', 'ElectionDiagram', 'ElectricalSubstation', 'EthnicGroup', 'Event', 'FileSystem', 'Flag', 'Food', 'GeneLocation', 'GrossDomesticProduct', 'GrossDomesticProductPerCapita', 'Holiday', 'Identifier', 'Language', 'List', 'MeanOfTransportation', 'Media', 'MedicalSpecialty', 'Medicine', 'Name', 'PersonFunction', 'Place', 'Population', 'Protocol', 'PublicService', 'Relationship', 'Species', 'SportCompetitionResult', 'SportsSeason', 'Spreadsheet', 'StarCluster', 'Statistic', 'Tank', 'TimePeriod', 'TopicalConcept', 'UnitOfWork', 'Unknown', 'Work'], 2: ['Game', 'Sales', 'Sport', 'Deity', 'Employer', 'Family', 'FictionalCharacter', 'Organisation', 'Person', 'Artery', 'BloodVessel', 'Bone', 'Brain', 'Embryology', 'Ligament', 'Lymph', 'Muscle', 'Nerve', 'Vein', 'Decoration', 'NobelPrize', 'Enzyme', 'Gene', 'Hormone', 'Lipid', 'Polysaccharide', 'Protein', 'ChemicalCompound', 'ChemicalElement', 'Drug', 'Mineral', 'Battery', 'Camera', 'Engine', 'InformationAppliance', 'Instrument', 'MobilePhone', 'Robot', 'Weapon', 'Competition', 'LifeCycleEvent', 'NaturalEvent', 'PenaltyShootOut', 'SocietalEvent', 'Beverage', 'Cheese', 'HumanGeneLocation', 'MouseGeneLocation', 'TopLevelDomain', 'ProgrammingLanguage', 'TrackList', 'Aircraft', 'Automobile', 'Locomotive', 'MilitaryVehicle', 'Motorcycle', 'On-SiteTransportation', 'Rocket', 'Ship', 'SpaceShuttle', 'SpaceStation', 'Spacecraft', 'Train', 'TrainCarriage', 'Tram', 'GivenName', 'Surname', 'PoliticalFunction', 'Profession', 'ArchitecturalStructure', 'CelestialBody', 'Cemetery', 'ConcentrationCamp', 'CountrySeat', 'Garden', 'HistoricPlace', 'Mine', 'NaturalPlace', 'Park', 'PopulatedPlace', 'ProtectedArea', 'SiteOfSpecialScientificInterest', 'WineRegion', 'WorldHeritageSite', 'Archaea', 'Bacteria', 'Eukaryote', 'OlympicResult', 'SnookerWorldRanking', 'MotorsportSeason', 'SportsTeamSeason', 'CareerStation', 'GeologicalPeriod', 'HistoricalPeriod', 'PeriodOfArtisticStyle', 'PrehistoricalPeriod', 'ProtohistoricalPeriod', 'Reign', 'Tenure', 'Year', 'YearInSpaceflight', 'AcademicSubject', 'CardinalDirection', 'Fashion', 'Genre', 'Ideology', 'MathematicalConcept', 'PhilosophicalConcept', 'PoliticalConcept', 'ScientificConcept', 'Standard', 'SystemOfLaw', 'Tax', 'Taxon', 'TheologicalConcept', 'Type', 'Case', 'Project', 'WikimediaTemplate', 'Artwork', 'Cartoon', 'CollectionOfValuables', 'Database', 'Document', 'Film', 'LineOfFashion', 'MusicalWork', 'RadioProgram', 'Software', 'TelevisionEpisode', 'TelevisionSeason', 'TelevisionShow', 'Website', 'WrittenWork'], 3: ['BoardGame', 'CardGame', 'Athletics', 'TeamSport', 'NobleFamily', 'ComicsCharacter', 'DisneyCharacter', 'MythologicalFigure', 'NarutoCharacter', 'SoapCharacter', 'Broadcaster', 'Company', 'EducationalInstitution', 'EmployersOrganisation', 'GeopoliticalOrganisation', 'GovernmentAgency', 'Group', 'InternationalOrganisation', 'Legislature', 'MilitaryUnit', 'Non-ProfitOrganisation', 'Parliament', 'PoliticalParty', 'ReligiousOrganisation', 'SambaSchool', 'SportsClub', 'SportsLeague', 'SportsTeam', 'TermOfOffice', 'TradeUnion', 'Archeologist', 'Architect', 'Aristocrat', 'Artist', 'Astronaut', 'Athlete', 'BeautyQueen', 'BusinessPerson', 'Chef', 'Cleric', 'Coach', 'Criminal', 'DBpedian', 'Economist', 'Egyptologist', 'Engineer', 'Farmer', 'HorseTrainer', 'Journalist', 'Judge', 'Lawyer', 'Linguist', 'MemberResistanceMovement', 'MilitaryPerson', 'Model', 'Monarch', 'MovieDirector', 'Noble', 'OfficeHolder', 'OrganisationMember', 'Philosopher', 'PlayboyPlaymate', 'Politician', 'PoliticianSpouse', 'Presenter', 'Producer', 'Psychologist', 'Referee', 'Religious', 'RomanEmperor', 'Royalty', 'Scientist', 'SportsManager', 'TelevisionDirector', 'TheatreDirector', 'Writer', 'HumanGene', 'MouseGene', 'CombinationDrug', 'MonoclonalAntibody', 'Vaccine', 'DigitalCamera', 'AutomobileEngine', 'RocketEngine', 'Guitar', 'Organ', 'Contest', 'PersonalEvent', 'Earthquake', 'SolarEclipse', 'StormSurge', 'AcademicConference', 'Attack', 'Convention', 'Election', 'FilmFestival', 'HistoricalEvent', 'Meeting', 'MilitaryConflict', 'MusicFestival', 'Rebellion', 'SpaceMission', 'SportsEvent', 'Beer', 'Vodka', 'Wine', 'MilitaryAircraft', 'ConveyorSystem', 'Escalator', 'MovingWalkway', 'AmusementParkAttraction', 'Arena', 'Building', 'Infrastructure', 'MilitaryStructure', 'Mill', 'Monument', 'Pyramid', 'SportFacility', 'Square', 'Tower', 'Tunnel', 'Zoo', 'Asteroid', 'Constellation', 'Galaxy', 'Nebula', 'Planet', 'Satellite', 'Star', 'Swarm', 'CoalPit', 'Archipelago', 'Beach', 'BodyOfWater', 'Cape', 'Cave', 'Crater', 'Desert', 'Forest', 'Glacier', 'HotSpring', 'Mountain', 'MountainPass', 'MountainRange', 'Valley', 'Volcano', 'Agglomeration', 'Community', 'Continent', 'Country', 'GatedCommunity', 'Intercommunality', 'Island', 'Locality', 'Region', 'Settlement', 'State', 'Street', 'Territory', 'Animal', 'Fungus', 'Plant', 'BaseballSeason', 'FootballLeagueSeason', 'NCAATeamSeason', 'SoccerClubSeason', 'SoccerLeagueSeason', 'MilitaryService', 'ArtisticGenre', 'LiteraryGenre', 'MovieGenre', 'MusicGenre', 'ChristianDoctrine', 'DocumentType', 'GovernmentType', 'LegalCase', 'ResearchProject', 'Painting', 'Sculpture', 'Anime', 'HollywoodCartoon', 'Archive', 'BiologicalDatabase', 'File', 'Image', 'Sound', 'Album', 'ArtistDiscography', 'ClassicalMusicComposition', 'Musical', 'NationalAnthem', 'Opera', 'Single', 'Song', 'VideoGame', 'Annotation', 'Article', 'Book', 'Comic', 'Drama', 'Law', 'Letter', 'MultiVolumePublication', 'PeriodicalLiterature', 'Play', 'Poem', 'Quote', 'Resume', 'StatedResolution', 'Treaty'], 4: ['AnimangaCharacter', 'BroadcastNetwork', 'RadioStation', 'TelevisionStation', 'Bank', 'Brewery', 'Caterer', 'LawFirm', 'PublicTransitSystem', 'Publisher', 'RecordLabel', 'Winery', 'College', 'Library', 'School', 'University', 'GovernmentCabinet', 'Band', 'ComedyGroup', 'RecordOffice', 'ClericalOrder', 'HockeyClub', 'RugbyClub', 'SoccerClub', 'AmericanFootballLeague', 'AustralianFootballLeague', 'AutoRacingLeague', 'BaseballLeague', 'BasketballLeague', 'BowlingLeague', 'BoxingLeague', 'CanadianFootballLeague', 'CricketLeague', 'CurlingLeague', 'CyclingLeague', 'FieldHockeyLeague', 'FormulaOneRacing', 'GolfLeague', 'HandballLeague', 'IceHockeyLeague', 'InlineHockeyLeague', 'LacrosseLeague', 'MixedMartialArtsLeague', 'MotorcycleRacingLeague', 'PaintballLeague', 'PoloLeague', 'RadioControlledRacingLeague', 'RugbyLeague', 'SoccerLeague', 'SoftballLeague', 'SpeedwayLeague', 'TennisLeague', 'VideogamesLeague', 'VolleyballLeague', 'AmericanFootballTeam', 'AustralianFootballTeam', 'BaseballTeam', 'BasketballTeam', 'CanadianFootballTeam', 'CricketTeam', 'CyclingTeam', 'FormulaOneTeam', 'HandballTeam', 'HockeyTeam', 'SpeedwayTeam', 'Actor', 'Comedian', 'ComicsCreator', 'Dancer', 'FashionDesigner', 'Humorist', 'MusicalArtist', 'Painter', 'Photographer', 'Sculptor', 'ArcherPlayer', 'AthleticsPlayer', 'AustralianRulesFootballPlayer', 'BadmintonPlayer', 'BaseballPlayer', 'BasketballPlayer', 'Bodybuilder', 'Boxer', 'BullFighter', 'Canoeist', 'ChessPlayer', 'Cricketer', 'Cyclist', 'DartsPlayer', 'Fencer', 'GaelicGamesPlayer', 'GolfPlayer', 'GridironFootballPlayer', 'Gymnast', 'HandballPlayer', 'HighDiver', 'HorseRider', 'Jockey', 'LacrossePlayer', 'MartialArtist', 'MotorsportRacer', 'NationalCollegiateAthleticAssociationAthlete', 'NetballPlayer', 'PokerPlayer', 'Rower', 'RugbyPlayer', 'SnookerPlayer', 'SoccerPlayer', 'SquashPlayer', 'Surfer', 'Swimmer', 'TableTennisPlayer', 'TeamMember', 'TennisPlayer', 'VolleyballPlayer', 'WaterPoloPlayer', 'WinterSportPlayer', 'Wrestler', 'Cardinal', 'ChristianBishop', 'ChristianPatriarch', 'Pope', 'Priest', 'Saint', 'Vicar', 'AmericanFootballCoach', 'CollegeCoach', 'VolleyballCoach', 'Murderer', 'SportsTeamMember', 'Ambassador', 'Chancellor', 'Congressman', 'Deputy', 'Governor', 'Lieutenant', 'Mayor', 'MemberOfParliament', 'Minister', 'President', 'PrimeMinister', 'Senator', 'VicePresident', 'VicePrimeMinister', 'RadioHost', 'TelevisionHost', 'BritishRoyalty', 'Biologist', 'Entomologist', 'Medician', 'Professor', 'SoccerManager', 'Historian', 'MusicComposer', 'PlayWright', 'Poet', 'ScreenWriter', 'SongWriter', 'CyclingCompetition', 'FootballMatch', 'GrandPrix', 'InternationalFootballLeagueEvent', 'MixedMartialArtsEvent', 'NationalFootballLeagueEvent', 'Olympics', 'Race', 'Tournament', 'WrestlingEvent', 'ControlledDesignationOfOriginWine', 'RollerCoaster', 'WaterRide', 'Casino', 'Castle', 'Factory', 'HistoricBuilding', 'Hospital', 'Hotel', 'Museum', 'Prison', 'ReligiousBuilding', 'Restaurant', 'ShoppingMall', 'Skyscraper', 'Venue', 'Airport', 'Dam', 'Dike', 'LaunchPad', 'Lock', 'Port', 'PowerStation', 'RestArea', 'RouteOfTransportation', 'Station', 'Fort', 'Treadmill', 'Watermill', 'WindMotor', 'Windmill', 'GraveMonument', 'Memorial', 'CricketGround', 'GolfCourse', 'RaceTrack', 'SkiArea', 'Lighthouse', 'WaterTower', 'ArtificialSatellite', 'BrownDwarf', 'Globularswarm', 'Openswarm', 'Bay', 'Lake', 'Ocean', 'Sea', 'Stream', 'LunarCrater', 'HistoricalCountry', 'Atoll', 'AdministrativeRegion', 'HistoricalRegion', 'NaturalRegion', 'City', 'CityDistrict', 'HistoricalSettlement', 'Town', 'Village', 'OldTerritory', 'Amphibian', 'Arachnid', 'Bird', 'Crustacean', 'Fish', 'Insect', 'Mammal', 'Mollusca', 'Reptile', 'ClubMoss', 'Conifer', 'CultivatedVariety', 'Cycad', 'Fern', 'FloweringPlant', 'Ginkgo', 'Gnetophytes', 'GreenAlga', 'Moss', 'NationalFootballLeagueSeason', 'SupremeCourtOfTheUnitedStatesCase', 'MovingImage', 'StillImage', 'EurovisionSongContestEntry', 'Reference', 'Novel', 'ComicStrip', 'Manga', 'Manhua', 'Manhwa', 'AcademicJournal', 'Magazine', 'Newspaper', 'UndergroundJournal'], 5: ['Airline', 'BusCompany', 'NationalSoccerClub', 'AdultActor', 'VoiceActor', 'BackScene', 'ClassicalMusicArtist', 'Instrumentalist', 'MusicDirector', 'Singer', 'AmateurBoxer', 'AmericanFootballPlayer', 'CanadianFootballPlayer', 'MotorcycleRider', 'RacingDriver', 'SnookerChamp', 'BeachVolleyballPlayer', 'Biathlete', 'BobsleighAthlete', 'CrossCountrySkier', 'Curler', 'FigureSkater', 'IceHockeyPlayer', 'NordicCombined', 'Skater', 'Ski_jumper', 'Skier', 'SpeedSkater', 'SumoWrestler', 'Archbishop', 'SerialKiller', 'Baronet', 'OlympicEvent', 'CyclingRace', 'HorseRace', 'MotorRace', 'GolfTournament', 'SoccerTournament', 'TennisTournament', 'WomensTennisAssociationTournament', 'Church', 'Monastery', 'Mosque', 'Shrine', 'Synagogue', 'Temple', 'Cinema', 'Stadium', 'Theatre', 'NuclearPowerStation', 'Bridge', 'RailwayLine', 'RailwayTunnel', 'Road', 'RoadJunction', 'RoadTunnel', 'WaterwayTunnel', 'MetroStation', 'RailwayStation', 'RouteStop', 'TramStation', 'Racecourse', 'SkiResort', 'Canal', 'River', 'ClericalAdministrativeRegion', 'GovernmentalAdministrativeRegion', 'HistoricalAreaOfAuthority', 'Capital', 'CapitalOfRegion', 'Cat', 'Dog', 'Horse', 'Grape', 'LightNovel'], 6: ['Guitarist', 'MotocycleRacer', 'SpeedwayRider', 'DTMRacer', 'FormulaOneRacer', 'NascarDriver', 'RallyDriver', 'Deanery', 'Diocese', 'Parish', 'Arrondissement', 'Canton', 'Department', 'District', 'DistrictWaterBoard', 'MicroRegion', 'Municipality', 'Prefecture', 'Province', 'Regency', 'SubMunicipality'], 7: ['OverseasDepartment', 'HistoricalDistrict', 'FormerMunicipality', 'HistoricalProvince']}\n",
            "{1: [0, 8, 284, 285, 286, 297, 298, 301, 310, 311, 312, 313, 321, 322, 323, 324, 325, 326, 340, 341, 342, 343, 344, 345, 386, 387, 388, 395, 398, 399, 400, 401, 403, 405, 407, 426, 427, 428, 429, 432, 435, 608, 609, 610, 611, 612, 642, 645, 654, 655, 656, 657, 658, 670, 693, 699, 701], 2: [1, 4, 5, 9, 10, 11, 13, 20, 108, 287, 288, 289, 290, 291, 292, 293, 294, 295, 296, 299, 300, 302, 303, 306, 307, 308, 309, 314, 315, 316, 320, 327, 328, 330, 333, 334, 337, 338, 339, 346, 348, 350, 354, 355, 389, 394, 396, 397, 402, 404, 406, 408, 410, 411, 412, 413, 414, 418, 419, 420, 421, 422, 423, 424, 425, 430, 431, 433, 434, 436, 511, 524, 525, 526, 527, 528, 529, 531, 555, 556, 604, 605, 606, 607, 613, 614, 615, 643, 644, 646, 647, 659, 661, 662, 663, 664, 665, 666, 667, 668, 669, 671, 672, 673, 674, 679, 680, 681, 682, 683, 684, 685, 686, 687, 688, 690, 694, 697, 700, 702, 705, 708, 710, 712, 718, 719, 720, 730, 731, 733, 734, 735, 736, 737], 3: [2, 3, 6, 7, 12, 14, 16, 17, 18, 19, 21, 25, 36, 41, 42, 43, 45, 48, 49, 50, 51, 53, 54, 55, 57, 58, 63, 94, 106, 107, 109, 110, 111, 112, 131, 132, 201, 202, 203, 204, 213, 217, 220, 221, 222, 223, 224, 225, 226, 227, 228, 229, 230, 231, 232, 233, 234, 235, 236, 237, 239, 240, 241, 256, 257, 260, 261, 262, 263, 264, 265, 268, 273, 275, 276, 277, 304, 305, 317, 318, 319, 329, 331, 332, 335, 336, 347, 349, 351, 352, 353, 356, 357, 358, 359, 360, 361, 362, 363, 364, 365, 366, 367, 390, 391, 392, 409, 415, 416, 417, 437, 440, 441, 464, 487, 489, 494, 497, 498, 505, 506, 509, 510, 512, 513, 514, 515, 516, 517, 519, 521, 530, 532, 533, 534, 542, 543, 544, 546, 547, 548, 549, 550, 551, 552, 553, 554, 557, 558, 559, 560, 562, 563, 564, 566, 567, 592, 600, 601, 602, 616, 629, 630, 648, 649, 651, 652, 653, 660, 675, 676, 677, 678, 689, 691, 692, 695, 698, 703, 704, 706, 707, 709, 711, 713, 714, 717, 721, 722, 723, 724, 725, 726, 727, 728, 732, 738, 740, 741, 744, 749, 750, 751, 752, 753, 758, 759, 760, 761, 762, 763], 4: [15, 22, 23, 24, 26, 27, 28, 29, 30, 33, 34, 35, 37, 38, 39, 40, 44, 46, 47, 52, 56, 59, 60, 61, 64, 65, 66, 67, 68, 69, 70, 71, 72, 73, 74, 75, 76, 77, 78, 79, 80, 81, 82, 83, 84, 85, 86, 87, 88, 89, 90, 91, 92, 93, 95, 96, 97, 98, 99, 100, 101, 102, 103, 104, 105, 113, 116, 117, 118, 119, 120, 121, 128, 129, 130, 133, 134, 135, 136, 137, 138, 139, 140, 142, 143, 144, 145, 146, 147, 148, 149, 150, 151, 154, 155, 156, 157, 158, 159, 160, 161, 170, 171, 172, 173, 174, 175, 177, 178, 179, 180, 181, 182, 183, 184, 186, 187, 199, 205, 206, 208, 209, 210, 211, 212, 214, 215, 216, 218, 238, 242, 243, 244, 245, 246, 247, 248, 249, 250, 251, 252, 253, 254, 255, 258, 259, 266, 269, 270, 271, 272, 274, 278, 279, 280, 281, 282, 283, 368, 369, 370, 371, 372, 373, 374, 376, 380, 385, 393, 438, 439, 442, 443, 444, 445, 446, 447, 448, 449, 450, 457, 458, 459, 460, 465, 466, 467, 468, 469, 470, 471, 473, 474, 482, 488, 490, 491, 492, 493, 495, 496, 499, 500, 501, 503, 507, 508, 518, 520, 522, 523, 535, 536, 537, 538, 539, 545, 561, 565, 568, 590, 591, 593, 596, 597, 598, 599, 603, 617, 618, 619, 620, 621, 622, 623, 627, 628, 631, 632, 633, 634, 635, 636, 638, 639, 640, 641, 650, 696, 715, 716, 729, 739, 742, 745, 746, 747, 748, 754, 755, 756, 757], 5: [31, 32, 62, 114, 115, 122, 123, 124, 126, 127, 141, 152, 153, 162, 165, 176, 185, 188, 189, 190, 191, 192, 193, 194, 195, 196, 197, 198, 200, 207, 219, 267, 375, 377, 378, 379, 381, 382, 383, 384, 451, 452, 453, 454, 455, 456, 461, 462, 463, 472, 475, 476, 477, 478, 479, 480, 481, 483, 484, 485, 486, 502, 504, 540, 541, 569, 573, 589, 594, 595, 624, 625, 626, 637, 743], 6: [125, 163, 164, 166, 167, 168, 169, 570, 571, 572, 574, 575, 576, 578, 580, 581, 582, 584, 585, 587, 588], 7: [577, 579, 583, 586]}\n",
            "\n",
            "{'Game': 'Activity', 'BoardGame': 'Game', 'CardGame': 'Game', 'Sales': 'Activity', 'Sport': 'Activity', 'Athletics': 'Sport', 'TeamSport': 'Sport', 'Deity': 'Agent', 'Employer': 'Agent', 'Family': 'Agent', 'NobleFamily': 'Family', 'FictionalCharacter': 'Agent', 'ComicsCharacter': 'FictionalCharacter', 'AnimangaCharacter': 'ComicsCharacter', 'DisneyCharacter': 'FictionalCharacter', 'MythologicalFigure': 'FictionalCharacter', 'NarutoCharacter': 'FictionalCharacter', 'SoapCharacter': 'FictionalCharacter', 'Organisation': 'Agent', 'Broadcaster': 'Organisation', 'BroadcastNetwork': 'Broadcaster', 'RadioStation': 'Broadcaster', 'TelevisionStation': 'Broadcaster', 'Company': 'Organisation', 'Bank': 'Company', 'Brewery': 'Company', 'Caterer': 'Company', 'LawFirm': 'Company', 'PublicTransitSystem': 'Company', 'Airline': 'PublicTransitSystem', 'BusCompany': 'PublicTransitSystem', 'Publisher': 'Company', 'RecordLabel': 'Company', 'Winery': 'Company', 'EducationalInstitution': 'Organisation', 'College': 'EducationalInstitution', 'Library': 'EducationalInstitution', 'School': 'EducationalInstitution', 'University': 'EducationalInstitution', 'EmployersOrganisation': 'Organisation', 'GeopoliticalOrganisation': 'Organisation', 'GovernmentAgency': 'Organisation', 'GovernmentCabinet': 'GovernmentAgency', 'Group': 'Organisation', 'Band': 'Group', 'ComedyGroup': 'Group', 'InternationalOrganisation': 'Organisation', 'Legislature': 'Organisation', 'MilitaryUnit': 'Organisation', 'Non-ProfitOrganisation': 'Organisation', 'RecordOffice': 'Non-ProfitOrganisation', 'Parliament': 'Organisation', 'PoliticalParty': 'Organisation', 'ReligiousOrganisation': 'Organisation', 'ClericalOrder': 'ReligiousOrganisation', 'SambaSchool': 'Organisation', 'SportsClub': 'Organisation', 'HockeyClub': 'SportsClub', 'RugbyClub': 'SportsClub', 'SoccerClub': 'SportsClub', 'NationalSoccerClub': 'SoccerClub', 'SportsLeague': 'Organisation', 'AmericanFootballLeague': 'SportsLeague', 'AustralianFootballLeague': 'SportsLeague', 'AutoRacingLeague': 'SportsLeague', 'BaseballLeague': 'SportsLeague', 'BasketballLeague': 'SportsLeague', 'BowlingLeague': 'SportsLeague', 'BoxingLeague': 'SportsLeague', 'CanadianFootballLeague': 'SportsLeague', 'CricketLeague': 'SportsLeague', 'CurlingLeague': 'SportsLeague', 'CyclingLeague': 'SportsLeague', 'FieldHockeyLeague': 'SportsLeague', 'FormulaOneRacing': 'SportsLeague', 'GolfLeague': 'SportsLeague', 'HandballLeague': 'SportsLeague', 'IceHockeyLeague': 'SportsLeague', 'InlineHockeyLeague': 'SportsLeague', 'LacrosseLeague': 'SportsLeague', 'MixedMartialArtsLeague': 'SportsLeague', 'MotorcycleRacingLeague': 'SportsLeague', 'PaintballLeague': 'SportsLeague', 'PoloLeague': 'SportsLeague', 'RadioControlledRacingLeague': 'SportsLeague', 'RugbyLeague': 'SportsLeague', 'SoccerLeague': 'SportsLeague', 'SoftballLeague': 'SportsLeague', 'SpeedwayLeague': 'SportsLeague', 'TennisLeague': 'SportsLeague', 'VideogamesLeague': 'SportsLeague', 'VolleyballLeague': 'SportsLeague', 'SportsTeam': 'Organisation', 'AmericanFootballTeam': 'SportsTeam', 'AustralianFootballTeam': 'SportsTeam', 'BaseballTeam': 'SportsTeam', 'BasketballTeam': 'SportsTeam', 'CanadianFootballTeam': 'SportsTeam', 'CricketTeam': 'SportsTeam', 'CyclingTeam': 'SportsTeam', 'FormulaOneTeam': 'SportsTeam', 'HandballTeam': 'SportsTeam', 'HockeyTeam': 'SportsTeam', 'SpeedwayTeam': 'SportsTeam', 'TermOfOffice': 'Organisation', 'TradeUnion': 'Organisation', 'Person': 'Agent', 'Archeologist': 'Person', 'Architect': 'Person', 'Aristocrat': 'Person', 'Artist': 'Person', 'Actor': 'Artist', 'AdultActor': 'Actor', 'VoiceActor': 'Actor', 'Comedian': 'Artist', 'ComicsCreator': 'Artist', 'Dancer': 'Artist', 'FashionDesigner': 'Artist', 'Humorist': 'Artist', 'MusicalArtist': 'Artist', 'BackScene': 'MusicalArtist', 'ClassicalMusicArtist': 'MusicalArtist', 'Instrumentalist': 'MusicalArtist', 'Guitarist': 'Instrumentalist', 'MusicDirector': 'MusicalArtist', 'Singer': 'MusicalArtist', 'Painter': 'Artist', 'Photographer': 'Artist', 'Sculptor': 'Artist', 'Astronaut': 'Person', 'Athlete': 'Person', 'ArcherPlayer': 'Athlete', 'AthleticsPlayer': 'Athlete', 'AustralianRulesFootballPlayer': 'Athlete', 'BadmintonPlayer': 'Athlete', 'BaseballPlayer': 'Athlete', 'BasketballPlayer': 'Athlete', 'Bodybuilder': 'Athlete', 'Boxer': 'Athlete', 'AmateurBoxer': 'Boxer', 'BullFighter': 'Athlete', 'Canoeist': 'Athlete', 'ChessPlayer': 'Athlete', 'Cricketer': 'Athlete', 'Cyclist': 'Athlete', 'DartsPlayer': 'Athlete', 'Fencer': 'Athlete', 'GaelicGamesPlayer': 'Athlete', 'GolfPlayer': 'Athlete', 'GridironFootballPlayer': 'Athlete', 'AmericanFootballPlayer': 'GridironFootballPlayer', 'CanadianFootballPlayer': 'GridironFootballPlayer', 'Gymnast': 'Athlete', 'HandballPlayer': 'Athlete', 'HighDiver': 'Athlete', 'HorseRider': 'Athlete', 'Jockey': 'Athlete', 'LacrossePlayer': 'Athlete', 'MartialArtist': 'Athlete', 'MotorsportRacer': 'Athlete', 'MotorcycleRider': 'MotorsportRacer', 'MotocycleRacer': 'MotorcycleRider', 'SpeedwayRider': 'MotorcycleRider', 'RacingDriver': 'MotorsportRacer', 'DTMRacer': 'RacingDriver', 'FormulaOneRacer': 'RacingDriver', 'NascarDriver': 'RacingDriver', 'RallyDriver': 'RacingDriver', 'NationalCollegiateAthleticAssociationAthlete': 'Athlete', 'NetballPlayer': 'Athlete', 'PokerPlayer': 'Athlete', 'Rower': 'Athlete', 'RugbyPlayer': 'Athlete', 'SnookerPlayer': 'Athlete', 'SnookerChamp': 'SnookerPlayer', 'SoccerPlayer': 'Athlete', 'SquashPlayer': 'Athlete', 'Surfer': 'Athlete', 'Swimmer': 'Athlete', 'TableTennisPlayer': 'Athlete', 'TeamMember': 'Athlete', 'TennisPlayer': 'Athlete', 'VolleyballPlayer': 'Athlete', 'BeachVolleyballPlayer': 'VolleyballPlayer', 'WaterPoloPlayer': 'Athlete', 'WinterSportPlayer': 'Athlete', 'Biathlete': 'WinterSportPlayer', 'BobsleighAthlete': 'WinterSportPlayer', 'CrossCountrySkier': 'WinterSportPlayer', 'Curler': 'WinterSportPlayer', 'FigureSkater': 'WinterSportPlayer', 'IceHockeyPlayer': 'WinterSportPlayer', 'NordicCombined': 'WinterSportPlayer', 'Skater': 'WinterSportPlayer', 'Ski_jumper': 'WinterSportPlayer', 'Skier': 'WinterSportPlayer', 'SpeedSkater': 'WinterSportPlayer', 'Wrestler': 'Athlete', 'SumoWrestler': 'Wrestler', 'BeautyQueen': 'Person', 'BusinessPerson': 'Person', 'Chef': 'Person', 'Cleric': 'Person', 'Cardinal': 'Cleric', 'ChristianBishop': 'Cleric', 'Archbishop': 'ChristianBishop', 'ChristianPatriarch': 'Cleric', 'Pope': 'Cleric', 'Priest': 'Cleric', 'Saint': 'Cleric', 'Vicar': 'Cleric', 'Coach': 'Person', 'AmericanFootballCoach': 'Coach', 'CollegeCoach': 'Coach', 'VolleyballCoach': 'Coach', 'Criminal': 'Person', 'Murderer': 'Criminal', 'SerialKiller': 'Murderer', 'DBpedian': 'Person', 'Economist': 'Person', 'Egyptologist': 'Person', 'Engineer': 'Person', 'Farmer': 'Person', 'HorseTrainer': 'Person', 'Journalist': 'Person', 'Judge': 'Person', 'Lawyer': 'Person', 'Linguist': 'Person', 'MemberResistanceMovement': 'Person', 'MilitaryPerson': 'Person', 'Model': 'Person', 'Monarch': 'Person', 'MovieDirector': 'Person', 'Noble': 'Person', 'OfficeHolder': 'Person', 'OrganisationMember': 'Person', 'SportsTeamMember': 'OrganisationMember', 'Philosopher': 'Person', 'PlayboyPlaymate': 'Person', 'Politician': 'Person', 'Ambassador': 'Politician', 'Chancellor': 'Politician', 'Congressman': 'Politician', 'Deputy': 'Politician', 'Governor': 'Politician', 'Lieutenant': 'Politician', 'Mayor': 'Politician', 'MemberOfParliament': 'Politician', 'Minister': 'Politician', 'President': 'Politician', 'PrimeMinister': 'Politician', 'Senator': 'Politician', 'VicePresident': 'Politician', 'VicePrimeMinister': 'Politician', 'PoliticianSpouse': 'Person', 'Presenter': 'Person', 'RadioHost': 'Presenter', 'TelevisionHost': 'Presenter', 'Producer': 'Person', 'Psychologist': 'Person', 'Referee': 'Person', 'Religious': 'Person', 'RomanEmperor': 'Person', 'Royalty': 'Person', 'BritishRoyalty': 'Royalty', 'Baronet': 'BritishRoyalty', 'Scientist': 'Person', 'Biologist': 'Scientist', 'Entomologist': 'Scientist', 'Medician': 'Scientist', 'Professor': 'Scientist', 'SportsManager': 'Person', 'SoccerManager': 'SportsManager', 'TelevisionDirector': 'Person', 'TheatreDirector': 'Person', 'Writer': 'Person', 'Historian': 'Writer', 'MusicComposer': 'Writer', 'PlayWright': 'Writer', 'Poet': 'Writer', 'ScreenWriter': 'Writer', 'SongWriter': 'Writer', 'Artery': 'AnatomicalStructure', 'BloodVessel': 'AnatomicalStructure', 'Bone': 'AnatomicalStructure', 'Brain': 'AnatomicalStructure', 'Embryology': 'AnatomicalStructure', 'Ligament': 'AnatomicalStructure', 'Lymph': 'AnatomicalStructure', 'Muscle': 'AnatomicalStructure', 'Nerve': 'AnatomicalStructure', 'Vein': 'AnatomicalStructure', 'Decoration': 'Award', 'NobelPrize': 'Award', 'Enzyme': 'Biomolecule', 'Gene': 'Biomolecule', 'HumanGene': 'Gene', 'MouseGene': 'Gene', 'Hormone': 'Biomolecule', 'Lipid': 'Biomolecule', 'Polysaccharide': 'Biomolecule', 'Protein': 'Biomolecule', 'ChemicalCompound': 'ChemicalSubstance', 'ChemicalElement': 'ChemicalSubstance', 'Drug': 'ChemicalSubstance', 'CombinationDrug': 'Drug', 'MonoclonalAntibody': 'Drug', 'Vaccine': 'Drug', 'Mineral': 'ChemicalSubstance', 'Battery': 'Device', 'Camera': 'Device', 'DigitalCamera': 'Camera', 'Engine': 'Device', 'AutomobileEngine': 'Engine', 'RocketEngine': 'Engine', 'InformationAppliance': 'Device', 'Instrument': 'Device', 'Guitar': 'Instrument', 'Organ': 'Instrument', 'MobilePhone': 'Device', 'Robot': 'Device', 'Weapon': 'Device', 'Competition': 'Event', 'Contest': 'Competition', 'LifeCycleEvent': 'Event', 'PersonalEvent': 'LifeCycleEvent', 'NaturalEvent': 'Event', 'Earthquake': 'NaturalEvent', 'SolarEclipse': 'NaturalEvent', 'StormSurge': 'NaturalEvent', 'PenaltyShootOut': 'Event', 'SocietalEvent': 'Event', 'AcademicConference': 'SocietalEvent', 'Attack': 'SocietalEvent', 'Convention': 'SocietalEvent', 'Election': 'SocietalEvent', 'FilmFestival': 'SocietalEvent', 'HistoricalEvent': 'SocietalEvent', 'Meeting': 'SocietalEvent', 'MilitaryConflict': 'SocietalEvent', 'MusicFestival': 'SocietalEvent', 'Rebellion': 'SocietalEvent', 'SpaceMission': 'SocietalEvent', 'SportsEvent': 'SocietalEvent', 'CyclingCompetition': 'SportsEvent', 'FootballMatch': 'SportsEvent', 'GrandPrix': 'SportsEvent', 'InternationalFootballLeagueEvent': 'SportsEvent', 'MixedMartialArtsEvent': 'SportsEvent', 'NationalFootballLeagueEvent': 'SportsEvent', 'Olympics': 'SportsEvent', 'OlympicEvent': 'Olympics', 'Race': 'SportsEvent', 'CyclingRace': 'Race', 'HorseRace': 'Race', 'MotorRace': 'Race', 'Tournament': 'SportsEvent', 'GolfTournament': 'Tournament', 'SoccerTournament': 'Tournament', 'TennisTournament': 'Tournament', 'WomensTennisAssociationTournament': 'Tournament', 'WrestlingEvent': 'SportsEvent', 'Beverage': 'Food', 'Beer': 'Beverage', 'Vodka': 'Beverage', 'Wine': 'Beverage', 'ControlledDesignationOfOriginWine': 'Wine', 'Cheese': 'Food', 'HumanGeneLocation': 'GeneLocation', 'MouseGeneLocation': 'GeneLocation', 'TopLevelDomain': 'Identifier', 'ProgrammingLanguage': 'Language', 'TrackList': 'List', 'Aircraft': 'MeanOfTransportation', 'MilitaryAircraft': 'Aircraft', 'Automobile': 'MeanOfTransportation', 'Locomotive': 'MeanOfTransportation', 'MilitaryVehicle': 'MeanOfTransportation', 'Motorcycle': 'MeanOfTransportation', 'On-SiteTransportation': 'MeanOfTransportation', 'ConveyorSystem': 'On-SiteTransportation', 'Escalator': 'On-SiteTransportation', 'MovingWalkway': 'On-SiteTransportation', 'Rocket': 'MeanOfTransportation', 'Ship': 'MeanOfTransportation', 'SpaceShuttle': 'MeanOfTransportation', 'SpaceStation': 'MeanOfTransportation', 'Spacecraft': 'MeanOfTransportation', 'Train': 'MeanOfTransportation', 'TrainCarriage': 'MeanOfTransportation', 'Tram': 'MeanOfTransportation', 'GivenName': 'Name', 'Surname': 'Name', 'PoliticalFunction': 'PersonFunction', 'Profession': 'PersonFunction', 'ArchitecturalStructure': 'Place', 'AmusementParkAttraction': 'ArchitecturalStructure', 'RollerCoaster': 'AmusementParkAttraction', 'WaterRide': 'AmusementParkAttraction', 'Arena': 'ArchitecturalStructure', 'Building': 'ArchitecturalStructure', 'Casino': 'Building', 'Castle': 'Building', 'Factory': 'Building', 'HistoricBuilding': 'Building', 'Hospital': 'Building', 'Hotel': 'Building', 'Museum': 'Building', 'Prison': 'Building', 'ReligiousBuilding': 'Building', 'Church': 'ReligiousBuilding', 'Monastery': 'ReligiousBuilding', 'Mosque': 'ReligiousBuilding', 'Shrine': 'ReligiousBuilding', 'Synagogue': 'ReligiousBuilding', 'Temple': 'ReligiousBuilding', 'Restaurant': 'Building', 'ShoppingMall': 'Building', 'Skyscraper': 'Building', 'Venue': 'Building', 'Cinema': 'Venue', 'Stadium': 'Venue', 'Theatre': 'Venue', 'Infrastructure': 'ArchitecturalStructure', 'Airport': 'Infrastructure', 'Dam': 'Infrastructure', 'Dike': 'Infrastructure', 'LaunchPad': 'Infrastructure', 'Lock': 'Infrastructure', 'Port': 'Infrastructure', 'PowerStation': 'Infrastructure', 'NuclearPowerStation': 'PowerStation', 'RestArea': 'Infrastructure', 'RouteOfTransportation': 'Infrastructure', 'Bridge': 'RouteOfTransportation', 'RailwayLine': 'RouteOfTransportation', 'RailwayTunnel': 'RouteOfTransportation', 'Road': 'RouteOfTransportation', 'RoadJunction': 'RouteOfTransportation', 'RoadTunnel': 'RouteOfTransportation', 'WaterwayTunnel': 'RouteOfTransportation', 'Station': 'Infrastructure', 'MetroStation': 'Station', 'RailwayStation': 'Station', 'RouteStop': 'Station', 'TramStation': 'Station', 'MilitaryStructure': 'ArchitecturalStructure', 'Fort': 'MilitaryStructure', 'Mill': 'ArchitecturalStructure', 'Treadmill': 'Mill', 'Watermill': 'Mill', 'WindMotor': 'Mill', 'Windmill': 'Mill', 'Monument': 'ArchitecturalStructure', 'GraveMonument': 'Monument', 'Memorial': 'Monument', 'Pyramid': 'ArchitecturalStructure', 'SportFacility': 'ArchitecturalStructure', 'CricketGround': 'SportFacility', 'GolfCourse': 'SportFacility', 'RaceTrack': 'SportFacility', 'Racecourse': 'RaceTrack', 'SkiArea': 'SportFacility', 'SkiResort': 'SkiArea', 'Square': 'ArchitecturalStructure', 'Tower': 'ArchitecturalStructure', 'Lighthouse': 'Tower', 'WaterTower': 'Tower', 'Tunnel': 'ArchitecturalStructure', 'Zoo': 'ArchitecturalStructure', 'CelestialBody': 'Place', 'Asteroid': 'CelestialBody', 'Constellation': 'CelestialBody', 'Galaxy': 'CelestialBody', 'Nebula': 'CelestialBody', 'Planet': 'CelestialBody', 'Satellite': 'CelestialBody', 'ArtificialSatellite': 'Satellite', 'Star': 'CelestialBody', 'BrownDwarf': 'Star', 'Swarm': 'CelestialBody', 'Globularswarm': 'Swarm', 'Openswarm': 'Swarm', 'Cemetery': 'Place', 'ConcentrationCamp': 'Place', 'CountrySeat': 'Place', 'Garden': 'Place', 'HistoricPlace': 'Place', 'Mine': 'Place', 'CoalPit': 'Mine', 'NaturalPlace': 'Place', 'Archipelago': 'NaturalPlace', 'Beach': 'NaturalPlace', 'BodyOfWater': 'NaturalPlace', 'Bay': 'BodyOfWater', 'Lake': 'BodyOfWater', 'Ocean': 'BodyOfWater', 'Sea': 'BodyOfWater', 'Stream': 'BodyOfWater', 'Canal': 'Stream', 'River': 'Stream', 'Cape': 'NaturalPlace', 'Cave': 'NaturalPlace', 'Crater': 'NaturalPlace', 'LunarCrater': 'Crater', 'Desert': 'NaturalPlace', 'Forest': 'NaturalPlace', 'Glacier': 'NaturalPlace', 'HotSpring': 'NaturalPlace', 'Mountain': 'NaturalPlace', 'MountainPass': 'NaturalPlace', 'MountainRange': 'NaturalPlace', 'Valley': 'NaturalPlace', 'Volcano': 'NaturalPlace', 'Park': 'Place', 'PopulatedPlace': 'Place', 'Agglomeration': 'PopulatedPlace', 'Community': 'PopulatedPlace', 'Continent': 'PopulatedPlace', 'Country': 'PopulatedPlace', 'HistoricalCountry': 'Country', 'GatedCommunity': 'PopulatedPlace', 'Intercommunality': 'PopulatedPlace', 'Island': 'PopulatedPlace', 'Atoll': 'Island', 'Locality': 'PopulatedPlace', 'Region': 'PopulatedPlace', 'AdministrativeRegion': 'Region', 'ClericalAdministrativeRegion': 'AdministrativeRegion', 'Deanery': 'ClericalAdministrativeRegion', 'Diocese': 'ClericalAdministrativeRegion', 'Parish': 'ClericalAdministrativeRegion', 'GovernmentalAdministrativeRegion': 'AdministrativeRegion', 'Arrondissement': 'GovernmentalAdministrativeRegion', 'Canton': 'GovernmentalAdministrativeRegion', 'Department': 'GovernmentalAdministrativeRegion', 'OverseasDepartment': 'Department', 'District': 'GovernmentalAdministrativeRegion', 'HistoricalDistrict': 'District', 'DistrictWaterBoard': 'GovernmentalAdministrativeRegion', 'MicroRegion': 'GovernmentalAdministrativeRegion', 'Municipality': 'GovernmentalAdministrativeRegion', 'FormerMunicipality': 'Municipality', 'Prefecture': 'GovernmentalAdministrativeRegion', 'Province': 'GovernmentalAdministrativeRegion', 'HistoricalProvince': 'Province', 'Regency': 'GovernmentalAdministrativeRegion', 'SubMunicipality': 'GovernmentalAdministrativeRegion', 'HistoricalAreaOfAuthority': 'AdministrativeRegion', 'HistoricalRegion': 'Region', 'NaturalRegion': 'Region', 'Settlement': 'PopulatedPlace', 'City': 'Settlement', 'Capital': 'City', 'CapitalOfRegion': 'City', 'CityDistrict': 'Settlement', 'HistoricalSettlement': 'Settlement', 'Town': 'Settlement', 'Village': 'Settlement', 'State': 'PopulatedPlace', 'Street': 'PopulatedPlace', 'Territory': 'PopulatedPlace', 'OldTerritory': 'Territory', 'ProtectedArea': 'Place', 'SiteOfSpecialScientificInterest': 'Place', 'WineRegion': 'Place', 'WorldHeritageSite': 'Place', 'Archaea': 'Species', 'Bacteria': 'Species', 'Eukaryote': 'Species', 'Animal': 'Eukaryote', 'Amphibian': 'Animal', 'Arachnid': 'Animal', 'Bird': 'Animal', 'Crustacean': 'Animal', 'Fish': 'Animal', 'Insect': 'Animal', 'Mammal': 'Animal', 'Cat': 'Mammal', 'Dog': 'Mammal', 'Horse': 'Mammal', 'Mollusca': 'Animal', 'Reptile': 'Animal', 'Fungus': 'Eukaryote', 'Plant': 'Eukaryote', 'ClubMoss': 'Plant', 'Conifer': 'Plant', 'CultivatedVariety': 'Plant', 'Cycad': 'Plant', 'Fern': 'Plant', 'FloweringPlant': 'Plant', 'Grape': 'FloweringPlant', 'Ginkgo': 'Plant', 'Gnetophytes': 'Plant', 'GreenAlga': 'Plant', 'Moss': 'Plant', 'OlympicResult': 'SportCompetitionResult', 'SnookerWorldRanking': 'SportCompetitionResult', 'MotorsportSeason': 'SportsSeason', 'SportsTeamSeason': 'SportsSeason', 'BaseballSeason': 'SportsTeamSeason', 'FootballLeagueSeason': 'SportsTeamSeason', 'NationalFootballLeagueSeason': 'FootballLeagueSeason', 'NCAATeamSeason': 'SportsTeamSeason', 'SoccerClubSeason': 'SportsTeamSeason', 'SoccerLeagueSeason': 'SportsTeamSeason', 'CareerStation': 'TimePeriod', 'MilitaryService': 'CareerStation', 'GeologicalPeriod': 'TimePeriod', 'HistoricalPeriod': 'TimePeriod', 'PeriodOfArtisticStyle': 'TimePeriod', 'PrehistoricalPeriod': 'TimePeriod', 'ProtohistoricalPeriod': 'TimePeriod', 'Reign': 'TimePeriod', 'Tenure': 'TimePeriod', 'Year': 'TimePeriod', 'YearInSpaceflight': 'TimePeriod', 'AcademicSubject': 'TopicalConcept', 'CardinalDirection': 'TopicalConcept', 'Fashion': 'TopicalConcept', 'Genre': 'TopicalConcept', 'ArtisticGenre': 'Genre', 'LiteraryGenre': 'Genre', 'MovieGenre': 'Genre', 'MusicGenre': 'Genre', 'Ideology': 'TopicalConcept', 'MathematicalConcept': 'TopicalConcept', 'PhilosophicalConcept': 'TopicalConcept', 'PoliticalConcept': 'TopicalConcept', 'ScientificConcept': 'TopicalConcept', 'Standard': 'TopicalConcept', 'SystemOfLaw': 'TopicalConcept', 'Tax': 'TopicalConcept', 'Taxon': 'TopicalConcept', 'TheologicalConcept': 'TopicalConcept', 'ChristianDoctrine': 'TheologicalConcept', 'Type': 'TopicalConcept', 'DocumentType': 'Type', 'GovernmentType': 'Type', 'Case': 'UnitOfWork', 'LegalCase': 'Case', 'SupremeCourtOfTheUnitedStatesCase': 'LegalCase', 'Project': 'UnitOfWork', 'ResearchProject': 'Project', 'WikimediaTemplate': 'Unknown', 'Artwork': 'Work', 'Painting': 'Artwork', 'Sculpture': 'Artwork', 'Cartoon': 'Work', 'Anime': 'Cartoon', 'HollywoodCartoon': 'Cartoon', 'CollectionOfValuables': 'Work', 'Archive': 'CollectionOfValuables', 'Database': 'Work', 'BiologicalDatabase': 'Database', 'Document': 'Work', 'File': 'Document', 'Image': 'Document', 'MovingImage': 'Image', 'StillImage': 'Image', 'Sound': 'Document', 'Film': 'Work', 'LineOfFashion': 'Work', 'MusicalWork': 'Work', 'Album': 'MusicalWork', 'ArtistDiscography': 'MusicalWork', 'ClassicalMusicComposition': 'MusicalWork', 'Musical': 'MusicalWork', 'NationalAnthem': 'MusicalWork', 'Opera': 'MusicalWork', 'Single': 'MusicalWork', 'Song': 'MusicalWork', 'EurovisionSongContestEntry': 'Song', 'RadioProgram': 'Work', 'Software': 'Work', 'VideoGame': 'Software', 'TelevisionEpisode': 'Work', 'TelevisionSeason': 'Work', 'TelevisionShow': 'Work', 'Website': 'Work', 'WrittenWork': 'Work', 'Annotation': 'WrittenWork', 'Reference': 'Annotation', 'Article': 'WrittenWork', 'Book': 'WrittenWork', 'Novel': 'Book', 'LightNovel': 'Novel', 'Comic': 'WrittenWork', 'ComicStrip': 'Comic', 'Manga': 'Comic', 'Manhua': 'Comic', 'Manhwa': 'Comic', 'Drama': 'WrittenWork', 'Law': 'WrittenWork', 'Letter': 'WrittenWork', 'MultiVolumePublication': 'WrittenWork', 'PeriodicalLiterature': 'WrittenWork', 'AcademicJournal': 'PeriodicalLiterature', 'Magazine': 'PeriodicalLiterature', 'Newspaper': 'PeriodicalLiterature', 'UndergroundJournal': 'PeriodicalLiterature', 'Play': 'WrittenWork', 'Poem': 'WrittenWork', 'Quote': 'WrittenWork', 'Resume': 'WrittenWork', 'StatedResolution': 'WrittenWork', 'Treaty': 'WrittenWork'}\n",
            "{1: 0, 2: 1, 3: 1, 4: 0, 5: 0, 6: 5, 7: 5, 9: 8, 10: 8, 11: 8, 12: 11, 13: 8, 14: 13, 15: 14, 16: 13, 17: 13, 18: 13, 19: 13, 20: 8, 21: 20, 22: 21, 23: 21, 24: 21, 25: 20, 26: 25, 27: 25, 28: 25, 29: 25, 30: 25, 31: 30, 32: 30, 33: 25, 34: 25, 35: 25, 36: 20, 37: 36, 38: 36, 39: 36, 40: 36, 41: 20, 42: 20, 43: 20, 44: 43, 45: 20, 46: 45, 47: 45, 48: 20, 49: 20, 50: 20, 51: 20, 52: 51, 53: 20, 54: 20, 55: 20, 56: 55, 57: 20, 58: 20, 59: 58, 60: 58, 61: 58, 62: 61, 63: 20, 64: 63, 65: 63, 66: 63, 67: 63, 68: 63, 69: 63, 70: 63, 71: 63, 72: 63, 73: 63, 74: 63, 75: 63, 76: 63, 77: 63, 78: 63, 79: 63, 80: 63, 81: 63, 82: 63, 83: 63, 84: 63, 85: 63, 86: 63, 87: 63, 88: 63, 89: 63, 90: 63, 91: 63, 92: 63, 93: 63, 94: 20, 95: 94, 96: 94, 97: 94, 98: 94, 99: 94, 100: 94, 101: 94, 102: 94, 103: 94, 104: 94, 105: 94, 106: 20, 107: 20, 108: 8, 109: 108, 110: 108, 111: 108, 112: 108, 113: 112, 114: 113, 115: 113, 116: 112, 117: 112, 118: 112, 119: 112, 120: 112, 121: 112, 122: 121, 123: 121, 124: 121, 125: 124, 126: 121, 127: 121, 128: 112, 129: 112, 130: 112, 131: 108, 132: 108, 133: 132, 134: 132, 135: 132, 136: 132, 137: 132, 138: 132, 139: 132, 140: 132, 141: 140, 142: 132, 143: 132, 144: 132, 145: 132, 146: 132, 147: 132, 148: 132, 149: 132, 150: 132, 151: 132, 152: 151, 153: 151, 154: 132, 155: 132, 156: 132, 157: 132, 158: 132, 159: 132, 160: 132, 161: 132, 162: 161, 163: 162, 164: 162, 165: 161, 166: 165, 167: 165, 168: 165, 169: 165, 170: 132, 171: 132, 172: 132, 173: 132, 174: 132, 175: 132, 176: 175, 177: 132, 178: 132, 179: 132, 180: 132, 181: 132, 182: 132, 183: 132, 184: 132, 185: 184, 186: 132, 187: 132, 188: 187, 189: 187, 190: 187, 191: 187, 192: 187, 193: 187, 194: 187, 195: 187, 196: 187, 197: 187, 198: 187, 199: 132, 200: 199, 201: 108, 202: 108, 203: 108, 204: 108, 205: 204, 206: 204, 207: 206, 208: 204, 209: 204, 210: 204, 211: 204, 212: 204, 213: 108, 214: 213, 215: 213, 216: 213, 217: 108, 218: 217, 219: 218, 220: 108, 221: 108, 222: 108, 223: 108, 224: 108, 225: 108, 226: 108, 227: 108, 228: 108, 229: 108, 230: 108, 231: 108, 232: 108, 233: 108, 234: 108, 235: 108, 236: 108, 237: 108, 238: 237, 239: 108, 240: 108, 241: 108, 242: 241, 243: 241, 244: 241, 245: 241, 246: 241, 247: 241, 248: 241, 249: 241, 250: 241, 251: 241, 252: 241, 253: 241, 254: 241, 255: 241, 256: 108, 257: 108, 258: 257, 259: 257, 260: 108, 261: 108, 262: 108, 263: 108, 264: 108, 265: 108, 266: 265, 267: 266, 268: 108, 269: 268, 270: 268, 271: 268, 272: 268, 273: 108, 274: 273, 275: 108, 276: 108, 277: 108, 278: 277, 279: 277, 280: 277, 281: 277, 282: 277, 283: 277, 287: 286, 288: 286, 289: 286, 290: 286, 291: 286, 292: 286, 293: 286, 294: 286, 295: 286, 296: 286, 299: 298, 300: 298, 302: 301, 303: 301, 304: 303, 305: 303, 306: 301, 307: 301, 308: 301, 309: 301, 314: 313, 315: 313, 316: 313, 317: 316, 318: 316, 319: 316, 320: 313, 327: 326, 328: 326, 329: 328, 330: 326, 331: 330, 332: 330, 333: 326, 334: 326, 335: 334, 336: 334, 337: 326, 338: 326, 339: 326, 346: 345, 347: 346, 348: 345, 349: 348, 350: 345, 351: 350, 352: 350, 353: 350, 354: 345, 355: 345, 356: 355, 357: 355, 358: 355, 359: 355, 360: 355, 361: 355, 362: 355, 363: 355, 364: 355, 365: 355, 366: 355, 367: 355, 368: 367, 369: 367, 370: 367, 371: 367, 372: 367, 373: 367, 374: 367, 375: 374, 376: 367, 377: 376, 378: 376, 379: 376, 380: 367, 381: 380, 382: 380, 383: 380, 384: 380, 385: 367, 389: 388, 390: 389, 391: 389, 392: 389, 393: 392, 394: 388, 396: 395, 397: 395, 402: 401, 404: 403, 406: 405, 408: 407, 409: 408, 410: 407, 411: 407, 412: 407, 413: 407, 414: 407, 415: 414, 416: 414, 417: 414, 418: 407, 419: 407, 420: 407, 421: 407, 422: 407, 423: 407, 424: 407, 425: 407, 430: 429, 431: 429, 433: 432, 434: 432, 436: 435, 437: 436, 438: 437, 439: 437, 440: 436, 441: 436, 442: 441, 443: 441, 444: 441, 445: 441, 446: 441, 447: 441, 448: 441, 449: 441, 450: 441, 451: 450, 452: 450, 453: 450, 454: 450, 455: 450, 456: 450, 457: 441, 458: 441, 459: 441, 460: 441, 461: 460, 462: 460, 463: 460, 464: 436, 465: 464, 466: 464, 467: 464, 468: 464, 469: 464, 470: 464, 471: 464, 472: 471, 473: 464, 474: 464, 475: 474, 476: 474, 477: 474, 478: 474, 479: 474, 480: 474, 481: 474, 482: 464, 483: 482, 484: 482, 485: 482, 486: 482, 487: 436, 488: 487, 489: 436, 490: 489, 491: 489, 492: 489, 493: 489, 494: 436, 495: 494, 496: 494, 497: 436, 498: 436, 499: 498, 500: 498, 501: 498, 502: 501, 503: 498, 504: 503, 505: 436, 506: 436, 507: 506, 508: 506, 509: 436, 510: 436, 511: 435, 512: 511, 513: 511, 514: 511, 515: 511, 516: 511, 517: 511, 518: 517, 519: 511, 520: 519, 521: 511, 522: 521, 523: 521, 524: 435, 525: 435, 526: 435, 527: 435, 528: 435, 529: 435, 530: 529, 531: 435, 532: 531, 533: 531, 534: 531, 535: 534, 536: 534, 537: 534, 538: 534, 539: 534, 540: 539, 541: 539, 542: 531, 543: 531, 544: 531, 545: 544, 546: 531, 547: 531, 548: 531, 549: 531, 550: 531, 551: 531, 552: 531, 553: 531, 554: 531, 555: 435, 556: 435, 557: 556, 558: 556, 559: 556, 560: 556, 561: 560, 562: 556, 563: 556, 564: 556, 565: 564, 566: 556, 567: 556, 568: 567, 569: 568, 570: 569, 571: 569, 572: 569, 573: 568, 574: 573, 575: 573, 576: 573, 577: 576, 578: 573, 579: 578, 580: 573, 581: 573, 582: 573, 583: 582, 584: 573, 585: 573, 586: 585, 587: 573, 588: 573, 589: 568, 590: 567, 591: 567, 592: 556, 593: 592, 594: 593, 595: 593, 596: 592, 597: 592, 598: 592, 599: 592, 600: 556, 601: 556, 602: 556, 603: 602, 604: 435, 605: 435, 606: 435, 607: 435, 613: 612, 614: 612, 615: 612, 616: 615, 617: 616, 618: 616, 619: 616, 620: 616, 621: 616, 622: 616, 623: 616, 624: 623, 625: 623, 626: 623, 627: 616, 628: 616, 629: 615, 630: 615, 631: 630, 632: 630, 633: 630, 634: 630, 635: 630, 636: 630, 637: 636, 638: 630, 639: 630, 640: 630, 641: 630, 643: 642, 644: 642, 646: 645, 647: 645, 648: 647, 649: 647, 650: 649, 651: 647, 652: 647, 653: 647, 659: 658, 660: 659, 661: 658, 662: 658, 663: 658, 664: 658, 665: 658, 666: 658, 667: 658, 668: 658, 669: 658, 671: 670, 672: 670, 673: 670, 674: 670, 675: 674, 676: 674, 677: 674, 678: 674, 679: 670, 680: 670, 681: 670, 682: 670, 683: 670, 684: 670, 685: 670, 686: 670, 687: 670, 688: 670, 689: 688, 690: 670, 691: 690, 692: 690, 694: 693, 695: 694, 696: 695, 697: 693, 698: 697, 700: 699, 702: 701, 703: 702, 704: 702, 705: 701, 706: 705, 707: 705, 708: 701, 709: 708, 710: 701, 711: 710, 712: 701, 713: 712, 714: 712, 715: 714, 716: 714, 717: 712, 718: 701, 719: 701, 720: 701, 721: 720, 722: 720, 723: 720, 724: 720, 725: 720, 726: 720, 727: 720, 728: 720, 729: 728, 730: 701, 731: 701, 732: 731, 733: 701, 734: 701, 735: 701, 736: 701, 737: 701, 738: 737, 739: 738, 740: 737, 741: 737, 742: 741, 743: 742, 744: 737, 745: 744, 746: 744, 747: 744, 748: 744, 749: 737, 750: 737, 751: 737, 752: 737, 753: 737, 754: 753, 755: 753, 756: 753, 757: 753, 758: 737, 759: 737, 760: 737, 761: 737, 762: 737, 763: 737}\n",
            "\n",
            "{'Activity': 0, 'Agent': 1, 'Algorithm': 2, 'Altitude': 3, 'AnatomicalStructure': 4, 'Area': 5, 'Award': 6, 'Biomolecule': 7, 'Blazon': 8, 'Browser': 9, 'ChartsPlacements': 10, 'ChemicalSubstance': 11, 'Cipher': 12, 'Colour': 13, 'Currency': 14, 'Demographics': 15, 'Depth': 16, 'Device': 17, 'Diploma': 18, 'Disease': 19, 'ElectionDiagram': 20, 'ElectricalSubstation': 21, 'EthnicGroup': 22, 'Event': 23, 'FileSystem': 24, 'Flag': 25, 'Food': 26, 'GeneLocation': 27, 'GrossDomesticProduct': 28, 'GrossDomesticProductPerCapita': 29, 'Holiday': 30, 'Identifier': 31, 'Language': 32, 'List': 33, 'MeanOfTransportation': 34, 'Media': 35, 'MedicalSpecialty': 36, 'Medicine': 37, 'Name': 38, 'PersonFunction': 39, 'Place': 40, 'Population': 41, 'Protocol': 42, 'PublicService': 43, 'Relationship': 44, 'Species': 45, 'SportCompetitionResult': 46, 'SportsSeason': 47, 'Spreadsheet': 48, 'StarCluster': 49, 'Statistic': 50, 'Tank': 51, 'TimePeriod': 52, 'TopicalConcept': 53, 'UnitOfWork': 54, 'Unknown': 55, 'Work': 56}\n",
            "\n",
            "{0: 1, 1: 2, 2: 3, 3: 3, 4: 2, 5: 2, 6: 3, 7: 3, 8: 1, 9: 2, 10: 2, 11: 2, 12: 3, 13: 2, 14: 3, 15: 4, 16: 3, 17: 3, 18: 3, 19: 3, 20: 2, 21: 3, 22: 4, 23: 4, 24: 4, 25: 3, 26: 4, 27: 4, 28: 4, 29: 4, 30: 4, 31: 5, 32: 5, 33: 4, 34: 4, 35: 4, 36: 3, 37: 4, 38: 4, 39: 4, 40: 4, 41: 3, 42: 3, 43: 3, 44: 4, 45: 3, 46: 4, 47: 4, 48: 3, 49: 3, 50: 3, 51: 3, 52: 4, 53: 3, 54: 3, 55: 3, 56: 4, 57: 3, 58: 3, 59: 4, 60: 4, 61: 4, 62: 5, 63: 3, 64: 4, 65: 4, 66: 4, 67: 4, 68: 4, 69: 4, 70: 4, 71: 4, 72: 4, 73: 4, 74: 4, 75: 4, 76: 4, 77: 4, 78: 4, 79: 4, 80: 4, 81: 4, 82: 4, 83: 4, 84: 4, 85: 4, 86: 4, 87: 4, 88: 4, 89: 4, 90: 4, 91: 4, 92: 4, 93: 4, 94: 3, 95: 4, 96: 4, 97: 4, 98: 4, 99: 4, 100: 4, 101: 4, 102: 4, 103: 4, 104: 4, 105: 4, 106: 3, 107: 3, 108: 2, 109: 3, 110: 3, 111: 3, 112: 3, 113: 4, 114: 5, 115: 5, 116: 4, 117: 4, 118: 4, 119: 4, 120: 4, 121: 4, 122: 5, 123: 5, 124: 5, 125: 6, 126: 5, 127: 5, 128: 4, 129: 4, 130: 4, 131: 3, 132: 3, 133: 4, 134: 4, 135: 4, 136: 4, 137: 4, 138: 4, 139: 4, 140: 4, 141: 5, 142: 4, 143: 4, 144: 4, 145: 4, 146: 4, 147: 4, 148: 4, 149: 4, 150: 4, 151: 4, 152: 5, 153: 5, 154: 4, 155: 4, 156: 4, 157: 4, 158: 4, 159: 4, 160: 4, 161: 4, 162: 5, 163: 6, 164: 6, 165: 5, 166: 6, 167: 6, 168: 6, 169: 6, 170: 4, 171: 4, 172: 4, 173: 4, 174: 4, 175: 4, 176: 5, 177: 4, 178: 4, 179: 4, 180: 4, 181: 4, 182: 4, 183: 4, 184: 4, 185: 5, 186: 4, 187: 4, 188: 5, 189: 5, 190: 5, 191: 5, 192: 5, 193: 5, 194: 5, 195: 5, 196: 5, 197: 5, 198: 5, 199: 4, 200: 5, 201: 3, 202: 3, 203: 3, 204: 3, 205: 4, 206: 4, 207: 5, 208: 4, 209: 4, 210: 4, 211: 4, 212: 4, 213: 3, 214: 4, 215: 4, 216: 4, 217: 3, 218: 4, 219: 5, 220: 3, 221: 3, 222: 3, 223: 3, 224: 3, 225: 3, 226: 3, 227: 3, 228: 3, 229: 3, 230: 3, 231: 3, 232: 3, 233: 3, 234: 3, 235: 3, 236: 3, 237: 3, 238: 4, 239: 3, 240: 3, 241: 3, 242: 4, 243: 4, 244: 4, 245: 4, 246: 4, 247: 4, 248: 4, 249: 4, 250: 4, 251: 4, 252: 4, 253: 4, 254: 4, 255: 4, 256: 3, 257: 3, 258: 4, 259: 4, 260: 3, 261: 3, 262: 3, 263: 3, 264: 3, 265: 3, 266: 4, 267: 5, 268: 3, 269: 4, 270: 4, 271: 4, 272: 4, 273: 3, 274: 4, 275: 3, 276: 3, 277: 3, 278: 4, 279: 4, 280: 4, 281: 4, 282: 4, 283: 4, 284: 1, 285: 1, 286: 1, 287: 2, 288: 2, 289: 2, 290: 2, 291: 2, 292: 2, 293: 2, 294: 2, 295: 2, 296: 2, 297: 1, 298: 1, 299: 2, 300: 2, 301: 1, 302: 2, 303: 2, 304: 3, 305: 3, 306: 2, 307: 2, 308: 2, 309: 2, 310: 1, 311: 1, 312: 1, 313: 1, 314: 2, 315: 2, 316: 2, 317: 3, 318: 3, 319: 3, 320: 2, 321: 1, 322: 1, 323: 1, 324: 1, 325: 1, 326: 1, 327: 2, 328: 2, 329: 3, 330: 2, 331: 3, 332: 3, 333: 2, 334: 2, 335: 3, 336: 3, 337: 2, 338: 2, 339: 2, 340: 1, 341: 1, 342: 1, 343: 1, 344: 1, 345: 1, 346: 2, 347: 3, 348: 2, 349: 3, 350: 2, 351: 3, 352: 3, 353: 3, 354: 2, 355: 2, 356: 3, 357: 3, 358: 3, 359: 3, 360: 3, 361: 3, 362: 3, 363: 3, 364: 3, 365: 3, 366: 3, 367: 3, 368: 4, 369: 4, 370: 4, 371: 4, 372: 4, 373: 4, 374: 4, 375: 5, 376: 4, 377: 5, 378: 5, 379: 5, 380: 4, 381: 5, 382: 5, 383: 5, 384: 5, 385: 4, 386: 1, 387: 1, 388: 1, 389: 2, 390: 3, 391: 3, 392: 3, 393: 4, 394: 2, 395: 1, 396: 2, 397: 2, 398: 1, 399: 1, 400: 1, 401: 1, 402: 2, 403: 1, 404: 2, 405: 1, 406: 2, 407: 1, 408: 2, 409: 3, 410: 2, 411: 2, 412: 2, 413: 2, 414: 2, 415: 3, 416: 3, 417: 3, 418: 2, 419: 2, 420: 2, 421: 2, 422: 2, 423: 2, 424: 2, 425: 2, 426: 1, 427: 1, 428: 1, 429: 1, 430: 2, 431: 2, 432: 1, 433: 2, 434: 2, 435: 1, 436: 2, 437: 3, 438: 4, 439: 4, 440: 3, 441: 3, 442: 4, 443: 4, 444: 4, 445: 4, 446: 4, 447: 4, 448: 4, 449: 4, 450: 4, 451: 5, 452: 5, 453: 5, 454: 5, 455: 5, 456: 5, 457: 4, 458: 4, 459: 4, 460: 4, 461: 5, 462: 5, 463: 5, 464: 3, 465: 4, 466: 4, 467: 4, 468: 4, 469: 4, 470: 4, 471: 4, 472: 5, 473: 4, 474: 4, 475: 5, 476: 5, 477: 5, 478: 5, 479: 5, 480: 5, 481: 5, 482: 4, 483: 5, 484: 5, 485: 5, 486: 5, 487: 3, 488: 4, 489: 3, 490: 4, 491: 4, 492: 4, 493: 4, 494: 3, 495: 4, 496: 4, 497: 3, 498: 3, 499: 4, 500: 4, 501: 4, 502: 5, 503: 4, 504: 5, 505: 3, 506: 3, 507: 4, 508: 4, 509: 3, 510: 3, 511: 2, 512: 3, 513: 3, 514: 3, 515: 3, 516: 3, 517: 3, 518: 4, 519: 3, 520: 4, 521: 3, 522: 4, 523: 4, 524: 2, 525: 2, 526: 2, 527: 2, 528: 2, 529: 2, 530: 3, 531: 2, 532: 3, 533: 3, 534: 3, 535: 4, 536: 4, 537: 4, 538: 4, 539: 4, 540: 5, 541: 5, 542: 3, 543: 3, 544: 3, 545: 4, 546: 3, 547: 3, 548: 3, 549: 3, 550: 3, 551: 3, 552: 3, 553: 3, 554: 3, 555: 2, 556: 2, 557: 3, 558: 3, 559: 3, 560: 3, 561: 4, 562: 3, 563: 3, 564: 3, 565: 4, 566: 3, 567: 3, 568: 4, 569: 5, 570: 6, 571: 6, 572: 6, 573: 5, 574: 6, 575: 6, 576: 6, 577: 7, 578: 6, 579: 7, 580: 6, 581: 6, 582: 6, 583: 7, 584: 6, 585: 6, 586: 7, 587: 6, 588: 6, 589: 5, 590: 4, 591: 4, 592: 3, 593: 4, 594: 5, 595: 5, 596: 4, 597: 4, 598: 4, 599: 4, 600: 3, 601: 3, 602: 3, 603: 4, 604: 2, 605: 2, 606: 2, 607: 2, 608: 1, 609: 1, 610: 1, 611: 1, 612: 1, 613: 2, 614: 2, 615: 2, 616: 3, 617: 4, 618: 4, 619: 4, 620: 4, 621: 4, 622: 4, 623: 4, 624: 5, 625: 5, 626: 5, 627: 4, 628: 4, 629: 3, 630: 3, 631: 4, 632: 4, 633: 4, 634: 4, 635: 4, 636: 4, 637: 5, 638: 4, 639: 4, 640: 4, 641: 4, 642: 1, 643: 2, 644: 2, 645: 1, 646: 2, 647: 2, 648: 3, 649: 3, 650: 4, 651: 3, 652: 3, 653: 3, 654: 1, 655: 1, 656: 1, 657: 1, 658: 1, 659: 2, 660: 3, 661: 2, 662: 2, 663: 2, 664: 2, 665: 2, 666: 2, 667: 2, 668: 2, 669: 2, 670: 1, 671: 2, 672: 2, 673: 2, 674: 2, 675: 3, 676: 3, 677: 3, 678: 3, 679: 2, 680: 2, 681: 2, 682: 2, 683: 2, 684: 2, 685: 2, 686: 2, 687: 2, 688: 2, 689: 3, 690: 2, 691: 3, 692: 3, 693: 1, 694: 2, 695: 3, 696: 4, 697: 2, 698: 3, 699: 1, 700: 2, 701: 1, 702: 2, 703: 3, 704: 3, 705: 2, 706: 3, 707: 3, 708: 2, 709: 3, 710: 2, 711: 3, 712: 2, 713: 3, 714: 3, 715: 4, 716: 4, 717: 3, 718: 2, 719: 2, 720: 2, 721: 3, 722: 3, 723: 3, 724: 3, 725: 3, 726: 3, 727: 3, 728: 3, 729: 4, 730: 2, 731: 2, 732: 3, 733: 2, 734: 2, 735: 2, 736: 2, 737: 2, 738: 3, 739: 4, 740: 3, 741: 3, 742: 4, 743: 5, 744: 3, 745: 4, 746: 4, 747: 4, 748: 4, 749: 3, 750: 3, 751: 3, 752: 3, 753: 3, 754: 4, 755: 4, 756: 4, 757: 4, 758: 3, 759: 3, 760: 3, 761: 3, 762: 3, 763: 3}\n"
          ],
          "name": "stdout"
        }
      ]
    },
    {
      "cell_type": "markdown",
      "metadata": {
        "id": "S0j96nfKM1u5",
        "colab_type": "text"
      },
      "source": [
        "## functions to calculate metrics"
      ]
    },
    {
      "cell_type": "code",
      "metadata": {
        "id": "c_mFIHlD05gR",
        "colab_type": "code",
        "colab": {}
      },
      "source": [
        "# Calculate aggregated confidences basend on the class hierarchy\n",
        "def calc_agg_confs(_prediction_output):\n",
        "  agg_conf_per_image_dict = {}\n",
        "  top_pred_per_level_per_image = {}\n",
        "\n",
        "  levels_desc = list(labels_per_level.keys())\n",
        "  levels_desc.sort(reverse=True)\n",
        "\n",
        "  for ent_index,ent in enumerate(_prediction_output): #for each image\n",
        "    if ent_index % 10000 == 0:\n",
        "      print(ent_index)\n",
        "\n",
        "    top_pred_per_level = {}\n",
        "\n",
        "    label_conf = {label_idx:0 for label_idx in all_labels_index} # initialize confidences for each label with 0\n",
        "\n",
        "    for level in levels_desc: #for each level (in descending order 7 -> 1)\n",
        "      label_idxs = labels_per_level_index[level]\n",
        "\n",
        "      level_top_pred_conf = 0\n",
        "      level_top_pred_idx = 0\n",
        "\n",
        "      for label_idx in label_idxs:\n",
        "          if label_idx in labels_with_predictions_index: #update own value\n",
        "            index = labels_map_index[label_idx]-1\n",
        "            label_conf[label_idx] += ent[\"probabilities\"][index]\n",
        "            \n",
        "          if label_idx in child_parent_dict_index.keys(): #update parent value\n",
        "            parent_label_idx = child_parent_dict_index[label_idx]\n",
        "            label_conf[parent_label_idx] += label_conf[label_idx]\n",
        "\n",
        "          if label_conf[label_idx] > level_top_pred_conf: #if it is highest prediction, then update\n",
        "            level_top_pred_conf = label_conf[label_idx]\n",
        "            level_top_pred_idx = label_idx\n",
        "      \n",
        "      top_pred_per_level[level] = (level_top_pred_idx,level_top_pred_conf)\n",
        "\n",
        "    agg_conf_per_image_dict[ent_index] = label_conf\n",
        "    top_pred_per_level_per_image[ent_index] = top_pred_per_level\n",
        "  \n",
        "  return agg_conf_per_image_dict,top_pred_per_level_per_image"
      ],
      "execution_count": 0,
      "outputs": []
    },
    {
      "cell_type": "code",
      "metadata": {
        "id": "NaXwG7Q-eo6e",
        "colab_type": "code",
        "colab": {}
      },
      "source": [
        "# Predict with lowest possible level (most finegrained) that is above a certain confidence threshold\n",
        "def calc_acc_lowest_level_above_threshold(_prediction_output, _top_pred_per_level_per_image, labels):\n",
        "  accs_lvl_all = []\n",
        "  rel_data_lvl_all = []\n",
        "  avg_lvl_all = []\n",
        "\n",
        "  levels_desc = list(labels_per_level.keys())\n",
        "  levels_desc.sort(reverse=True)\n",
        "\n",
        "  for conf_threshold in range(0,100,5):  \n",
        "      conf_threshold = conf_threshold/100\n",
        "      scores_lvl_all = 0\n",
        "      tries = 0\n",
        "      levels_of_pred = []\n",
        "\n",
        "      for ent_index,ent in enumerate(_prediction_output):\n",
        "          gt_label = labels[ent_index]\n",
        "          gt_idx = all_labels_to_index[gt_label]\n",
        "          #gt_idx = labels_map_index_reverse[ent[\"label\"]]\n",
        "          gt_hierarchy_idxs = hierarchy_dict_index[gt_idx]\n",
        "          \n",
        "          for level in levels_desc:\n",
        "              top_pred = _top_pred_per_level_per_image[ent_index][level]\n",
        "              top_pred_conf = top_pred[1]\n",
        "\n",
        "              if top_pred_conf >= conf_threshold:\n",
        "                  tries += 1\n",
        "                  top_pred_idx = top_pred[0]\n",
        "\n",
        "                  if top_pred_idx in gt_hierarchy_idxs:\n",
        "                      scores_lvl_all += 1\n",
        "                      levels_of_pred.append(level)\n",
        "                  break;\n",
        "\n",
        "      acc = scores_lvl_all/tries if tries > 0 else 0\n",
        "      #print(\"threshold: %.2f \\tacc: %.2f \\t%% of data predicted: %.2f \\tavg predicted level: %.2f\" % (conf_threshold, acc, tries/len(_prediction_output), np.mean(levels_of_pred)))\n",
        "      accs_lvl_all.append(acc)\n",
        "      rel_data_lvl_all.append(tries/len(_prediction_output))\n",
        "      avg_lvl_all.append(np.mean(levels_of_pred))\n",
        "  return accs_lvl_all,rel_data_lvl_all,avg_lvl_all"
      ],
      "execution_count": 0,
      "outputs": []
    },
    {
      "cell_type": "code",
      "metadata": {
        "id": "cCTesjKLC8qb",
        "colab_type": "code",
        "colab": {}
      },
      "source": [
        "# Predict always with one level above original prediction \n",
        "def calc_acc_one_level_up(_prediction_output, _agg_conf_per_image_dict, labels):\n",
        "  accs_lvl1 = []\n",
        "  rel_data_lvl1 = []\n",
        "  avg_lvl1 = []\n",
        "\n",
        "  for conf_threshold in range(0,100,5):  \n",
        "      conf_threshold = conf_threshold/100\n",
        "      scores_lvl1 = 0\n",
        "      tries = 0\n",
        "      levels = []\n",
        "\n",
        "      for ent_index,ent in enumerate(_prediction_output):\n",
        "          gt_label = labels[ent_index]\n",
        "          gt_idx = all_labels_to_index[gt_label]\n",
        "          gt_hierarchy_idxs = hierarchy_dict_index[gt_idx]\n",
        "\n",
        "          pred_idx = labels_map_index_reverse[ent[\"prediction\"]+1]\n",
        "          pred_hierarchy_idxs = hierarchy_dict_index[pred_idx]\n",
        "\n",
        "          if pred_idx in child_parent_dict_index.keys(): \n",
        "            pred_idx = child_parent_dict_index[pred_idx]\n",
        "          \n",
        "          pred_conf = agg_conf_per_image_dict[ent_index][pred_idx]\n",
        "\n",
        "          if pred_conf >= conf_threshold:\n",
        "              tries += 1\n",
        "              if pred_idx in gt_hierarchy_idxs:\n",
        "                  scores_lvl1 += 1\n",
        "                  levels.append(level_of_label_index[pred_idx])\n",
        "                  \n",
        "      acc = scores_lvl1/tries if tries > 0 else 0\n",
        "      #print(\"threshold: %.2f \\tacc: %.2f \\t%% of data predicted: %.2f \\tavg predicted level: %.2f\" % (conf_threshold, acc, tries/len(_prediction_output), np.mean(levels)))\n",
        "      accs_lvl1.append(acc)\n",
        "      rel_data_lvl1.append(tries/len(_prediction_output))\n",
        "      avg_lvl1.append(np.mean(levels))\n",
        "  return accs_lvl1, rel_data_lvl1, avg_lvl1"
      ],
      "execution_count": 0,
      "outputs": []
    },
    {
      "cell_type": "code",
      "metadata": {
        "id": "IUDkj4W9FMCD",
        "colab_type": "code",
        "colab": {}
      },
      "source": [
        "# Predict with lowest possible level of the hierarchy of the original prediction\n",
        "def calc_acc_one_level_up_if_below_threshold(_prediction_output, _agg_conf_per_image_dict, labels):\n",
        "  accs_lvl1 = []\n",
        "  rel_data_lvl1 = []\n",
        "  avg_lvl1 = []\n",
        "\n",
        "  for conf_threshold in range(0,100,5):  \n",
        "      conf_threshold = conf_threshold/100\n",
        "      scores_lvl1 = 0\n",
        "      tries = 0\n",
        "      levels = []\n",
        "\n",
        "      for ent_index,ent in enumerate(_prediction_output):\n",
        "          gt_label = labels[ent_index]\n",
        "          gt_idx = all_labels_to_index[gt_label]\n",
        "          gt_hierarchy_idxs = hierarchy_dict_index[gt_idx]\n",
        "\n",
        "          pred_idx = labels_map_index_reverse[ent[\"prediction\"]+1]\n",
        "          pred_hierarchy_idxs = hierarchy_dict_index[pred_idx]\n",
        "\n",
        "          pred_conf = agg_conf_per_image_dict[ent_index][pred_idx]\n",
        "\n",
        "          while pred_conf < conf_threshold:\n",
        "            if pred_idx in child_parent_dict_index.keys(): \n",
        "              pred_idx = child_parent_dict_index[pred_idx]\n",
        "              pred_conf = agg_conf_per_image_dict[ent_index][pred_idx]\n",
        "            else:\n",
        "              break\n",
        "\n",
        "          if pred_conf >= conf_threshold:\n",
        "              tries += 1\n",
        "              if pred_idx in gt_hierarchy_idxs:\n",
        "                  scores_lvl1 += 1\n",
        "                  levels.append(level_of_label_index[pred_idx])\n",
        "                        \n",
        "      acc = scores_lvl1/tries if tries > 0 else 0\n",
        "      #print(\"threshold: %.2f \\tacc: %.2f \\t%% of data predicted: %.2f \\tavg predicted level: %.2f\" % (conf_threshold, acc, tries/len(_prediction_output), np.mean(levels)))\n",
        "      accs_lvl1.append(acc)\n",
        "      rel_data_lvl1.append(tries/len(_prediction_output))\n",
        "      avg_lvl1.append(np.mean(levels))\n",
        "  return accs_lvl1, rel_data_lvl1, avg_lvl1"
      ],
      "execution_count": 0,
      "outputs": []
    },
    {
      "cell_type": "code",
      "metadata": {
        "id": "0VrT4QsCH04X",
        "colab_type": "code",
        "colab": {}
      },
      "source": [
        "# Predict always on top level\n",
        "def calc_acc_top_level(_prediction_output, _top_pred_per_level_per_image, labels):\n",
        "  accs_lvl1 = []\n",
        "  rel_data_lvl1 = []\n",
        "  avg_lvl1 = []\n",
        "\n",
        "  for conf_threshold in range(0,100,5):  \n",
        "      conf_threshold = conf_threshold/100\n",
        "      scores_lvl1 = 0\n",
        "      tries = 0\n",
        "      levels = []\n",
        "\n",
        "      for ent_index,ent in enumerate(_prediction_output):\n",
        "          gt_label = labels[ent_index]\n",
        "          gt_idx = all_labels_to_index[gt_label]\n",
        "          gt_hierarchy_idxs = hierarchy_dict_index[gt_idx]\n",
        "          gt_hierarchy_top_label_idx = gt_hierarchy_idxs[0]\n",
        "\n",
        "          pred_lvl1 = _top_pred_per_level_per_image[ent_index][1]\n",
        "          pred_idx = pred_lvl1[0]\n",
        "          pred_conf = pred_lvl1[1]\n",
        "\n",
        "          if pred_conf >= conf_threshold:\n",
        "              tries += 1\n",
        "              if pred_idx == gt_hierarchy_top_label_idx:\n",
        "                  scores_lvl1 += 1\n",
        "                  levels.append(1)\n",
        "\n",
        "      acc = scores_lvl1/tries if tries > 0 else 0\n",
        "      #print(\"threshold: %.2f \\tacc: %.2f \\t%% of data predicted: %.2f \\tavg predicted level: %.2f\" % (conf_threshold, acc, tries/len(_prediction_output), np.mean(levels)))\n",
        "      accs_lvl1.append(acc)\n",
        "      rel_data_lvl1.append(tries/len(_prediction_output))\n",
        "      avg_lvl1.append(np.mean(levels))\n",
        "  return accs_lvl1, rel_data_lvl1, avg_lvl1"
      ],
      "execution_count": 0,
      "outputs": []
    },
    {
      "cell_type": "code",
      "metadata": {
        "id": "Bc1-5NhLJWR8",
        "colab_type": "code",
        "colab": {}
      },
      "source": [
        "def calc_acc_baseline(_prediction_output, labels):\n",
        "  accs = []\n",
        "  rel_data = []\n",
        "  avg_lvl = []\n",
        "  for conf_threshold in range(0,100,5):  \n",
        "    conf_threshold = conf_threshold/100\n",
        "    scores = 0\n",
        "    tries = 0\n",
        "    levels_of_pred = []\n",
        "\n",
        "    for ent_index,ent in enumerate(_prediction_output):\n",
        "      gt_label = labels[ent_index]\n",
        "      gt_idx = all_labels_to_index[gt_label]\n",
        "      \n",
        "      pred_idx = labels_map_index_reverse[ent[\"prediction\"]+1]\n",
        "      pred_conf = ent[\"probabilities\"][ent[\"prediction\"]]\n",
        "\n",
        "      if pred_conf >= conf_threshold:\n",
        "        tries += 1\n",
        "        if gt_idx == pred_idx:\n",
        "          scores += 1\n",
        "          levels_of_pred.append(level_of_label_index[pred_idx])\n",
        "\n",
        "    acc = scores/tries if tries > 0 else 0\n",
        "    #print(\"threshold: %.2f \\tacc: %.2f \\t%% of data predicted: %.2f \\tavg predicted level: %.2f\" % (conf_threshold, acc, tries/len(_prediction_output), np.mean(levels_of_pred)))\n",
        "    accs.append(acc)\n",
        "    avg_lvl.append(np.mean(levels_of_pred))\n",
        "    rel_data.append(tries/len(_prediction_output))\n",
        "  return accs, rel_data, avg_lvl"
      ],
      "execution_count": 0,
      "outputs": []
    },
    {
      "cell_type": "markdown",
      "metadata": {
        "id": "o8UF-8--NBcu",
        "colab_type": "text"
      },
      "source": [
        "## functions to store and load metrics"
      ]
    },
    {
      "cell_type": "code",
      "metadata": {
        "id": "tmE2dsJ7S8hd",
        "colab_type": "code",
        "colab": {}
      },
      "source": [
        "def store_eval_metrics(_model_name, _run_name, _ckpt_num, accs, accs_name, rel_data, rel_data_name, avg_lvl, avg_lvl_name):\n",
        "  _model_dir = 'gs://ise-bucket/efficientnet/'+_model_name+'/'+_run_name\n",
        "  pd.DataFrame(accs).to_csv(_model_dir+\"/\"+accs_name+\".csv\", index=False, header=False)\n",
        "  pd.DataFrame(rel_data).to_csv(_model_dir+\"/\"+rel_data_name+\".csv\", index=False, header=False)\n",
        "  pd.DataFrame(avg_lvl).to_csv(_model_dir+\"/\"+avg_lvl_name+\".csv\", index=False, header=False)"
      ],
      "execution_count": 0,
      "outputs": []
    },
    {
      "cell_type": "code",
      "metadata": {
        "id": "0Tq4Tq3yNETV",
        "colab_type": "code",
        "colab": {}
      },
      "source": [
        "def predict_and_calc_metrics_for_ckpts(ckpts):\n",
        "  accs = []\n",
        "  rel_data = []\n",
        "  avg_lvl = []\n",
        "  for ckpt in ckpts:\n",
        "    _model_name = ckpt[0]\n",
        "    _run_name = ckpt[1]\n",
        "    _ckpt_num = ckpt[2]\n",
        "\n",
        "    _model_dir = 'gs://ise-bucket/efficientnet/'+_model_name+'/'+_run_name\n",
        "    metrics = load_metrics_for_ckpt(_model_name, _run_name, _ckpt_num)\n",
        "    accs_lvl_all, rel_data_lvl_all, avg_lvl_all = metrics[\"lvl_all\"]\n",
        "    accs.append(accs_lvl_all)\n",
        "    rel_data.append(rel_data_lvl_all)\n",
        "    avg_lvl.append(avg_lvl_all)\n",
        "  return accs,rel_data,avg_lvl"
      ],
      "execution_count": 0,
      "outputs": []
    },
    {
      "cell_type": "code",
      "metadata": {
        "id": "wGJJ9DcaNHA0",
        "colab_type": "code",
        "colab": {}
      },
      "source": [
        "def predict_and_store_metrics_for_ckpt(_model_name, _run_name, _ckpt_num):\n",
        "  print(\"predict and store metrics for ckpt with number\",_ckpt_num)\n",
        "  prediction_output = predict_with_ckpt_for_ckpt_number(_model_name, _run_name, _ckpt_num)\n",
        "  agg_conf_per_image_dict, top_pred_per_level_per_image = calc_agg_confs(prediction_output)\n",
        "  labels = get_labels_for_images()\n",
        "\n",
        "  accs_lvl1, rel_data_lvl1, avg_lvl1 = calc_acc_top_level(prediction_output,top_pred_per_level_per_image,labels)\n",
        "  accs_lvl_all, rel_data_lvl_all, avg_lvl_all = calc_acc_lowest_level_above_threshold(prediction_output,top_pred_per_level_per_image,labels)\n",
        "  accs,rel_data,avg_lvl = calc_acc_baseline(prediction_output,labels)\n",
        "\n",
        "  store_eval_metrics(_model_name, _run_name, _ckpt_num, accs_lvl1, \"accs_lvl1_\"+_ckpt_num, rel_data_lvl1, \"rel_data_lvl1_\"+_ckpt_num, avg_lvl1, \"avg_lvl1_\"+_ckpt_num)\n",
        "  store_eval_metrics(_model_name, _run_name, _ckpt_num, accs_lvl_all, \"accs_lvl_all_\"+_ckpt_num, rel_data_lvl_all, \"rel_data_lvl_all_\"+_ckpt_num, avg_lvl_all, \"avg_lvl_all_\"+_ckpt_num)\n",
        "  store_eval_metrics(_model_name, _run_name, _ckpt_num, accs, \"accs_\"+_ckpt_num, rel_data, \"rel_data_\"+_ckpt_num, avg_lvl, \"avg_lvl_\"+_ckpt_num)"
      ],
      "execution_count": 0,
      "outputs": []
    },
    {
      "cell_type": "code",
      "metadata": {
        "id": "bzh2cuu8NHjc",
        "colab_type": "code",
        "colab": {}
      },
      "source": [
        "def check_for_metrics_for_ckpt(_model_name, _run_name, _ckpt_num):\n",
        "  fs = gcsfs.GCSFileSystem()\n",
        "  _model_dir = 'gs://ise-bucket/efficientnet/'+_model_name+'/'+_run_name\n",
        "  fs.invalidate_cache(_model_dir)\n",
        "  print(\"check for metrics in\",_model_dir,\"for ckpt num\",_ckpt_num)\n",
        "  file_path = _model_dir+\"/accs_lvl1_\"+_ckpt_num+\".csv\"\n",
        "  if tf.gfile.Exists(file_path):\n",
        "    file_path = _model_dir+\"/accs_lvl_all_\"+_ckpt_num+\".csv\"\n",
        "    if tf.gfile.Exists(file_path):\n",
        "      file_path = _model_dir+\"/accs_\"+_ckpt_num+\".csv\"\n",
        "      if tf.gfile.Exists(file_path):\n",
        "        file_path = _model_dir+\"/avg_lvl_\"+_ckpt_num+\".csv\"\n",
        "        if tf.gfile.Exists(file_path):\n",
        "          return True\n",
        "\n",
        "  return False"
      ],
      "execution_count": 0,
      "outputs": []
    },
    {
      "cell_type": "code",
      "metadata": {
        "id": "Rl_n-LielfZ7",
        "colab_type": "code",
        "colab": {}
      },
      "source": [
        "def store_metrics_for_all_ckpts(_model_name, _run_name):\n",
        "  _model_dir = 'gs://ise-bucket/efficientnet/'+_model_name+'/'+_run_name\n",
        "  \n",
        "  fs = gcsfs.GCSFileSystem()\n",
        "  fs.invalidate_cache(_model_dir)\n",
        "\n",
        "  df_eval = pd.read_csv(_model_dir+\"/checkpoint\",header=None)\n",
        "  ckpt_list = [ckpt.split(\": \")[1].replace('\"','') for ckpt in df_eval[0].values[1:]]\n",
        "  for ckpt in ckpt_list:\n",
        "    _ckpt_num = ckpt.split(\"-\")[-1]\n",
        "    print(\"load metrics for ckpt:\",_model_dir+\"/model.ckpt-\"+_ckpt_num)\n",
        "\n",
        "    if check_for_metrics_for_ckpt(_model_name, _run_name, _ckpt_num) == False:\n",
        "      start_timestamp = datetime.datetime.now() # This time will include compilation time\n",
        "      print(\"Start storing metrics at {}\".format(start_timestamp))\n",
        "      predict_and_store_metrics_for_ckpt(_model_name, _run_name, _ckpt_num)\n",
        "      end_timestamp = datetime.datetime.now() # This time will include compilation time\n",
        "      print(\"Finished storing metrics at {}\".format(end_timestamp))\n"
      ],
      "execution_count": 0,
      "outputs": []
    },
    {
      "cell_type": "code",
      "metadata": {
        "id": "agwSRzQsNH_A",
        "colab_type": "code",
        "colab": {}
      },
      "source": [
        "def load_metrics_for_ckpt(_model_name, _run_name, _ckpt_num):\n",
        "\n",
        "  _model_dir = 'gs://ise-bucket/efficientnet/'+_model_name+'/'+_run_name\n",
        "\n",
        "  print(\"load metrics for ckpt:\",_model_dir+\"/model.ckpt-\"+_ckpt_num)\n",
        "  if check_for_metrics_for_ckpt(_model_name, _run_name, _ckpt_num) == True:\n",
        "    accs_lvl1 = pd.read_csv(_model_dir+\"/accs_lvl1_\"+_ckpt_num+\".csv\",header=None).values.tolist()\n",
        "    accs_lvl1 = [x[0] for x in accs_lvl1]\n",
        "    rel_data_lvl1 = pd.read_csv(_model_dir+\"/rel_data_lvl1_\"+_ckpt_num+\".csv\",header=None).values.tolist()\n",
        "    rel_data_lvl1 = [x[0] for x in rel_data_lvl1]\n",
        "    avg_lvl1 = pd.read_csv(_model_dir+\"/avg_lvl1_\"+_ckpt_num+\".csv\",header=None).values.tolist()\n",
        "    avg_lvl1 = [x[0] for x in avg_lvl1]\n",
        "\n",
        "    accs_lvl_all = pd.read_csv(_model_dir+\"/accs_lvl_all_\"+_ckpt_num+\".csv\",header=None).values.tolist()\n",
        "    accs_lvl_all = [x[0] for x in accs_lvl_all]\n",
        "    rel_data_lvl_all = pd.read_csv(_model_dir+\"/rel_data_lvl_all_\"+_ckpt_num+\".csv\",header=None).values.tolist()\n",
        "    rel_data_lvl_all = [x[0] for x in rel_data_lvl_all]\n",
        "    avg_lvl_all = pd.read_csv(_model_dir+\"/avg_lvl_all_\"+_ckpt_num+\".csv\",header=None).values.tolist()\n",
        "    avg_lvl_all = [x[0] for x in avg_lvl_all]\n",
        "\n",
        "    accs = pd.read_csv(_model_dir+\"/accs_\"+_ckpt_num+\".csv\",header=None).values.tolist()\n",
        "    accs = [x[0] for x in accs]\n",
        "    rel_data = pd.read_csv(_model_dir+\"/rel_data_\"+_ckpt_num+\".csv\",header=None).values.tolist()\n",
        "    rel_data = [x[0] for x in rel_data]\n",
        "    avg_lvl = pd.read_csv(_model_dir+\"/avg_lvl_\"+_ckpt_num+\".csv\",header=None).values.tolist()\n",
        "    avg_lvl = [x[0] for x in avg_lvl]\n",
        "\n",
        "    metrics = {\"lvl1\":(accs_lvl1,rel_data_lvl1,avg_lvl1),\"lvl_all\":(accs_lvl_all,rel_data_lvl_all,avg_lvl_all),\"baseline\":(accs,rel_data,avg_lvl)}\n",
        "\n",
        "    return metrics\n",
        "\n",
        "  else:\n",
        "    predict_and_store_metrics_for_ckpt(_model_name, _run_name, _ckpt_num)\n",
        "    metrics = load_metrics_for_ckpt(_model_name, _run_name, _ckpt_num)\n",
        "\n",
        "    return metrics"
      ],
      "execution_count": 0,
      "outputs": []
    },
    {
      "cell_type": "code",
      "metadata": {
        "id": "WE_jxy1-zaU1",
        "colab_type": "code",
        "colab": {}
      },
      "source": [
        "def load_baseline_metric_for_ckpt(_model_name, _run_name, _ckpt_num):\n",
        "\n",
        "  _model_dir = 'gs://ise-bucket/efficientnet/'+_model_name+'/'+_run_name\n",
        "\n",
        "  print(\"load baseline metric for ckpt:\",_model_dir+\"/model.ckpt-\"+_ckpt_num)\n",
        "  accs = pd.read_csv(_model_dir+\"/accs_\"+_ckpt_num+\".csv\",header=None).values.tolist()\n",
        "  accs = [x[0] for x in accs]\n",
        "  rel_data = pd.read_csv(_model_dir+\"/rel_data_\"+_ckpt_num+\".csv\",header=None).values.tolist()\n",
        "  rel_data = [x[0] for x in rel_data]\n",
        "  avg_lvl = pd.read_csv(_model_dir+\"/avg_lvl_\"+_ckpt_num+\".csv\",header=None).values.tolist()\n",
        "  avg_lvl = [x[0] for x in avg_lvl]\n",
        "\n",
        "  metrics = {\"baseline\":(accs,rel_data,avg_lvl)}\n",
        "\n",
        "  return metrics"
      ],
      "execution_count": 0,
      "outputs": []
    },
    {
      "cell_type": "markdown",
      "metadata": {
        "id": "OLp9pkNEPh-M",
        "colab_type": "text"
      },
      "source": [
        "##functions to plot metrics"
      ]
    },
    {
      "cell_type": "code",
      "metadata": {
        "id": "XWENKLbVghsu",
        "colab_type": "code",
        "colab": {}
      },
      "source": [
        "def print_metrics_for_ckpt(_model_name, _run_name, _ckpt_num):\n",
        "  metrics = load_metrics_for_ckpt(_model_name, _run_name, _ckpt_num)\n",
        "  accs_lvl1,rel_data_lvl1,avg_lvl1 = metrics[\"lvl1\"]\n",
        "  accs_lvl_all,rel_data_lvl_all,avg_lvl_all = metrics[\"lvl_all\"]\n",
        "  accs,rel_data,avg_lvl = metrics[\"baseline\"]\n",
        "\n",
        "  print(\"Results for prediction on top level\")\n",
        "  for i, conf_threshold in enumerate(range(0,100,5)):  \n",
        "      conf_threshold = conf_threshold/100\n",
        "      print(\"threshold: %.2f \\tacc: %.2f \\t%% of data predicted: %.2f \\tavg predicted level: %.2f\" % (conf_threshold, accs_lvl1[i], rel_data_lvl1[i] , avg_lvl1[i]))\n",
        "  print()\n",
        "\n",
        "  print(\"Results for prediction on lowest level above threshold\")\n",
        "  for i, conf_threshold in enumerate(range(0,100,5)):  \n",
        "      conf_threshold = conf_threshold/100\n",
        "      print(\"threshold: %.2f \\tacc: %.2f \\t%% of data predicted: %.2f \\tavg predicted level: %.2f\" % (conf_threshold, accs_lvl_all[i], rel_data_lvl_all[i] , avg_lvl_all[i]))\n",
        "  print()\n",
        "\n",
        "  print(\"Results for prediction with baseline classifier\")\n",
        "  for i, conf_threshold in enumerate(range(0,100,5)):  \n",
        "      conf_threshold = conf_threshold/100\n",
        "      print(\"threshold: %.2f \\tacc: %.2f \\t%% of data predicted: %.2f \\tavg predicted level: %.2f\" % (conf_threshold, accs[i], rel_data[i] , avg_lvl[i]))\n",
        "  print()"
      ],
      "execution_count": 0,
      "outputs": []
    },
    {
      "cell_type": "code",
      "metadata": {
        "id": "dYSKVLr5ZeIB",
        "colab_type": "code",
        "colab": {}
      },
      "source": [
        "def print_metric_for_ckpt(metric ,_model_name, _run_name, _ckpt_num):\n",
        "  metrics = load_metrics_for_ckpt(_model_name, _run_name, _ckpt_num)\n",
        "  if metric == \"lvl1\":\n",
        "    accs_lvl1,rel_data_lvl1,avg_lvl1 = metrics[\"lvl1\"]\n",
        "    print(\"Results for prediction on top level\")\n",
        "    \"\"\"\n",
        "    for i, conf_threshold in enumerate(range(0,100,5)):  \n",
        "        conf_threshold = conf_threshold/100\n",
        "        print(\"threshold: %.2f \\tacc: %.2f \\t%% of data predicted: %.2f \\tavg predicted level: %.2f\" % (conf_threshold, accs_lvl1[i], rel_data_lvl1[i] , avg_lvl1[i]))\n",
        "    print()\n",
        "    \"\"\"\n",
        "  elif metric == \"lvl_all\":\n",
        "    accs_lvl_all,rel_data_lvl_all,avg_lvl_all = metrics[\"lvl_all\"]\n",
        "    print(\"Results for prediction on lowest level above threshold\")\n",
        "    print(\"Accs:\",accs_lvl_all)\n",
        "    print(\"Rel_data:\",rel_data_lvl_all)\n",
        "    print(\"Avg. Depth:\",avg_lvl_all)\n",
        "    \"\"\"\n",
        "    for i, conf_threshold in enumerate(range(0,100,5)):  \n",
        "        conf_threshold = conf_threshold/100\n",
        "        print(\"threshold: %.2f \\tacc: %.2f \\t%% of data predicted: %.2f \\tavg predicted level: %.2f\" % (conf_threshold, accs_lvl_all[i], rel_data_lvl_all[i] , avg_lvl_all[i]))\n",
        "    print()\n",
        "    \"\"\"\n",
        "  elif metric == \"baseline\":\n",
        "    accs,rel_data,avg_lvl = metrics[\"baseline\"]\n",
        "    print(\"Results for prediction with baseline classifier\")\n",
        "    print(\"Accs:\",accs)\n",
        "    print(\"Rel_data:\",rel_data)\n",
        "    print(\"Avg. Depth:\",avg_lvl)\n",
        "    \"\"\"\n",
        "    for i, conf_threshold in enumerate(range(0,100,5)):  \n",
        "        conf_threshold = conf_threshold/100\n",
        "        print(\"threshold: %.2f \\tacc: %.2f \\t%% of data predicted: %.2f \\tavg predicted level: %.2f\" % (conf_threshold, accs[i], rel_data[i] , avg_lvl[i]))\n",
        "    print()\n",
        "    \"\"\"\n",
        "  else:\n",
        "    print(\"metric not correct\")  "
      ],
      "execution_count": 0,
      "outputs": []
    },
    {
      "cell_type": "code",
      "metadata": {
        "id": "oYHG7_9xPhmx",
        "colab_type": "code",
        "colab": {}
      },
      "source": [
        "def plot_all_metrics_for_ckpt(_model_name, _run_name, _ckpt_num):\n",
        "  metrics = load_metrics_for_ckpt(_model_name, _run_name, _ckpt_num)\n",
        "  accs_lvl1,rel_data_lvl1,avg_lvl1 = metrics[\"lvl1\"]\n",
        "  accs_lvl_all,rel_data_lvl_all,avg_lvl_all = metrics[\"lvl_all\"]\n",
        "  accs,rel_data,avg_lvl = metrics[\"baseline\"]\n",
        "\n",
        "  fig, ax = plt.subplots(figsize=(20,10)) \n",
        "  plt.xlabel('% of data predicted')\n",
        "  plt.ylabel('prediction accuracy') \n",
        "  \n",
        "  ax.plot(rel_data,accs,\".-r\", label=\"standard classifier predictions above threshold\")\n",
        "  ax.plot(rel_data_lvl_all,accs_lvl_all,\".-g\",label=\"predictions on lowest possible level above threshold\")\n",
        "  ax.plot(rel_data_lvl1,accs_lvl1,\".-b\",label=\"predictions on top entity level above threshold\")\n",
        "\n",
        "  ax2 = ax.twinx()  \n",
        "  ax2.set_ylabel(\"average level predicted\")\n",
        "\n",
        "  ax2.plot(rel_data,avg_lvl,\":r\")\n",
        "  ax2.plot(rel_data_lvl1,avg_lvl1,\":b\")\n",
        "  ax2.plot(rel_data_lvl_all,avg_lvl_all,\":g\")\n",
        "\n",
        "  ax.set_xlim(1.05, -0.05) \n",
        "  plt.xticks(np.arange(0, 1.1, step=0.1))\n",
        "  extraString = 'confidence threshold'\n",
        "  handles, _ = ax.get_legend_handles_labels()\n",
        "  handles.append(mpatches.Patch(color='none', label=extraString))\n",
        "  plt.legend(handles=handles,loc=\"lower right\")\n",
        "  annotations = [x/100 for x in list(range(0,100,5))]\n",
        "  for index,annotation in enumerate(annotations):\n",
        "    if (index+1) % 2 == 0:\n",
        "      ax.text(rel_data[index]+0.01, accs[index]+0.005,annotation,va=\"bottom\")\n",
        "      ax.text(rel_data_lvl1[index]+0.01, accs_lvl1[index]+0.005,annotation,va=\"bottom\")\n",
        "      ax.text(rel_data_lvl_all[index]+0.01, accs_lvl_all[index]+0.005,annotation,va=\"bottom\")"
      ],
      "execution_count": 0,
      "outputs": []
    },
    {
      "cell_type": "code",
      "metadata": {
        "id": "hv1RVEM7coCD",
        "colab_type": "code",
        "colab": {}
      },
      "source": [
        "def plot_all_metrics_for_ckpt2(_model_name, _run_name, _ckpt_num):\n",
        "  metrics = load_metrics_for_ckpt(_model_name, _run_name, _ckpt_num)\n",
        "  accs_lvl1,rel_data_lvl1,avg_lvl1 = metrics[\"lvl1\"]\n",
        "  accs_lvl_all,rel_data_lvl_all,avg_lvl_all = metrics[\"lvl_all\"]\n",
        "  accs,rel_data,avg_lvl = metrics[\"baseline\"]\n",
        "\n",
        "  fig, ax = plt.subplots(figsize=(20,10)) \n",
        "  plt.xlabel('accuracy of prediction multiplied with relative amount of data predicted')\n",
        "  plt.ylabel('average level of prediction') \n",
        "\n",
        "  rel_accs_combined = [x[0]*x[1] for x in zip(rel_data,accs)]\n",
        "  ax.plot(rel_accs_combined,avg_lvl,\"-r\", label=\"standard classifier predictions above threshold\")\n",
        "\n",
        "  rel_accs_combined = [x[0]*x[1] for x in zip(rel_data_lvl1,accs_lvl1)]\n",
        "  ax.plot(rel_accs_combined, avg_lvl1,\"-b\",label=\"predictions on lowest possible level above threshold\")\n",
        "\n",
        "  rel_accs_combined = [x[0]*x[1] for x in zip(rel_data_lvl_all,accs_lvl_all)]\n",
        "  ax.plot(rel_accs_combined, avg_lvl_all, \"-g\",label=\"predictions on top entity level above threshold\")\n",
        "  annotations = [x/100 for x in list(range(0,100,5))]\n",
        "  for index,annotation in enumerate(annotations):\n",
        "    if (index+1) % 2 == 0:\n",
        "      ax.text(rel_accs_combined[index]+0.01,avg_lvl_all[index]+0.005,annotation,va=\"bottom\")\n",
        "\n",
        "  ax.set_xlim(0, 1) \n",
        "  plt.legend(loc=\"upper right\")\n",
        "  #plt.xticks(np.arange(0, 1.1, step=0.1))"
      ],
      "execution_count": 0,
      "outputs": []
    },
    {
      "cell_type": "code",
      "metadata": {
        "id": "in6dLJnhCcuD",
        "colab_type": "code",
        "colab": {}
      },
      "source": [
        "def plot_metrics_for_ckpts(ckpts):\n",
        "  accs,rel_data,avg_lvl = predict_and_calc_metrics_for_ckpts(ckpts)\n",
        "  fig, ax = plt.subplots(figsize=(20,10)) \n",
        "  plt.xlabel('% of data predicted')\n",
        "  plt.ylabel('prediction accuracy')     \n",
        "  annotations = [x/100 for x in list(range(0,100,5))]\n",
        "  ax2 = ax.twinx()\n",
        "  ax2.set_ylabel(\"average level predicted\")\n",
        "  format_codes_ax = [\".-r\",\".-b\",\".-g\"]\n",
        "  format_codes_ax2 = [\":r\",\":b\",\":g\"]\n",
        "  colors = [\"red\",\"blue\",\"green\"]\n",
        "  for ckpt_idx, ckpt in enumerate(ckpts):\n",
        "    ax.plot(rel_data[ckpt_idx],accs[ckpt_idx],format_codes_ax[ckpt_idx], label=ckpt)\n",
        "    ax2.plot(rel_data[ckpt_idx],avg_lvl[ckpt_idx],format_codes_ax2[ckpt_idx])\n",
        "\n",
        "  ax.set_xlim(1.05, -0.05) \n",
        "  plt.xticks(np.arange(0, 1.1, step=0.1))\n",
        "  extraString = 'confidence threshold'\n",
        "  handles, labels = ax.get_legend_handles_labels()\n",
        "  handles.append(mpatches.Patch(color='none', label=extraString))\n",
        "  plt.legend(handles=handles,loc=\"center right\")\n",
        "\n",
        "  annotations = [x/100 for x in list(range(0,100,5))]\n",
        "  for index,annotation in enumerate(annotations):\n",
        "    if (index+1) % 2 == 0:\n",
        "      for ckpt_idx, ckpt in enumerate(ckpts):\n",
        "        ax.text(rel_data[ckpt_idx][index]+0.01, accs[ckpt_idx][index]+0.005,annotation,va=\"bottom\",fontdict={\"color\":colors[ckpt_idx]})"
      ],
      "execution_count": 0,
      "outputs": []
    },
    {
      "cell_type": "code",
      "metadata": {
        "id": "flegcRiRzDYX",
        "colab_type": "code",
        "colab": {}
      },
      "source": [
        "def plot_baseline_for_all_ckpts(_model_name,_run_name):\n",
        "  _model_dir = 'gs://ise-bucket/efficientnet/'+_model_name+'/'+_run_name\n",
        "  fs = gcsfs.GCSFileSystem()\n",
        "  fs.invalidate_cache(_model_dir)\n",
        "\n",
        "  accs = []\n",
        "  ckpt_nums = []\n",
        "\n",
        "  baseline_file_path = _model_dir+\"/baseline.csv\"\n",
        "  \n",
        "  if tf.gfile.Exists(baseline_file_path):\n",
        "    df_baseline = pd.read_csv(baseline_file_path)\n",
        "    accs = df_baseline[\"acc\"].values.tolist()\n",
        "    ckpt_nums = df_baseline[\"ckpt_num\"].values.tolist()\n",
        "  else:\n",
        "    df_eval = pd.read_csv(_model_dir+\"/checkpoint\",header=None)\n",
        "    ckpt_list = [ckpt.split(\": \")[1].replace('\"','') for ckpt in df_eval[0].values[1:]]\n",
        "    for ckpt in ckpt_list:\n",
        "      checkpoint_path = _model_dir+\"/\"+ckpt\n",
        "      ckpt_num = ckpt.split(\"-\")[-1]\n",
        "      ckpt_baseline_metric = load_baseline_metric_for_ckpt(_model_name,_run_name,ckpt_num)[\"baseline\"]\n",
        "      accs.append(ckpt_baseline_metric[0][0])\n",
        "      ckpt_nums.append(int(ckpt_num))\n",
        "\n",
        "    df_baseline = pd.DataFrame({\"acc\":accs, \"ckpt_num\":ckpt_nums})\n",
        "    df_baseline.to_csv(baseline_file_path)\n",
        "\n",
        "  fig, ax = plt.subplots(figsize=(20,10)) \n",
        "  plt.xlabel('step')\n",
        "  plt.ylabel('prediction accuracy')     \n",
        "\n",
        "  ax.plot(ckpt_nums,accs,\"-r\")\n",
        "  max_acc_line_x = np.arange(np.min(ckpt_nums),np.max(ckpt_nums),1)\n",
        "  max_acc_line_y = np.full(max_acc_line_x.shape, np.max(accs))\n",
        "  ax.set_xlim(0, np.max(ckpt_nums)+100) \n",
        "  idx_max = np.argmax(accs)\n",
        "  text = \"max acc.: \"+str(np.max(accs))+\" - ckpt#: \"+str(ckpt_nums[np.argmax(accs)])\n",
        "  ax.text(np.max(ckpt_nums)/2, np.max(accs) ,text,va=\"bottom\")\n",
        "  ax.plot(max_acc_line_x,max_acc_line_y,\"-b\")"
      ],
      "execution_count": 0,
      "outputs": []
    },
    {
      "cell_type": "code",
      "metadata": {
        "id": "0YX4aFpBn9DR",
        "colab_type": "code",
        "colab": {}
      },
      "source": [
        "def plot_hierarchy_metric_for_ckpts(_figure_name, _ckpt_list):\n",
        "  # ckpt list with tuples of (_model_name, _run_name, _ckpt_num, _label)\n",
        "\n",
        "  fig, ax = plt.subplots(figsize=(10,7)) \n",
        "  plt.xlabel('% of data predicted')\n",
        "  plt.ylabel('prediction accuracy')     \n",
        "  annotations = [x/100 for x in list(range(0,100,5))]\n",
        "\n",
        "  format_codes_ax = [\"#262523\",\"#12866F\",\"#2569DE\"]\n",
        "  colors = [\"red\",\"blue\",\"green\"]\n",
        "\n",
        "  for idx, ckpt in enumerate(_ckpt_list):\n",
        "    _model_name = ckpt[0]\n",
        "    _run_name = ckpt[1]\n",
        "    _ckpt_num = ckpt[2]\n",
        "    _label = ckpt[3]\n",
        "    metrics = load_metrics_for_ckpt(_model_name, _run_name, _ckpt_num)\n",
        "    accs_lvl_all,rel_data_lvl_all,avg_lvl_all = metrics[\"lvl_all\"]\n",
        "    ax.plot(rel_data_lvl_all,accs_lvl_all, format_codes_ax[idx], label=_label)\n",
        "  \n",
        "  ax.set_xlim(1.05, -0.05) \n",
        "  plt.xticks(np.arange(0, 1.1, step=0.1))\n",
        "  plt.legend(loc=\"center right\")\n",
        "  plt.savefig(_figure_name, dpi=600, facecolor='w', edgecolor='w',\n",
        "        orientation='portrait', papertype=None, format=None,\n",
        "        transparent=False, bbox_inches=None, pad_inches=0.1, metadata=None)"
      ],
      "execution_count": 0,
      "outputs": []
    },
    {
      "cell_type": "code",
      "metadata": {
        "id": "YG5jKqD83jPv",
        "colab_type": "code",
        "colab": {}
      },
      "source": [
        "def plot_avg_level_metric_for_ckpts(_figure_name, _ckpt_list):\n",
        "  # ckpt list with tuples of (_model_name, _run_name, _ckpt_num, _label)\n",
        "\n",
        "  fig, ax = plt.subplots(figsize=(10,7)) \n",
        "  plt.xlabel('% of data predicted')\n",
        "  plt.ylabel('avg. prediction level')     \n",
        "  annotations = [x/100 for x in list(range(0,100,5))]\n",
        "\n",
        "  format_codes_ax = [\"#262523\",\"#12866F\",\"#2569DE\"]\n",
        "  colors = [\"red\",\"blue\",\"green\"]\n",
        "\n",
        "  for idx, ckpt in enumerate(_ckpt_list):\n",
        "    _model_name = ckpt[0]\n",
        "    _run_name = ckpt[1]\n",
        "    _ckpt_num = ckpt[2]\n",
        "    _label = ckpt[3]\n",
        "    metrics = load_metrics_for_ckpt(_model_name, _run_name, _ckpt_num)\n",
        "    accs_lvl_all,rel_data_lvl_all,avg_lvl_all = metrics[\"lvl_all\"]\n",
        "    ax.plot(rel_data_lvl_all,avg_lvl_all, format_codes_ax[idx], label=_label)\n",
        "  \n",
        "  ax.set_xlim(1.05, -0.05) \n",
        "  plt.xticks(np.arange(0, 1.1, step=0.1))\n",
        "  plt.legend(loc=\"center right\")\n",
        "  plt.savefig(_figure_name, dpi=600, facecolor='w', edgecolor='w',\n",
        "        orientation='portrait', papertype=None, format=None,\n",
        "        transparent=False, bbox_inches=None, pad_inches=0.1, metadata=None)"
      ],
      "execution_count": 0,
      "outputs": []
    },
    {
      "cell_type": "code",
      "metadata": {
        "id": "lDlJy-gS7BAc",
        "colab_type": "code",
        "colab": {}
      },
      "source": [
        "def plot_baseline_vs_tf_hierarchy_metric_for_ckpt(_figure_name, _model_name, _run_name, _ckpt_num):\n",
        "  metrics = load_metrics_for_ckpt(_model_name, _run_name, _ckpt_num)\n",
        "\n",
        "  accs_lvl_all,rel_data_lvl_all,avg_lvl_all = metrics[\"lvl_all\"]\n",
        "  accs,rel_data,avg_lvl = metrics[\"baseline\"]\n",
        "\n",
        "  fig, ax = plt.subplots(figsize=(10,7)) \n",
        "  plt.xlabel('% of data predicted')\n",
        "  plt.ylabel('prediction accuracy') \n",
        "\n",
        "  ax.plot(rel_data,accs,\"#12866F\", label=\"standard classifier predictions above threshold\")\n",
        "  ax.plot(rel_data_lvl_all,accs_lvl_all,\"#262523\",label=\"predictions on lowest possible level above threshold\")\n",
        "\n",
        "  ax.set_xlim(1.05, -0.05) \n",
        "  plt.legend(loc=\"lower right\")\n",
        "  plt.xticks(np.arange(0, 1.1, step=0.1))\n",
        "\n",
        "  plt.xlabel('% of data predicted')\n",
        "  plt.ylabel('prediction accuracy')     \n",
        "  annotations = [x/100 for x in list(range(0,100,5))]\n",
        "\n",
        "  format_codes_ax = [\"#262523\",\"#12866F\",\"#2569DE\"]\n",
        "  colors = [\"red\",\"blue\",\"green\"]\n",
        "  \n",
        "  plt.savefig(_figure_name, dpi=600, facecolor='w', edgecolor='w',\n",
        "        orientation='portrait', papertype=None, format=None,\n",
        "        transparent=False, bbox_inches=None, pad_inches=0.1, metadata=None)"
      ],
      "execution_count": 0,
      "outputs": []
    },
    {
      "cell_type": "code",
      "metadata": {
        "id": "b8nAXYnu9RzE",
        "colab_type": "code",
        "colab": {}
      },
      "source": [
        "def plot_baseline_vs_tf_avg_level_metric_for_ckpts(_figure_name, _model_name, _run_name, _ckpt_num):\n",
        "  metrics = load_metrics_for_ckpt(_model_name, _run_name, _ckpt_num)\n",
        "\n",
        "  accs_lvl_all,rel_data_lvl_all,avg_lvl_all = metrics[\"lvl_all\"]\n",
        "  accs,rel_data,avg_lvl = metrics[\"baseline\"]\n",
        "\n",
        "  fig, ax = plt.subplots(figsize=(10,7)) \n",
        "  \n",
        "  ax.plot(rel_data,avg_lvl,\"#12866F\", label=\"standard classifier predictions above threshold\")\n",
        "  ax.plot(rel_data_lvl_all,avg_lvl_all,\"#262523\",label=\"predictions on lowest possible level above threshold\")\n",
        "\n",
        "  ax.set_xlim(1.05, -0.05) \n",
        "  plt.legend(loc=\"lower right\")\n",
        "  plt.xticks(np.arange(0, 1.1, step=0.1))\n",
        "\n",
        "  plt.xlabel('% of data predicted')\n",
        "  plt.ylabel('avg. level of prediction')     \n",
        "  annotations = [x/100 for x in list(range(0,100,5))]\n",
        "\n",
        "  format_codes_ax = [\"#262523\",\"#12866F\",\"#2569DE\"]\n",
        "  colors = [\"red\",\"blue\",\"green\"]\n",
        "  \n",
        "  plt.savefig(_figure_name, dpi=600, facecolor='w', edgecolor='w',\n",
        "        orientation='portrait', papertype=None, format=None,\n",
        "        transparent=False, bbox_inches=None, pad_inches=0.1, metadata=None)"
      ],
      "execution_count": 0,
      "outputs": []
    },
    {
      "cell_type": "markdown",
      "metadata": {
        "id": "q7YJnLuECe6J",
        "colab_type": "text"
      },
      "source": [
        "##Run Evaluation (Create plots for report)"
      ]
    },
    {
      "cell_type": "code",
      "metadata": {
        "id": "3YlBIg2X6kxF",
        "colab_type": "code",
        "colab": {
          "base_uri": "https://localhost:8080/",
          "height": 474
        },
        "outputId": "a0655059-9e9b-4e43-b064-8b78baa18c79"
      },
      "source": [
        "plot_baseline_vs_tf_hierarchy_metric_for_ckpt(\"Baseline vs Hierarchy Acc\",\"efficientnet-b0\",\"FT-28-01-20-8\",\"7800\")"
      ],
      "execution_count": 41,
      "outputs": [
        {
          "output_type": "stream",
          "text": [
            "load metrics for ckpt: gs://ise-bucket/efficientnet/efficientnet-b0/FT-28-01-20-8/model.ckpt-7800\n",
            "check for metrics in gs://ise-bucket/efficientnet/efficientnet-b0/FT-28-01-20-8 for ckpt num 7800\n"
          ],
          "name": "stdout"
        },
        {
          "output_type": "display_data",
          "data": {
            "image/png": "[encoded data removed]",
            "text/plain": [
              "<Figure size 720x504 with 1 Axes>"
            ]
          },
          "metadata": {
            "tags": []
          }
        }
      ]
    },
    {
      "cell_type": "code",
      "metadata": {
        "id": "bDcbMH826r-d",
        "colab_type": "code",
        "colab": {
          "base_uri": "https://localhost:8080/",
          "height": 475
        },
        "outputId": "fe038f9b-ec8d-47e3-e36f-2879725808be"
      },
      "source": [
        "plot_baseline_vs_tf_avg_level_metric_for_ckpts(\"Baseline vs Hierarchy Level\",\"efficientnet-b0\",\"FT-28-01-20-8\",\"7000\")"
      ],
      "execution_count": 42,
      "outputs": [
        {
          "output_type": "stream",
          "text": [
            "load metrics for ckpt: gs://ise-bucket/efficientnet/efficientnet-b0/FT-28-01-20-8/model.ckpt-7000\n",
            "check for metrics in gs://ise-bucket/efficientnet/efficientnet-b0/FT-28-01-20-8 for ckpt num 7000\n"
          ],
          "name": "stdout"
        },
        {
          "output_type": "display_data",
          "data": {
            "image/png": "[encoded data removed]",
            "text/plain": [
              "<Figure size 720x504 with 1 Axes>"
            ]
          },
          "metadata": {
            "tags": []
          }
        }
      ]
    },
    {
      "cell_type": "code",
      "metadata": {
        "id": "8kibdlSIpRh9",
        "colab_type": "code",
        "colab": {
          "base_uri": "https://localhost:8080/",
          "height": 507
        },
        "outputId": "d918561d-7d81-4347-f2d5-e6660058c233"
      },
      "source": [
        "plot_hierarchy_metric_for_ckpts(\"Dataset L vs Dataset XL Hierarchy\",[(\"efficientnet-b0\",\"FT-28-01-20-8\",\"7800\", \"Model B0 - Dataset L\"),(\"efficientnet-b0\",\"FT-02-02-20-4\",\"35000\", \"Model B0 - Dataset XL\")])"
      ],
      "execution_count": 43,
      "outputs": [
        {
          "output_type": "stream",
          "text": [
            "load metrics for ckpt: gs://ise-bucket/efficientnet/efficientnet-b0/FT-28-01-20-8/model.ckpt-7800\n",
            "check for metrics in gs://ise-bucket/efficientnet/efficientnet-b0/FT-28-01-20-8 for ckpt num 7800\n",
            "load metrics for ckpt: gs://ise-bucket/efficientnet/efficientnet-b0/FT-02-02-20-4/model.ckpt-35000\n",
            "check for metrics in gs://ise-bucket/efficientnet/efficientnet-b0/FT-02-02-20-4 for ckpt num 35000\n"
          ],
          "name": "stdout"
        },
        {
          "output_type": "display_data",
          "data": {
            "image/png": "[encoded data removed]",
            "text/plain": [
              "<Figure size 720x504 with 1 Axes>"
            ]
          },
          "metadata": {
            "tags": []
          }
        }
      ]
    },
    {
      "cell_type": "code",
      "metadata": {
        "id": "X6fgaCTN3xJ_",
        "colab_type": "code",
        "colab": {
          "base_uri": "https://localhost:8080/",
          "height": 508
        },
        "outputId": "d9a59911-8914-48bb-b1f4-242016862466"
      },
      "source": [
        "plot_avg_level_metric_for_ckpts(\"Dataset L vs Dataset XL Level\",[(\"efficientnet-b0\",\"FT-28-01-20-8\",\"7800\", \"Model B0 - Dataset L\"),(\"efficientnet-b0\",\"FT-02-02-20-4\",\"35000\", \"Model B0 - Dataset XL\")])"
      ],
      "execution_count": 44,
      "outputs": [
        {
          "output_type": "stream",
          "text": [
            "load metrics for ckpt: gs://ise-bucket/efficientnet/efficientnet-b0/FT-28-01-20-8/model.ckpt-7800\n",
            "check for metrics in gs://ise-bucket/efficientnet/efficientnet-b0/FT-28-01-20-8 for ckpt num 7800\n",
            "load metrics for ckpt: gs://ise-bucket/efficientnet/efficientnet-b0/FT-02-02-20-4/model.ckpt-35000\n",
            "check for metrics in gs://ise-bucket/efficientnet/efficientnet-b0/FT-02-02-20-4 for ckpt num 35000\n"
          ],
          "name": "stdout"
        },
        {
          "output_type": "display_data",
          "data": {
            "image/png": "[encoded data removed]",
            "text/plain": [
              "<Figure size 720x504 with 1 Axes>"
            ]
          },
          "metadata": {
            "tags": []
          }
        }
      ]
    },
    {
      "cell_type": "code",
      "metadata": {
        "id": "k3ZqpbhcxBG7",
        "colab_type": "code",
        "colab": {
          "base_uri": "https://localhost:8080/",
          "height": 540
        },
        "outputId": "5a12f83f-00e5-471d-edf5-e9b1b3f5fcd3"
      },
      "source": [
        "plot_hierarchy_metric_for_ckpts(\"Dataset Quality Hierarchy\",[(\"efficientnet-b0\",\"FT-28-01-20-8\",\"7800\", \"Model B0 - Dataset L\"),(\"efficientnet-b0\",\"FT-30-01-20-2\",\"7000\", \"Model B0 - Dataset L Denoised\"),(\"efficientnet-b0\",\"FT-02-02-20-5\",\"6800\", \"Model B0 - Dataset L Balanced\")])"
      ],
      "execution_count": 45,
      "outputs": [
        {
          "output_type": "stream",
          "text": [
            "load metrics for ckpt: gs://ise-bucket/efficientnet/efficientnet-b0/FT-28-01-20-8/model.ckpt-7800\n",
            "check for metrics in gs://ise-bucket/efficientnet/efficientnet-b0/FT-28-01-20-8 for ckpt num 7800\n",
            "load metrics for ckpt: gs://ise-bucket/efficientnet/efficientnet-b0/FT-30-01-20-2/model.ckpt-7000\n",
            "check for metrics in gs://ise-bucket/efficientnet/efficientnet-b0/FT-30-01-20-2 for ckpt num 7000\n",
            "load metrics for ckpt: gs://ise-bucket/efficientnet/efficientnet-b0/FT-02-02-20-5/model.ckpt-6800\n",
            "check for metrics in gs://ise-bucket/efficientnet/efficientnet-b0/FT-02-02-20-5 for ckpt num 6800\n"
          ],
          "name": "stdout"
        },
        {
          "output_type": "display_data",
          "data": {
            "image/png": "[encoded data removed]",
            "text/plain": [
              "<Figure size 720x504 with 1 Axes>"
            ]
          },
          "metadata": {
            "tags": []
          }
        }
      ]
    },
    {
      "cell_type": "code",
      "metadata": {
        "id": "4lXubzbB3_fL",
        "colab_type": "code",
        "colab": {
          "base_uri": "https://localhost:8080/",
          "height": 540
        },
        "outputId": "727499c8-f48e-4460-ae98-7685d78fb06e"
      },
      "source": [
        "plot_avg_level_metric_for_ckpts(\"Dataset Quality Level\",[(\"efficientnet-b0\",\"FT-28-01-20-8\",\"7800\", \"Model B0 - Dataset L\"),(\"efficientnet-b0\",\"FT-30-01-20-2\",\"7000\", \"Model B0 - Dataset L Denoised\"),(\"efficientnet-b0\",\"FT-02-02-20-5\",\"6800\", \"Model B0 - Dataset L Balanced\")])"
      ],
      "execution_count": 46,
      "outputs": [
        {
          "output_type": "stream",
          "text": [
            "load metrics for ckpt: gs://ise-bucket/efficientnet/efficientnet-b0/FT-28-01-20-8/model.ckpt-7800\n",
            "check for metrics in gs://ise-bucket/efficientnet/efficientnet-b0/FT-28-01-20-8 for ckpt num 7800\n",
            "load metrics for ckpt: gs://ise-bucket/efficientnet/efficientnet-b0/FT-30-01-20-2/model.ckpt-7000\n",
            "check for metrics in gs://ise-bucket/efficientnet/efficientnet-b0/FT-30-01-20-2 for ckpt num 7000\n",
            "load metrics for ckpt: gs://ise-bucket/efficientnet/efficientnet-b0/FT-02-02-20-5/model.ckpt-6800\n",
            "check for metrics in gs://ise-bucket/efficientnet/efficientnet-b0/FT-02-02-20-5 for ckpt num 6800\n"
          ],
          "name": "stdout"
        },
        {
          "output_type": "display_data",
          "data": {
            "image/png": "[encoded data removed]",
            "text/plain": [
              "<Figure size 720x504 with 1 Axes>"
            ]
          },
          "metadata": {
            "tags": []
          }
        }
      ]
    },
    {
      "cell_type": "code",
      "metadata": {
        "id": "8EoY_il9yR-o",
        "colab_type": "code",
        "colab": {
          "base_uri": "https://localhost:8080/",
          "height": 542
        },
        "outputId": "15713471-b0fb-4e9a-8854-6967cdf36946"
      },
      "source": [
        "plot_hierarchy_metric_for_ckpts(\"Learning Strategies Hierarchy\",[(\"efficientnet-b0\",\"FT-28-01-20-8\",\"7800\", \"Model B0 - Pretrained Initialization\"),(\"efficientnet-b0\",\"FT-02-02-20-6-scratch\",\"29375\", \"Model B0 - Training from Scratch\"),(\"efficientnet-b0\",\"FT-02-02-20-10-warm\",\"6000\", \"Model B0 - Pretrained Initialization with FC Head Warm Start\")])"
      ],
      "execution_count": 47,
      "outputs": [
        {
          "output_type": "stream",
          "text": [
            "load metrics for ckpt: gs://ise-bucket/efficientnet/efficientnet-b0/FT-28-01-20-8/model.ckpt-7800\n",
            "check for metrics in gs://ise-bucket/efficientnet/efficientnet-b0/FT-28-01-20-8 for ckpt num 7800\n",
            "load metrics for ckpt: gs://ise-bucket/efficientnet/efficientnet-b0/FT-02-02-20-6-scratch/model.ckpt-29375\n",
            "check for metrics in gs://ise-bucket/efficientnet/efficientnet-b0/FT-02-02-20-6-scratch for ckpt num 29375\n",
            "load metrics for ckpt: gs://ise-bucket/efficientnet/efficientnet-b0/FT-02-02-20-10-warm/model.ckpt-6000\n",
            "check for metrics in gs://ise-bucket/efficientnet/efficientnet-b0/FT-02-02-20-10-warm for ckpt num 6000\n"
          ],
          "name": "stdout"
        },
        {
          "output_type": "display_data",
          "data": {
            "image/png": "[encoded data removed]",
            "text/plain": [
              "<Figure size 720x504 with 1 Axes>"
            ]
          },
          "metadata": {
            "tags": []
          }
        }
      ]
    },
    {
      "cell_type": "code",
      "metadata": {
        "id": "G7wKm-bY4VuK",
        "colab_type": "code",
        "colab": {
          "base_uri": "https://localhost:8080/",
          "height": 540
        },
        "outputId": "2974d9f9-20a6-4dca-c012-e15577c53bfd"
      },
      "source": [
        "plot_avg_level_metric_for_ckpts(\"Learning Strategies Level\",[(\"efficientnet-b0\",\"FT-28-01-20-8\",\"7800\", \"Model B0 - Pretrained Initialization\"),(\"efficientnet-b0\",\"FT-02-02-20-6-scratch\",\"29375\", \"Model B0 - Training from Scratch\"),(\"efficientnet-b0\",\"FT-02-02-20-10-warm\",\"6000\", \"Model B0 - Pretrained Initialization with FC Head Warm Start\")])"
      ],
      "execution_count": 48,
      "outputs": [
        {
          "output_type": "stream",
          "text": [
            "load metrics for ckpt: gs://ise-bucket/efficientnet/efficientnet-b0/FT-28-01-20-8/model.ckpt-7800\n",
            "check for metrics in gs://ise-bucket/efficientnet/efficientnet-b0/FT-28-01-20-8 for ckpt num 7800\n",
            "load metrics for ckpt: gs://ise-bucket/efficientnet/efficientnet-b0/FT-02-02-20-6-scratch/model.ckpt-29375\n",
            "check for metrics in gs://ise-bucket/efficientnet/efficientnet-b0/FT-02-02-20-6-scratch for ckpt num 29375\n",
            "load metrics for ckpt: gs://ise-bucket/efficientnet/efficientnet-b0/FT-02-02-20-10-warm/model.ckpt-6000\n",
            "check for metrics in gs://ise-bucket/efficientnet/efficientnet-b0/FT-02-02-20-10-warm for ckpt num 6000\n"
          ],
          "name": "stdout"
        },
        {
          "output_type": "display_data",
          "data": {
            "image/png": "[encoded data removed]",
            "text/plain": [
              "<Figure size 720x504 with 1 Axes>"
            ]
          },
          "metadata": {
            "tags": []
          }
        }
      ]
    },
    {
      "cell_type": "markdown",
      "metadata": {
        "id": "AFG1a2OcIPRE",
        "colab_type": "text"
      },
      "source": [
        "#Predict single Image\n"
      ]
    },
    {
      "cell_type": "markdown",
      "metadata": {
        "id": "2TeLkTj3VHVW",
        "colab_type": "text"
      },
      "source": [
        "functions to predict single image"
      ]
    },
    {
      "cell_type": "code",
      "metadata": {
        "id": "WrbALKOnBNp1",
        "colab_type": "code",
        "colab": {}
      },
      "source": [
        "import utils as ut\n",
        "import preprocessing\n",
        "from IPython import display\n",
        "\n",
        "class EvalCkptDriver(ut.EvalCkptDriver):\n",
        "  \"\"\"A driver for running eval inference.\"\"\"\n",
        "\n",
        "  def build_model(self, features, is_training):\n",
        "    \"\"\"Build model using the model_name given through the command line.\"\"\"\n",
        "    model_builder = efficientnet_builder\n",
        "\n",
        "    \n",
        "    features -= tf.constant(\n",
        "        model_builder.MEAN_RGB, shape=[1, 1, 3], dtype=features.dtype)\n",
        "    features /= tf.constant(\n",
        "        model_builder.STDDEV_RGB, shape=[1, 1, 3], dtype=features.dtype)\n",
        "    \n",
        "    output_layer, endpoints = model_builder.build_model(\n",
        "        features,\n",
        "        model_name=model_name,\n",
        "        fine_tuning = True,\n",
        "        pooled_features_only = False,\n",
        "        features_only = False,\n",
        "        training=is_training,\n",
        "        model_dir=model_dir) #model_dir used for saving configs\n",
        "\n",
        "      \n",
        "    # new architecture\n",
        "\n",
        "    def dense_kernel_initializer(shape, dtype=None, partition_info=None):\n",
        "      del partition_info\n",
        "      init_range = 1.0 / np.sqrt(shape[1])\n",
        "      return tf.random_uniform(shape, -init_range, init_range, dtype=dtype)\n",
        "\n",
        "    _fc = tf.layers.Dense(\n",
        "            num_label_classes,\n",
        "            kernel_initializer=dense_kernel_initializer,name = \"ldense\")\n",
        "      \n",
        "    logits = _fc(endpoints['global_pool'])\n",
        "\n",
        "    probs = tf.nn.softmax(logits)\n",
        "    probs = tf.squeeze(probs)\n",
        "\n",
        "    return probs\n",
        "\n",
        "  def get_preprocess_fn(self):\n",
        "    \"\"\"Build input dataset.\"\"\"\n",
        "    return preprocessing.preprocess_image\n",
        "\n",
        "  def eval_example_images(self,\n",
        "                          ckpt_dir,\n",
        "                          image_files,\n",
        "                          labels_map_reverse,\n",
        "                          enable_ema=True,\n",
        "                          export_ckpt=None):\n",
        "    \"\"\"Eval a list of example images.\n",
        "\n",
        "    Args:\n",
        "      ckpt_dir: str. Checkpoint directory path.\n",
        "      image_files: List[str]. A list of image file paths.\n",
        "      labels_map_file: str. The labels map file path.\n",
        "      enable_ema: enable expotential moving average.\n",
        "      export_ckpt: export ckpt folder.\n",
        "\n",
        "    Returns:\n",
        "      A tuple (pred_idx, and pred_prob), where pred_idx is the top 5 prediction\n",
        "      index and pred_prob is the top 5 prediction probability.\n",
        "    \"\"\"\n",
        "    classes = labels_map_reverse\n",
        "    out_probs, pred_idx, pred_prob = self.run_inference(\n",
        "        ckpt_dir, image_files, [0] * len(image_files), enable_ema, export_ckpt)\n",
        "    for i in range(len(image_files)):\n",
        "      print('predicted classes for image {}: '.format(image_files[i]))\n",
        "      for j, idx in enumerate(pred_idx[i]):\n",
        "        print('  -> top_{} ({:4.2f}%): {}  '.format(j, pred_prob[i][j] * 100,\n",
        "                                                    classes[idx]))\n",
        "    return out_probs, pred_idx, pred_prob\n",
        "\n",
        "  def run_inference(self,\n",
        "                    ckpt_dir,\n",
        "                    image_files,\n",
        "                    labels,\n",
        "                    enable_ema=True,\n",
        "                    export_ckpt=None):\n",
        "    \"\"\"Build and run inference on the target images and labels.\"\"\"\n",
        "    label_offset = 1 if self.include_background_label else 0\n",
        "    with tf.Graph().as_default(), tf.Session() as sess:\n",
        "      images, labels = self.build_dataset(image_files, labels, False)\n",
        "      probs = self.build_model(images, is_training=False)\n",
        "      if isinstance(probs, tuple):\n",
        "        probs = probs[0]\n",
        "\n",
        "      self.restore_model(sess, ckpt_dir, enable_ema, export_ckpt)\n",
        "\n",
        "      prediction_idx = []\n",
        "      prediction_prob = []\n",
        "      for _ in range(len(image_files) // self.batch_size):\n",
        "        out_probs = sess.run(probs)\n",
        "        idx = np.argsort(out_probs)[::-1]\n",
        "        prediction_idx.append(idx[:5] - label_offset)\n",
        "        prediction_prob.append([out_probs[pid] for pid in idx[:5]])\n",
        "\n",
        "      # Return the top 5 predictions (idx and prob) for each image.\n",
        "      return out_probs, prediction_idx, prediction_prob\n",
        "\n",
        "\n",
        "\n",
        "def get_eval_driver(model_name,image_size,num_classes,include_background_label=False):\n",
        "  return EvalCkptDriver(\n",
        "      model_name=model_name,\n",
        "      batch_size=1,\n",
        "      image_size=input_image_size,\n",
        "      num_classes = num_label_classes,\n",
        "      include_background_label=include_background_label)\n"
      ],
      "execution_count": 0,
      "outputs": []
    },
    {
      "cell_type": "markdown",
      "metadata": {
        "id": "C9TqBHEuh0tn",
        "colab_type": "text"
      },
      "source": [
        "predict single image"
      ]
    },
    {
      "cell_type": "code",
      "metadata": {
        "id": "GPROjn3W7ugT",
        "colab_type": "code",
        "colab": {}
      },
      "source": [
        "# Provide url to image to predict its rdf:type\n",
        "!wget https://s.hs-data.com/picmon/e7/3dxW_7034Lh_l.jpg -O image_to_pred.jpeg\n",
        "\n",
        "# Display image\n",
        "image_file = 'image_to_pred.jpeg'\n",
        "display.display(display.Image(image_file))\n",
        "\n",
        "# Read Labels\n",
        "df = pd.read_csv('gs://ise-bucket/efficientnet/configs/config_3/labels_map.csv',index_col=None)\n",
        "labels_map_reverse = dict(zip(df.label_index, df.label))\n",
        "\n",
        "# Set up Evaludation Driver\n",
        "eval_driver = get_eval_driver(\n",
        "      model_name=model_name,\n",
        "      image_size=input_image_size,\n",
        "      num_classes = num_label_classes,\n",
        "      include_background_label=include_background_label)\n",
        "\n",
        "# Predict\n",
        "out_probs, pred_idx, pred_prob = eval_driver.eval_example_images(model_dir, [image_file], labels_map_reverse)\n",
        "print(\"predicted classes for aggregated confidences:\")\n",
        "agg_conf_per_image_dict,top_pred_per_level_per_image = calc_agg_confs([{\"probabilities\":out_probs}])\n",
        "agg_confs_and_labels = [(agg_conf_per_image_dict[0][label],all_labels[label]) for label in all_labels_index]\n",
        "agg_confs_and_labels = sorted(agg_confs_and_labels, reverse=True, key=lambda x: x[0])\n",
        "for j, prediction in enumerate(conf[:5]):\n",
        "        print('  -> top_{} ({:4.2f}%): {}  '.format(j, prediction[0] * 100,\n",
        "                                                    prediction[1]))"
      ],
      "execution_count": 0,
      "outputs": []
    }
  ]
}
